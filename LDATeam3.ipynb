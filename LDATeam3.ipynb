{
 "cells": [
  {
   "cell_type": "code",
   "execution_count": 2,
   "id": "5a6fb39d-8866-4be2-8529-d3145dde7f06",
   "metadata": {},
   "outputs": [
    {
     "name": "stdout",
     "output_type": "stream",
     "text": [
      "Requirement already satisfied: pandas in /opt/conda/lib/python3.7/site-packages (1.3.5)\n",
      "Requirement already satisfied: pytz>=2017.3 in /opt/conda/lib/python3.7/site-packages (from pandas) (2019.3)\n",
      "Requirement already satisfied: numpy>=1.17.3 in /opt/conda/lib/python3.7/site-packages (from pandas) (1.21.6)\n",
      "Requirement already satisfied: python-dateutil>=2.7.3 in /opt/conda/lib/python3.7/site-packages (from pandas) (2.8.1)\n",
      "Requirement already satisfied: six>=1.5 in /opt/conda/lib/python3.7/site-packages (from python-dateutil>=2.7.3->pandas) (1.14.0)\n",
      "\u001b[33mWARNING: Running pip as the 'root' user can result in broken permissions and conflicting behaviour with the system package manager. It is recommended to use a virtual environment instead: https://pip.pypa.io/warnings/venv\u001b[0m\u001b[33m\n",
      "\u001b[0m\n",
      "\u001b[1m[\u001b[0m\u001b[34;49mnotice\u001b[0m\u001b[1;39;49m]\u001b[0m\u001b[39;49m A new release of pip available: \u001b[0m\u001b[31;49m22.2.2\u001b[0m\u001b[39;49m -> \u001b[0m\u001b[32;49m22.3\u001b[0m\n",
      "\u001b[1m[\u001b[0m\u001b[34;49mnotice\u001b[0m\u001b[1;39;49m]\u001b[0m\u001b[39;49m To update, run: \u001b[0m\u001b[32;49mpip install --upgrade pip\u001b[0m\n",
      "Note: you may need to restart the kernel to use updated packages.\n"
     ]
    }
   ],
   "source": [
    "pip install pandas"
   ]
  },
  {
   "cell_type": "code",
   "execution_count": 3,
   "id": "a5a86723-13cc-437d-a897-ebe3f4e06d26",
   "metadata": {},
   "outputs": [
    {
     "name": "stdout",
     "output_type": "stream",
     "text": [
      "Requirement already satisfied: boto3 in /opt/conda/lib/python3.7/site-packages (1.24.62)\n",
      "Requirement already satisfied: botocore<1.28.0,>=1.27.62 in /opt/conda/lib/python3.7/site-packages (from boto3) (1.27.62)\n",
      "Requirement already satisfied: jmespath<2.0.0,>=0.7.1 in /opt/conda/lib/python3.7/site-packages (from boto3) (1.0.1)\n",
      "Requirement already satisfied: s3transfer<0.7.0,>=0.6.0 in /opt/conda/lib/python3.7/site-packages (from boto3) (0.6.0)\n",
      "Requirement already satisfied: python-dateutil<3.0.0,>=2.1 in /opt/conda/lib/python3.7/site-packages (from botocore<1.28.0,>=1.27.62->boto3) (2.8.1)\n",
      "Requirement already satisfied: urllib3<1.27,>=1.25.4 in /opt/conda/lib/python3.7/site-packages (from botocore<1.28.0,>=1.27.62->boto3) (1.26.12)\n",
      "Requirement already satisfied: six>=1.5 in /opt/conda/lib/python3.7/site-packages (from python-dateutil<3.0.0,>=2.1->botocore<1.28.0,>=1.27.62->boto3) (1.14.0)\n",
      "\u001b[33mWARNING: Running pip as the 'root' user can result in broken permissions and conflicting behaviour with the system package manager. It is recommended to use a virtual environment instead: https://pip.pypa.io/warnings/venv\u001b[0m\u001b[33m\n",
      "\u001b[0m\n",
      "\u001b[1m[\u001b[0m\u001b[34;49mnotice\u001b[0m\u001b[1;39;49m]\u001b[0m\u001b[39;49m A new release of pip available: \u001b[0m\u001b[31;49m22.2.2\u001b[0m\u001b[39;49m -> \u001b[0m\u001b[32;49m22.3\u001b[0m\n",
      "\u001b[1m[\u001b[0m\u001b[34;49mnotice\u001b[0m\u001b[1;39;49m]\u001b[0m\u001b[39;49m To update, run: \u001b[0m\u001b[32;49mpip install --upgrade pip\u001b[0m\n",
      "Note: you may need to restart the kernel to use updated packages.\n"
     ]
    }
   ],
   "source": [
    "%pip install boto3"
   ]
  },
  {
   "cell_type": "code",
   "execution_count": 4,
   "id": "63ad5764-762e-4e0a-96b9-1788dd8bc641",
   "metadata": {},
   "outputs": [
    {
     "name": "stdout",
     "output_type": "stream",
     "text": [
      "Collecting contractions\n",
      "  Using cached contractions-0.1.72-py2.py3-none-any.whl (8.3 kB)\n",
      "Collecting textsearch>=0.0.21\n",
      "  Using cached textsearch-0.0.24-py2.py3-none-any.whl (7.6 kB)\n",
      "Collecting pyahocorasick\n",
      "  Using cached pyahocorasick-1.4.4-cp37-cp37m-manylinux_2_17_x86_64.manylinux2014_x86_64.whl (106 kB)\n",
      "Collecting anyascii\n",
      "  Using cached anyascii-0.3.1-py3-none-any.whl (287 kB)\n",
      "Installing collected packages: pyahocorasick, anyascii, textsearch, contractions\n",
      "Successfully installed anyascii-0.3.1 contractions-0.1.72 pyahocorasick-1.4.4 textsearch-0.0.24\n",
      "\u001b[33mWARNING: Running pip as the 'root' user can result in broken permissions and conflicting behaviour with the system package manager. It is recommended to use a virtual environment instead: https://pip.pypa.io/warnings/venv\u001b[0m\u001b[33m\n",
      "\u001b[0m\n",
      "\u001b[1m[\u001b[0m\u001b[34;49mnotice\u001b[0m\u001b[1;39;49m]\u001b[0m\u001b[39;49m A new release of pip available: \u001b[0m\u001b[31;49m22.2.2\u001b[0m\u001b[39;49m -> \u001b[0m\u001b[32;49m22.3\u001b[0m\n",
      "\u001b[1m[\u001b[0m\u001b[34;49mnotice\u001b[0m\u001b[1;39;49m]\u001b[0m\u001b[39;49m To update, run: \u001b[0m\u001b[32;49mpip install --upgrade pip\u001b[0m\n",
      "Note: you may need to restart the kernel to use updated packages.\n"
     ]
    }
   ],
   "source": [
    "pip install contractions"
   ]
  },
  {
   "cell_type": "code",
   "execution_count": 5,
   "id": "4a62fea3-55b7-4853-b4a9-c0008da82f8d",
   "metadata": {},
   "outputs": [
    {
     "name": "stdout",
     "output_type": "stream",
     "text": [
      "Collecting gensim\n",
      "  Using cached gensim-4.2.0-cp37-cp37m-manylinux_2_12_x86_64.manylinux2010_x86_64.whl (24.1 MB)\n",
      "Collecting smart-open>=1.8.1\n",
      "  Using cached smart_open-6.2.0-py3-none-any.whl (58 kB)\n",
      "Requirement already satisfied: numpy>=1.17.0 in /opt/conda/lib/python3.7/site-packages (from gensim) (1.21.6)\n",
      "Requirement already satisfied: scipy>=0.18.1 in /opt/conda/lib/python3.7/site-packages (from gensim) (1.4.1)\n",
      "Installing collected packages: smart-open, gensim\n",
      "Successfully installed gensim-4.2.0 smart-open-6.2.0\n",
      "\u001b[33mWARNING: Running pip as the 'root' user can result in broken permissions and conflicting behaviour with the system package manager. It is recommended to use a virtual environment instead: https://pip.pypa.io/warnings/venv\u001b[0m\u001b[33m\n",
      "\u001b[0m\n",
      "\u001b[1m[\u001b[0m\u001b[34;49mnotice\u001b[0m\u001b[1;39;49m]\u001b[0m\u001b[39;49m A new release of pip available: \u001b[0m\u001b[31;49m22.2.2\u001b[0m\u001b[39;49m -> \u001b[0m\u001b[32;49m22.3\u001b[0m\n",
      "\u001b[1m[\u001b[0m\u001b[34;49mnotice\u001b[0m\u001b[1;39;49m]\u001b[0m\u001b[39;49m To update, run: \u001b[0m\u001b[32;49mpip install --upgrade pip\u001b[0m\n",
      "Note: you may need to restart the kernel to use updated packages.\n"
     ]
    }
   ],
   "source": [
    "pip install gensim"
   ]
  },
  {
   "cell_type": "code",
   "execution_count": 6,
   "id": "f94bcb20-0448-4bcb-ba19-a923ae08ae45",
   "metadata": {},
   "outputs": [
    {
     "name": "stdout",
     "output_type": "stream",
     "text": [
      "Collecting spacy\n",
      "  Using cached spacy-3.4.2-cp37-cp37m-manylinux_2_17_x86_64.manylinux2014_x86_64.whl (6.4 MB)\n",
      "Collecting wasabi<1.1.0,>=0.9.1\n",
      "  Using cached wasabi-0.10.1-py3-none-any.whl (26 kB)\n",
      "Requirement already satisfied: setuptools in /opt/conda/lib/python3.7/site-packages (from spacy) (59.3.0)\n",
      "Collecting srsly<3.0.0,>=2.4.3\n",
      "  Using cached srsly-2.4.5-cp37-cp37m-manylinux_2_17_x86_64.manylinux2014_x86_64.whl (490 kB)\n",
      "Collecting typing-extensions<4.2.0,>=3.7.4\n",
      "  Using cached typing_extensions-4.1.1-py3-none-any.whl (26 kB)\n",
      "Collecting catalogue<2.1.0,>=2.0.6\n",
      "  Using cached catalogue-2.0.8-py3-none-any.whl (17 kB)\n",
      "Collecting typer<0.5.0,>=0.3.0\n",
      "  Using cached typer-0.4.2-py3-none-any.whl (27 kB)\n",
      "Collecting langcodes<4.0.0,>=3.2.0\n",
      "  Using cached langcodes-3.3.0-py3-none-any.whl (181 kB)\n",
      "Collecting spacy-legacy<3.1.0,>=3.0.10\n",
      "  Using cached spacy_legacy-3.0.10-py2.py3-none-any.whl (21 kB)\n",
      "Collecting spacy-loggers<2.0.0,>=1.0.0\n",
      "  Using cached spacy_loggers-1.0.3-py3-none-any.whl (9.3 kB)\n",
      "Requirement already satisfied: jinja2 in /opt/conda/lib/python3.7/site-packages (from spacy) (3.1.2)\n",
      "Collecting cymem<2.1.0,>=2.0.2\n",
      "  Using cached cymem-2.0.7-cp37-cp37m-manylinux_2_17_x86_64.manylinux2014_x86_64.whl (36 kB)\n",
      "Requirement already satisfied: requests<3.0.0,>=2.13.0 in /opt/conda/lib/python3.7/site-packages (from spacy) (2.28.1)\n",
      "Collecting preshed<3.1.0,>=3.0.2\n",
      "  Using cached preshed-3.0.8-cp37-cp37m-manylinux_2_5_x86_64.manylinux1_x86_64.manylinux_2_17_x86_64.manylinux2014_x86_64.whl (126 kB)\n",
      "Requirement already satisfied: numpy>=1.15.0 in /opt/conda/lib/python3.7/site-packages (from spacy) (1.21.6)\n",
      "Requirement already satisfied: packaging>=20.0 in /opt/conda/lib/python3.7/site-packages (from spacy) (20.1)\n",
      "Collecting murmurhash<1.1.0,>=0.28.0\n",
      "  Using cached murmurhash-1.0.9-cp37-cp37m-manylinux_2_5_x86_64.manylinux1_x86_64.manylinux_2_17_x86_64.manylinux2014_x86_64.whl (21 kB)\n",
      "Collecting pathy>=0.3.5\n",
      "  Using cached pathy-0.6.2-py3-none-any.whl (42 kB)\n",
      "Requirement already satisfied: tqdm<5.0.0,>=4.38.0 in /opt/conda/lib/python3.7/site-packages (from spacy) (4.42.1)\n",
      "Collecting pydantic!=1.8,!=1.8.1,<1.11.0,>=1.7.4\n",
      "  Using cached pydantic-1.10.2-cp37-cp37m-manylinux_2_17_x86_64.manylinux2014_x86_64.whl (11.8 MB)\n",
      "Collecting thinc<8.2.0,>=8.1.0\n",
      "  Using cached thinc-8.1.5-cp37-cp37m-manylinux_2_17_x86_64.manylinux2014_x86_64.whl (806 kB)\n",
      "Requirement already satisfied: zipp>=0.5 in /opt/conda/lib/python3.7/site-packages (from catalogue<2.1.0,>=2.0.6->spacy) (3.8.1)\n",
      "Requirement already satisfied: six in /opt/conda/lib/python3.7/site-packages (from packaging>=20.0->spacy) (1.14.0)\n",
      "Requirement already satisfied: pyparsing>=2.0.2 in /opt/conda/lib/python3.7/site-packages (from packaging>=20.0->spacy) (2.4.6)\n",
      "Collecting smart-open<6.0.0,>=5.2.1\n",
      "  Using cached smart_open-5.2.1-py3-none-any.whl (58 kB)\n",
      "Requirement already satisfied: urllib3<1.27,>=1.21.1 in /opt/conda/lib/python3.7/site-packages (from requests<3.0.0,>=2.13.0->spacy) (1.26.12)\n",
      "Requirement already satisfied: certifi>=2017.4.17 in /opt/conda/lib/python3.7/site-packages (from requests<3.0.0,>=2.13.0->spacy) (2022.6.15)\n",
      "Requirement already satisfied: idna<4,>=2.5 in /opt/conda/lib/python3.7/site-packages (from requests<3.0.0,>=2.13.0->spacy) (2.8)\n",
      "Requirement already satisfied: charset-normalizer<3,>=2 in /opt/conda/lib/python3.7/site-packages (from requests<3.0.0,>=2.13.0->spacy) (2.0.4)\n",
      "Collecting confection<1.0.0,>=0.0.1\n",
      "  Using cached confection-0.0.3-py3-none-any.whl (32 kB)\n",
      "Collecting blis<0.8.0,>=0.7.8\n",
      "  Using cached blis-0.7.9-cp37-cp37m-manylinux_2_17_x86_64.manylinux2014_x86_64.whl (10.2 MB)\n",
      "Collecting click<9.0.0,>=7.1.1\n",
      "  Using cached click-8.1.3-py3-none-any.whl (96 kB)\n",
      "Requirement already satisfied: MarkupSafe>=2.0 in /opt/conda/lib/python3.7/site-packages (from jinja2->spacy) (2.1.1)\n",
      "Requirement already satisfied: importlib-metadata in /opt/conda/lib/python3.7/site-packages (from click<9.0.0,>=7.1.1->typer<0.5.0,>=0.3.0->spacy) (4.12.0)\n",
      "Installing collected packages: wasabi, cymem, typing-extensions, spacy-loggers, spacy-legacy, smart-open, murmurhash, langcodes, blis, pydantic, preshed, catalogue, srsly, click, typer, confection, thinc, pathy, spacy\n",
      "  Attempting uninstall: typing-extensions\n",
      "    Found existing installation: typing_extensions 4.3.0\n",
      "    Uninstalling typing_extensions-4.3.0:\n",
      "      Successfully uninstalled typing_extensions-4.3.0\n",
      "  Attempting uninstall: smart-open\n",
      "    Found existing installation: smart-open 6.2.0\n",
      "    Uninstalling smart-open-6.2.0:\n",
      "      Successfully uninstalled smart-open-6.2.0\n",
      "  Attempting uninstall: click\n",
      "    Found existing installation: Click 7.0\n",
      "    Uninstalling Click-7.0:\n",
      "      Successfully uninstalled Click-7.0\n",
      "\u001b[31mERROR: pip's dependency resolver does not currently take into account all the packages that are installed. This behaviour is the source of the following dependency conflicts.\n",
      "aiobotocore 2.3.4 requires botocore<1.24.22,>=1.24.21, but you have botocore 1.27.62 which is incompatible.\u001b[0m\u001b[31m\n",
      "\u001b[0mSuccessfully installed blis-0.7.9 catalogue-2.0.8 click-8.1.3 confection-0.0.3 cymem-2.0.7 langcodes-3.3.0 murmurhash-1.0.9 pathy-0.6.2 preshed-3.0.8 pydantic-1.10.2 smart-open-5.2.1 spacy-3.4.2 spacy-legacy-3.0.10 spacy-loggers-1.0.3 srsly-2.4.5 thinc-8.1.5 typer-0.4.2 typing-extensions-4.1.1 wasabi-0.10.1\n",
      "\u001b[33mWARNING: Running pip as the 'root' user can result in broken permissions and conflicting behaviour with the system package manager. It is recommended to use a virtual environment instead: https://pip.pypa.io/warnings/venv\u001b[0m\u001b[33m\n",
      "\u001b[0m\n",
      "\u001b[1m[\u001b[0m\u001b[34;49mnotice\u001b[0m\u001b[1;39;49m]\u001b[0m\u001b[39;49m A new release of pip available: \u001b[0m\u001b[31;49m22.2.2\u001b[0m\u001b[39;49m -> \u001b[0m\u001b[32;49m22.3\u001b[0m\n",
      "\u001b[1m[\u001b[0m\u001b[34;49mnotice\u001b[0m\u001b[1;39;49m]\u001b[0m\u001b[39;49m To update, run: \u001b[0m\u001b[32;49mpip install --upgrade pip\u001b[0m\n",
      "Note: you may need to restart the kernel to use updated packages.\n"
     ]
    }
   ],
   "source": [
    "pip install spacy"
   ]
  },
  {
   "cell_type": "code",
   "execution_count": 7,
   "id": "cd168336-33b2-4df1-aee6-42537164bb89",
   "metadata": {},
   "outputs": [
    {
     "ename": "SyntaxError",
     "evalue": "invalid syntax (<ipython-input-7-e8a31c0c54ec>, line 1)",
     "output_type": "error",
     "traceback": [
      "\u001b[0;36m  File \u001b[0;32m\"<ipython-input-7-e8a31c0c54ec>\"\u001b[0;36m, line \u001b[0;32m1\u001b[0m\n\u001b[0;31m    python -m spacy download en_core_web_sm\u001b[0m\n\u001b[0m                  ^\u001b[0m\n\u001b[0;31mSyntaxError\u001b[0m\u001b[0;31m:\u001b[0m invalid syntax\n"
     ]
    }
   ],
   "source": [
    "python -m spacy download en_core_web_sm"
   ]
  },
  {
   "cell_type": "code",
   "execution_count": 8,
   "id": "26feb41f-db81-4e44-87c1-f9a45078fe16",
   "metadata": {},
   "outputs": [
    {
     "name": "stdout",
     "output_type": "stream",
     "text": [
      "Collecting en-core-web-lg==3.4.1\n",
      "  Downloading https://github.com/explosion/spacy-models/releases/download/en_core_web_lg-3.4.1/en_core_web_lg-3.4.1-py3-none-any.whl (587.7 MB)\n",
      "\u001b[2K     \u001b[90m━━━━━━━━━━━━━━━━━━━━━━━━━━━━━━━━━━━━━━━\u001b[0m \u001b[32m587.7/587.7 MB\u001b[0m \u001b[31m1.2 MB/s\u001b[0m eta \u001b[36m0:00:00\u001b[0m00:01\u001b[0m00:01\u001b[0m\n",
      "\u001b[?25hRequirement already satisfied: spacy<3.5.0,>=3.4.0 in /opt/conda/lib/python3.7/site-packages (from en-core-web-lg==3.4.1) (3.4.2)\n",
      "Requirement already satisfied: langcodes<4.0.0,>=3.2.0 in /opt/conda/lib/python3.7/site-packages (from spacy<3.5.0,>=3.4.0->en-core-web-lg==3.4.1) (3.3.0)\n",
      "Requirement already satisfied: murmurhash<1.1.0,>=0.28.0 in /opt/conda/lib/python3.7/site-packages (from spacy<3.5.0,>=3.4.0->en-core-web-lg==3.4.1) (1.0.9)\n",
      "Requirement already satisfied: jinja2 in /opt/conda/lib/python3.7/site-packages (from spacy<3.5.0,>=3.4.0->en-core-web-lg==3.4.1) (3.1.2)\n",
      "Requirement already satisfied: requests<3.0.0,>=2.13.0 in /opt/conda/lib/python3.7/site-packages (from spacy<3.5.0,>=3.4.0->en-core-web-lg==3.4.1) (2.28.1)\n",
      "Requirement already satisfied: wasabi<1.1.0,>=0.9.1 in /opt/conda/lib/python3.7/site-packages (from spacy<3.5.0,>=3.4.0->en-core-web-lg==3.4.1) (0.10.1)\n",
      "Requirement already satisfied: spacy-loggers<2.0.0,>=1.0.0 in /opt/conda/lib/python3.7/site-packages (from spacy<3.5.0,>=3.4.0->en-core-web-lg==3.4.1) (1.0.3)\n",
      "Requirement already satisfied: setuptools in /opt/conda/lib/python3.7/site-packages (from spacy<3.5.0,>=3.4.0->en-core-web-lg==3.4.1) (59.3.0)\n",
      "Requirement already satisfied: typing-extensions<4.2.0,>=3.7.4 in /opt/conda/lib/python3.7/site-packages (from spacy<3.5.0,>=3.4.0->en-core-web-lg==3.4.1) (4.1.1)\n",
      "Requirement already satisfied: preshed<3.1.0,>=3.0.2 in /opt/conda/lib/python3.7/site-packages (from spacy<3.5.0,>=3.4.0->en-core-web-lg==3.4.1) (3.0.8)\n",
      "Requirement already satisfied: pydantic!=1.8,!=1.8.1,<1.11.0,>=1.7.4 in /opt/conda/lib/python3.7/site-packages (from spacy<3.5.0,>=3.4.0->en-core-web-lg==3.4.1) (1.10.2)\n",
      "Requirement already satisfied: thinc<8.2.0,>=8.1.0 in /opt/conda/lib/python3.7/site-packages (from spacy<3.5.0,>=3.4.0->en-core-web-lg==3.4.1) (8.1.5)\n",
      "Requirement already satisfied: srsly<3.0.0,>=2.4.3 in /opt/conda/lib/python3.7/site-packages (from spacy<3.5.0,>=3.4.0->en-core-web-lg==3.4.1) (2.4.5)\n",
      "Requirement already satisfied: tqdm<5.0.0,>=4.38.0 in /opt/conda/lib/python3.7/site-packages (from spacy<3.5.0,>=3.4.0->en-core-web-lg==3.4.1) (4.42.1)\n",
      "Requirement already satisfied: catalogue<2.1.0,>=2.0.6 in /opt/conda/lib/python3.7/site-packages (from spacy<3.5.0,>=3.4.0->en-core-web-lg==3.4.1) (2.0.8)\n",
      "Requirement already satisfied: cymem<2.1.0,>=2.0.2 in /opt/conda/lib/python3.7/site-packages (from spacy<3.5.0,>=3.4.0->en-core-web-lg==3.4.1) (2.0.7)\n",
      "Requirement already satisfied: packaging>=20.0 in /opt/conda/lib/python3.7/site-packages (from spacy<3.5.0,>=3.4.0->en-core-web-lg==3.4.1) (20.1)\n",
      "Requirement already satisfied: numpy>=1.15.0 in /opt/conda/lib/python3.7/site-packages (from spacy<3.5.0,>=3.4.0->en-core-web-lg==3.4.1) (1.21.6)\n",
      "Requirement already satisfied: spacy-legacy<3.1.0,>=3.0.10 in /opt/conda/lib/python3.7/site-packages (from spacy<3.5.0,>=3.4.0->en-core-web-lg==3.4.1) (3.0.10)\n",
      "Requirement already satisfied: typer<0.5.0,>=0.3.0 in /opt/conda/lib/python3.7/site-packages (from spacy<3.5.0,>=3.4.0->en-core-web-lg==3.4.1) (0.4.2)\n",
      "Requirement already satisfied: pathy>=0.3.5 in /opt/conda/lib/python3.7/site-packages (from spacy<3.5.0,>=3.4.0->en-core-web-lg==3.4.1) (0.6.2)\n",
      "Requirement already satisfied: zipp>=0.5 in /opt/conda/lib/python3.7/site-packages (from catalogue<2.1.0,>=2.0.6->spacy<3.5.0,>=3.4.0->en-core-web-lg==3.4.1) (3.8.1)\n",
      "Requirement already satisfied: pyparsing>=2.0.2 in /opt/conda/lib/python3.7/site-packages (from packaging>=20.0->spacy<3.5.0,>=3.4.0->en-core-web-lg==3.4.1) (2.4.6)\n",
      "Requirement already satisfied: six in /opt/conda/lib/python3.7/site-packages (from packaging>=20.0->spacy<3.5.0,>=3.4.0->en-core-web-lg==3.4.1) (1.14.0)\n",
      "Requirement already satisfied: smart-open<6.0.0,>=5.2.1 in /opt/conda/lib/python3.7/site-packages (from pathy>=0.3.5->spacy<3.5.0,>=3.4.0->en-core-web-lg==3.4.1) (5.2.1)\n",
      "Requirement already satisfied: certifi>=2017.4.17 in /opt/conda/lib/python3.7/site-packages (from requests<3.0.0,>=2.13.0->spacy<3.5.0,>=3.4.0->en-core-web-lg==3.4.1) (2022.6.15)\n",
      "Requirement already satisfied: charset-normalizer<3,>=2 in /opt/conda/lib/python3.7/site-packages (from requests<3.0.0,>=2.13.0->spacy<3.5.0,>=3.4.0->en-core-web-lg==3.4.1) (2.0.4)\n",
      "Requirement already satisfied: idna<4,>=2.5 in /opt/conda/lib/python3.7/site-packages (from requests<3.0.0,>=2.13.0->spacy<3.5.0,>=3.4.0->en-core-web-lg==3.4.1) (2.8)\n",
      "Requirement already satisfied: urllib3<1.27,>=1.21.1 in /opt/conda/lib/python3.7/site-packages (from requests<3.0.0,>=2.13.0->spacy<3.5.0,>=3.4.0->en-core-web-lg==3.4.1) (1.26.12)\n",
      "Requirement already satisfied: confection<1.0.0,>=0.0.1 in /opt/conda/lib/python3.7/site-packages (from thinc<8.2.0,>=8.1.0->spacy<3.5.0,>=3.4.0->en-core-web-lg==3.4.1) (0.0.3)\n",
      "Requirement already satisfied: blis<0.8.0,>=0.7.8 in /opt/conda/lib/python3.7/site-packages (from thinc<8.2.0,>=8.1.0->spacy<3.5.0,>=3.4.0->en-core-web-lg==3.4.1) (0.7.9)\n",
      "Requirement already satisfied: click<9.0.0,>=7.1.1 in /opt/conda/lib/python3.7/site-packages (from typer<0.5.0,>=0.3.0->spacy<3.5.0,>=3.4.0->en-core-web-lg==3.4.1) (8.1.3)\n",
      "Requirement already satisfied: MarkupSafe>=2.0 in /opt/conda/lib/python3.7/site-packages (from jinja2->spacy<3.5.0,>=3.4.0->en-core-web-lg==3.4.1) (2.1.1)\n",
      "Requirement already satisfied: importlib-metadata in /opt/conda/lib/python3.7/site-packages (from click<9.0.0,>=7.1.1->typer<0.5.0,>=0.3.0->spacy<3.5.0,>=3.4.0->en-core-web-lg==3.4.1) (4.12.0)\n",
      "Installing collected packages: en-core-web-lg\n",
      "Successfully installed en-core-web-lg-3.4.1\n",
      "\u001b[33mWARNING: Running pip as the 'root' user can result in broken permissions and conflicting behaviour with the system package manager. It is recommended to use a virtual environment instead: https://pip.pypa.io/warnings/venv\u001b[0m\u001b[33m\n",
      "\u001b[0m\n",
      "\u001b[1m[\u001b[0m\u001b[34;49mnotice\u001b[0m\u001b[1;39;49m]\u001b[0m\u001b[39;49m A new release of pip available: \u001b[0m\u001b[31;49m22.2.2\u001b[0m\u001b[39;49m -> \u001b[0m\u001b[32;49m22.3\u001b[0m\n",
      "\u001b[1m[\u001b[0m\u001b[34;49mnotice\u001b[0m\u001b[1;39;49m]\u001b[0m\u001b[39;49m To update, run: \u001b[0m\u001b[32;49mpip install --upgrade pip\u001b[0m\n",
      "\u001b[38;5;2m✔ Download and installation successful\u001b[0m\n",
      "You can now load the package via spacy.load('en_core_web_lg')\n"
     ]
    }
   ],
   "source": [
    "!python -m spacy download en_core_web_lg"
   ]
  },
  {
   "cell_type": "code",
   "execution_count": 9,
   "id": "31c82385-ac8e-4f87-bdf1-7ea133b35da8",
   "metadata": {},
   "outputs": [
    {
     "name": "stdout",
     "output_type": "stream",
     "text": [
      "Collecting en-core-web-sm==3.4.1\n",
      "  Downloading https://github.com/explosion/spacy-models/releases/download/en_core_web_sm-3.4.1/en_core_web_sm-3.4.1-py3-none-any.whl (12.8 MB)\n",
      "\u001b[2K     \u001b[90m━━━━━━━━━━━━━━━━━━━━━━━━━━━━━━━━━━━━━━━━\u001b[0m \u001b[32m12.8/12.8 MB\u001b[0m \u001b[31m43.3 MB/s\u001b[0m eta \u001b[36m0:00:00\u001b[0m00:01\u001b[0m00:01\u001b[0m\n",
      "\u001b[?25hRequirement already satisfied: spacy<3.5.0,>=3.4.0 in /opt/conda/lib/python3.7/site-packages (from en-core-web-sm==3.4.1) (3.4.2)\n",
      "Requirement already satisfied: typer<0.5.0,>=0.3.0 in /opt/conda/lib/python3.7/site-packages (from spacy<3.5.0,>=3.4.0->en-core-web-sm==3.4.1) (0.4.2)\n",
      "Requirement already satisfied: jinja2 in /opt/conda/lib/python3.7/site-packages (from spacy<3.5.0,>=3.4.0->en-core-web-sm==3.4.1) (3.1.2)\n",
      "Requirement already satisfied: spacy-legacy<3.1.0,>=3.0.10 in /opt/conda/lib/python3.7/site-packages (from spacy<3.5.0,>=3.4.0->en-core-web-sm==3.4.1) (3.0.10)\n",
      "Requirement already satisfied: cymem<2.1.0,>=2.0.2 in /opt/conda/lib/python3.7/site-packages (from spacy<3.5.0,>=3.4.0->en-core-web-sm==3.4.1) (2.0.7)\n",
      "Requirement already satisfied: pathy>=0.3.5 in /opt/conda/lib/python3.7/site-packages (from spacy<3.5.0,>=3.4.0->en-core-web-sm==3.4.1) (0.6.2)\n",
      "Requirement already satisfied: requests<3.0.0,>=2.13.0 in /opt/conda/lib/python3.7/site-packages (from spacy<3.5.0,>=3.4.0->en-core-web-sm==3.4.1) (2.28.1)\n",
      "Requirement already satisfied: numpy>=1.15.0 in /opt/conda/lib/python3.7/site-packages (from spacy<3.5.0,>=3.4.0->en-core-web-sm==3.4.1) (1.21.6)\n",
      "Requirement already satisfied: murmurhash<1.1.0,>=0.28.0 in /opt/conda/lib/python3.7/site-packages (from spacy<3.5.0,>=3.4.0->en-core-web-sm==3.4.1) (1.0.9)\n",
      "Requirement already satisfied: catalogue<2.1.0,>=2.0.6 in /opt/conda/lib/python3.7/site-packages (from spacy<3.5.0,>=3.4.0->en-core-web-sm==3.4.1) (2.0.8)\n",
      "Requirement already satisfied: thinc<8.2.0,>=8.1.0 in /opt/conda/lib/python3.7/site-packages (from spacy<3.5.0,>=3.4.0->en-core-web-sm==3.4.1) (8.1.5)\n",
      "Requirement already satisfied: setuptools in /opt/conda/lib/python3.7/site-packages (from spacy<3.5.0,>=3.4.0->en-core-web-sm==3.4.1) (59.3.0)\n",
      "Requirement already satisfied: preshed<3.1.0,>=3.0.2 in /opt/conda/lib/python3.7/site-packages (from spacy<3.5.0,>=3.4.0->en-core-web-sm==3.4.1) (3.0.8)\n",
      "Requirement already satisfied: pydantic!=1.8,!=1.8.1,<1.11.0,>=1.7.4 in /opt/conda/lib/python3.7/site-packages (from spacy<3.5.0,>=3.4.0->en-core-web-sm==3.4.1) (1.10.2)\n",
      "Requirement already satisfied: tqdm<5.0.0,>=4.38.0 in /opt/conda/lib/python3.7/site-packages (from spacy<3.5.0,>=3.4.0->en-core-web-sm==3.4.1) (4.42.1)\n",
      "Requirement already satisfied: packaging>=20.0 in /opt/conda/lib/python3.7/site-packages (from spacy<3.5.0,>=3.4.0->en-core-web-sm==3.4.1) (20.1)\n",
      "Requirement already satisfied: spacy-loggers<2.0.0,>=1.0.0 in /opt/conda/lib/python3.7/site-packages (from spacy<3.5.0,>=3.4.0->en-core-web-sm==3.4.1) (1.0.3)\n",
      "Requirement already satisfied: langcodes<4.0.0,>=3.2.0 in /opt/conda/lib/python3.7/site-packages (from spacy<3.5.0,>=3.4.0->en-core-web-sm==3.4.1) (3.3.0)\n",
      "Requirement already satisfied: srsly<3.0.0,>=2.4.3 in /opt/conda/lib/python3.7/site-packages (from spacy<3.5.0,>=3.4.0->en-core-web-sm==3.4.1) (2.4.5)\n",
      "Requirement already satisfied: typing-extensions<4.2.0,>=3.7.4 in /opt/conda/lib/python3.7/site-packages (from spacy<3.5.0,>=3.4.0->en-core-web-sm==3.4.1) (4.1.1)\n",
      "Requirement already satisfied: wasabi<1.1.0,>=0.9.1 in /opt/conda/lib/python3.7/site-packages (from spacy<3.5.0,>=3.4.0->en-core-web-sm==3.4.1) (0.10.1)\n",
      "Requirement already satisfied: zipp>=0.5 in /opt/conda/lib/python3.7/site-packages (from catalogue<2.1.0,>=2.0.6->spacy<3.5.0,>=3.4.0->en-core-web-sm==3.4.1) (3.8.1)\n",
      "Requirement already satisfied: pyparsing>=2.0.2 in /opt/conda/lib/python3.7/site-packages (from packaging>=20.0->spacy<3.5.0,>=3.4.0->en-core-web-sm==3.4.1) (2.4.6)\n",
      "Requirement already satisfied: six in /opt/conda/lib/python3.7/site-packages (from packaging>=20.0->spacy<3.5.0,>=3.4.0->en-core-web-sm==3.4.1) (1.14.0)\n",
      "Requirement already satisfied: smart-open<6.0.0,>=5.2.1 in /opt/conda/lib/python3.7/site-packages (from pathy>=0.3.5->spacy<3.5.0,>=3.4.0->en-core-web-sm==3.4.1) (5.2.1)\n",
      "Requirement already satisfied: idna<4,>=2.5 in /opt/conda/lib/python3.7/site-packages (from requests<3.0.0,>=2.13.0->spacy<3.5.0,>=3.4.0->en-core-web-sm==3.4.1) (2.8)\n",
      "Requirement already satisfied: certifi>=2017.4.17 in /opt/conda/lib/python3.7/site-packages (from requests<3.0.0,>=2.13.0->spacy<3.5.0,>=3.4.0->en-core-web-sm==3.4.1) (2022.6.15)\n",
      "Requirement already satisfied: charset-normalizer<3,>=2 in /opt/conda/lib/python3.7/site-packages (from requests<3.0.0,>=2.13.0->spacy<3.5.0,>=3.4.0->en-core-web-sm==3.4.1) (2.0.4)\n",
      "Requirement already satisfied: urllib3<1.27,>=1.21.1 in /opt/conda/lib/python3.7/site-packages (from requests<3.0.0,>=2.13.0->spacy<3.5.0,>=3.4.0->en-core-web-sm==3.4.1) (1.26.12)\n",
      "Requirement already satisfied: blis<0.8.0,>=0.7.8 in /opt/conda/lib/python3.7/site-packages (from thinc<8.2.0,>=8.1.0->spacy<3.5.0,>=3.4.0->en-core-web-sm==3.4.1) (0.7.9)\n",
      "Requirement already satisfied: confection<1.0.0,>=0.0.1 in /opt/conda/lib/python3.7/site-packages (from thinc<8.2.0,>=8.1.0->spacy<3.5.0,>=3.4.0->en-core-web-sm==3.4.1) (0.0.3)\n",
      "Requirement already satisfied: click<9.0.0,>=7.1.1 in /opt/conda/lib/python3.7/site-packages (from typer<0.5.0,>=0.3.0->spacy<3.5.0,>=3.4.0->en-core-web-sm==3.4.1) (8.1.3)\n",
      "Requirement already satisfied: MarkupSafe>=2.0 in /opt/conda/lib/python3.7/site-packages (from jinja2->spacy<3.5.0,>=3.4.0->en-core-web-sm==3.4.1) (2.1.1)\n",
      "Requirement already satisfied: importlib-metadata in /opt/conda/lib/python3.7/site-packages (from click<9.0.0,>=7.1.1->typer<0.5.0,>=0.3.0->spacy<3.5.0,>=3.4.0->en-core-web-sm==3.4.1) (4.12.0)\n",
      "Installing collected packages: en-core-web-sm\n",
      "Successfully installed en-core-web-sm-3.4.1\n",
      "\u001b[33mWARNING: Running pip as the 'root' user can result in broken permissions and conflicting behaviour with the system package manager. It is recommended to use a virtual environment instead: https://pip.pypa.io/warnings/venv\u001b[0m\u001b[33m\n",
      "\u001b[0m\n",
      "\u001b[1m[\u001b[0m\u001b[34;49mnotice\u001b[0m\u001b[1;39;49m]\u001b[0m\u001b[39;49m A new release of pip available: \u001b[0m\u001b[31;49m22.2.2\u001b[0m\u001b[39;49m -> \u001b[0m\u001b[32;49m22.3\u001b[0m\n",
      "\u001b[1m[\u001b[0m\u001b[34;49mnotice\u001b[0m\u001b[1;39;49m]\u001b[0m\u001b[39;49m To update, run: \u001b[0m\u001b[32;49mpip install --upgrade pip\u001b[0m\n",
      "\u001b[38;5;2m✔ Download and installation successful\u001b[0m\n",
      "You can now load the package via spacy.load('en_core_web_sm')\n"
     ]
    }
   ],
   "source": [
    "!python -m spacy download en_core_web_sm"
   ]
  },
  {
   "cell_type": "code",
   "execution_count": 10,
   "id": "8971d193-ddc4-4451-8d4a-cb10c03b0d02",
   "metadata": {},
   "outputs": [],
   "source": [
    "import pandas as pd\n",
    "import unicodedata\n",
    "import re\n",
    "import contractions\n",
    "import string"
   ]
  },
  {
   "cell_type": "code",
   "execution_count": 11,
   "id": "d340432c-8a3a-49de-bbdb-a15eede4b586",
   "metadata": {},
   "outputs": [
    {
     "ename": "ModuleNotFoundError",
     "evalue": "No module named 'pyLDAvis'",
     "output_type": "error",
     "traceback": [
      "\u001b[0;31m---------------------------------------------------------------------------\u001b[0m",
      "\u001b[0;31mModuleNotFoundError\u001b[0m                       Traceback (most recent call last)",
      "\u001b[0;32m<ipython-input-11-c0c4cefd8a34>\u001b[0m in \u001b[0;36m<module>\u001b[0;34m\u001b[0m\n\u001b[1;32m      8\u001b[0m \u001b[0;32mfrom\u001b[0m \u001b[0mnltk\u001b[0m\u001b[0;34m.\u001b[0m\u001b[0mcorpus\u001b[0m \u001b[0;32mimport\u001b[0m \u001b[0mstopwords\u001b[0m\u001b[0;34m\u001b[0m\u001b[0;34m\u001b[0m\u001b[0m\n\u001b[1;32m      9\u001b[0m \u001b[0;31m#vis\u001b[0m\u001b[0;34m\u001b[0m\u001b[0;34m\u001b[0m\u001b[0;34m\u001b[0m\u001b[0m\n\u001b[0;32m---> 10\u001b[0;31m \u001b[0;32mimport\u001b[0m \u001b[0mpyLDAvis\u001b[0m\u001b[0;34m\u001b[0m\u001b[0;34m\u001b[0m\u001b[0m\n\u001b[0m\u001b[1;32m     11\u001b[0m \u001b[0;32mimport\u001b[0m \u001b[0mpyLDAvis\u001b[0m\u001b[0;34m.\u001b[0m\u001b[0mgensim_models\u001b[0m\u001b[0;34m\u001b[0m\u001b[0;34m\u001b[0m\u001b[0m\n",
      "\u001b[0;31mModuleNotFoundError\u001b[0m: No module named 'pyLDAvis'"
     ]
    }
   ],
   "source": [
    "#Gensim\n",
    "import gensim\n",
    "import gensim.corpora as corpora\n",
    "from gensim.utils import simple_preprocess\n",
    "from gensim.models import CoherenceModel\n",
    "#spacy\n",
    "import spacy\n",
    "from nltk.corpus import stopwords\n",
    "#vis\n",
    "import pyLDAvis\n",
    "import pyLDAvis.gensim_models"
   ]
  },
  {
   "cell_type": "code",
   "execution_count": 12,
   "id": "52b2d7a1-913f-473d-933e-ea60657b8af6",
   "metadata": {},
   "outputs": [
    {
     "name": "stdout",
     "output_type": "stream",
     "text": [
      "Collecting pyLDAvis\n",
      "  Using cached pyLDAvis-3.3.1-py2.py3-none-any.whl\n",
      "Requirement already satisfied: gensim in /opt/conda/lib/python3.7/site-packages (from pyLDAvis) (4.2.0)\n",
      "Requirement already satisfied: scikit-learn in /opt/conda/lib/python3.7/site-packages (from pyLDAvis) (0.22.1)\n",
      "Requirement already satisfied: setuptools in /opt/conda/lib/python3.7/site-packages (from pyLDAvis) (59.3.0)\n",
      "Requirement already satisfied: scipy in /opt/conda/lib/python3.7/site-packages (from pyLDAvis) (1.4.1)\n",
      "Collecting funcy\n",
      "  Using cached funcy-1.17-py2.py3-none-any.whl (33 kB)\n",
      "Requirement already satisfied: pandas>=1.2.0 in /opt/conda/lib/python3.7/site-packages (from pyLDAvis) (1.3.5)\n",
      "Requirement already satisfied: numpy>=1.20.0 in /opt/conda/lib/python3.7/site-packages (from pyLDAvis) (1.21.6)\n",
      "Requirement already satisfied: jinja2 in /opt/conda/lib/python3.7/site-packages (from pyLDAvis) (3.1.2)\n",
      "Requirement already satisfied: numexpr in /opt/conda/lib/python3.7/site-packages (from pyLDAvis) (2.7.1)\n",
      "Requirement already satisfied: future in /opt/conda/lib/python3.7/site-packages (from pyLDAvis) (0.18.2)\n",
      "Requirement already satisfied: joblib in /opt/conda/lib/python3.7/site-packages (from pyLDAvis) (0.14.1)\n",
      "Requirement already satisfied: sklearn in /opt/conda/lib/python3.7/site-packages (from pyLDAvis) (0.0)\n",
      "Requirement already satisfied: pytz>=2017.3 in /opt/conda/lib/python3.7/site-packages (from pandas>=1.2.0->pyLDAvis) (2019.3)\n",
      "Requirement already satisfied: python-dateutil>=2.7.3 in /opt/conda/lib/python3.7/site-packages (from pandas>=1.2.0->pyLDAvis) (2.8.1)\n",
      "Requirement already satisfied: smart-open>=1.8.1 in /opt/conda/lib/python3.7/site-packages (from gensim->pyLDAvis) (5.2.1)\n",
      "Requirement already satisfied: MarkupSafe>=2.0 in /opt/conda/lib/python3.7/site-packages (from jinja2->pyLDAvis) (2.1.1)\n",
      "Requirement already satisfied: six>=1.5 in /opt/conda/lib/python3.7/site-packages (from python-dateutil>=2.7.3->pandas>=1.2.0->pyLDAvis) (1.14.0)\n",
      "Installing collected packages: funcy, pyLDAvis\n",
      "Successfully installed funcy-1.17 pyLDAvis-3.3.1\n",
      "\u001b[33mWARNING: Running pip as the 'root' user can result in broken permissions and conflicting behaviour with the system package manager. It is recommended to use a virtual environment instead: https://pip.pypa.io/warnings/venv\u001b[0m\u001b[33m\n",
      "\u001b[0m\n",
      "\u001b[1m[\u001b[0m\u001b[34;49mnotice\u001b[0m\u001b[1;39;49m]\u001b[0m\u001b[39;49m A new release of pip available: \u001b[0m\u001b[31;49m22.2.2\u001b[0m\u001b[39;49m -> \u001b[0m\u001b[32;49m22.3\u001b[0m\n",
      "\u001b[1m[\u001b[0m\u001b[34;49mnotice\u001b[0m\u001b[1;39;49m]\u001b[0m\u001b[39;49m To update, run: \u001b[0m\u001b[32;49mpip install --upgrade pip\u001b[0m\n",
      "Note: you may need to restart the kernel to use updated packages.\n"
     ]
    }
   ],
   "source": [
    "pip install pyLDAvis"
   ]
  },
  {
   "cell_type": "code",
   "execution_count": 13,
   "id": "2677edab-8e1f-4b8d-9dd9-fa66501cabe0",
   "metadata": {},
   "outputs": [
    {
     "name": "stderr",
     "output_type": "stream",
     "text": [
      "/opt/conda/lib/python3.7/site-packages/sklearn/decomposition/_lda.py:29: DeprecationWarning: `np.float` is a deprecated alias for the builtin `float`. To silence this warning, use `float` by itself. Doing this will not modify any behavior and is safe. If you specifically wanted the numpy scalar type, use `np.float64` here.\n",
      "Deprecated in NumPy 1.20; for more details and guidance: https://numpy.org/devdocs/release/1.20.0-notes.html#deprecations\n",
      "  EPS = np.finfo(np.float).eps\n"
     ]
    }
   ],
   "source": [
    "#Gensim\n",
    "import gensim\n",
    "import gensim.corpora as corpora\n",
    "from gensim.utils import simple_preprocess\n",
    "from gensim.models import CoherenceModel\n",
    "#spacy\n",
    "import spacy\n",
    "from nltk.corpus import stopwords\n",
    "#vis\n",
    "import pyLDAvis\n",
    "import pyLDAvis.gensim_models"
   ]
  },
  {
   "cell_type": "code",
   "execution_count": 14,
   "id": "db34a5e5-bae1-4c1c-8338-c0b19a873395",
   "metadata": {},
   "outputs": [
    {
     "name": "stderr",
     "output_type": "stream",
     "text": [
      "/opt/conda/lib/python3.7/site-packages/ipykernel/ipkernel.py:287: DeprecationWarning: `should_run_async` will not call `transform_cell` automatically in the future. Please pass the result to `transformed_cell` argument and any exception that happen during thetransform in `preprocessing_exc_tuple` in IPython 7.17 and above.\n",
      "  and should_run_async(code)\n"
     ]
    }
   ],
   "source": [
    "bucket='lda-test-data-group3'\n",
    "\n",
    "file_key = 'Erik_Aadland.csv'\n",
    "\n",
    "s3uri = 's3://{}/{}'.format(bucket, file_key)"
   ]
  },
  {
   "cell_type": "code",
   "execution_count": 15,
   "id": "16f58965-4d0e-4494-9601-4573f60b2aca",
   "metadata": {},
   "outputs": [
    {
     "name": "stderr",
     "output_type": "stream",
     "text": [
      "/opt/conda/lib/python3.7/site-packages/ipykernel/ipkernel.py:287: DeprecationWarning: `should_run_async` will not call `transform_cell` automatically in the future. Please pass the result to `transformed_cell` argument and any exception that happen during thetransform in `preprocessing_exc_tuple` in IPython 7.17 and above.\n",
      "  and should_run_async(code)\n"
     ]
    }
   ],
   "source": [
    "def load_data(path):\n",
    "    return pd.read_csv(path)\n",
    "tweets_df=load_data(s3uri)"
   ]
  },
  {
   "cell_type": "code",
   "execution_count": 16,
   "id": "bfd9c562-36b0-4a2e-84aa-73a3c34de978",
   "metadata": {},
   "outputs": [
    {
     "name": "stderr",
     "output_type": "stream",
     "text": [
      "/opt/conda/lib/python3.7/site-packages/ipykernel/ipkernel.py:287: DeprecationWarning: `should_run_async` will not call `transform_cell` automatically in the future. Please pass the result to `transformed_cell` argument and any exception that happen during thetransform in `preprocessing_exc_tuple` in IPython 7.17 and above.\n",
      "  and should_run_async(code)\n"
     ]
    },
    {
     "data": {
      "text/html": [
       "<div>\n",
       "<style scoped>\n",
       "    .dataframe tbody tr th:only-of-type {\n",
       "        vertical-align: middle;\n",
       "    }\n",
       "\n",
       "    .dataframe tbody tr th {\n",
       "        vertical-align: top;\n",
       "    }\n",
       "\n",
       "    .dataframe thead th {\n",
       "        text-align: right;\n",
       "    }\n",
       "</style>\n",
       "<table border=\"1\" class=\"dataframe\">\n",
       "  <thead>\n",
       "    <tr style=\"text-align: right;\">\n",
       "      <th></th>\n",
       "      <th>Index</th>\n",
       "      <th>Created at</th>\n",
       "      <th>User ID</th>\n",
       "      <th>Text</th>\n",
       "    </tr>\n",
       "  </thead>\n",
       "  <tbody>\n",
       "    <tr>\n",
       "      <th>0</th>\n",
       "      <td>0</td>\n",
       "      <td>2022-10-10 17:29:00+00:00</td>\n",
       "      <td>1579524413581840384</td>\n",
       "      <td>Thanks to soft-on-crime policies championed by...</td>\n",
       "    </tr>\n",
       "    <tr>\n",
       "      <th>1</th>\n",
       "      <td>1</td>\n",
       "      <td>2022-10-10 14:32:54+00:00</td>\n",
       "      <td>1579480093335777280</td>\n",
       "      <td>Our future economy?\\n- Polis admin expects gro...</td>\n",
       "    </tr>\n",
       "    <tr>\n",
       "      <th>2</th>\n",
       "      <td>2</td>\n",
       "      <td>2022-10-10 13:38:00+00:00</td>\n",
       "      <td>1579466277344743424</td>\n",
       "      <td>It's no surprise to hear law enforcement seize...</td>\n",
       "    </tr>\n",
       "    <tr>\n",
       "      <th>3</th>\n",
       "      <td>3</td>\n",
       "      <td>2022-10-10 12:47:00+00:00</td>\n",
       "      <td>1579453443025997824</td>\n",
       "      <td>ICYMI:\\nA study by the Common Sense Institute ...</td>\n",
       "    </tr>\n",
       "    <tr>\n",
       "      <th>4</th>\n",
       "      <td>4</td>\n",
       "      <td>2022-10-10 11:00:03+00:00</td>\n",
       "      <td>1579426529297268736</td>\n",
       "      <td>Reuters: \"Biden approval rating slips to 40%\"\\...</td>\n",
       "    </tr>\n",
       "  </tbody>\n",
       "</table>\n",
       "</div>"
      ],
      "text/plain": [
       "   Index                 Created at              User ID  \\\n",
       "0      0  2022-10-10 17:29:00+00:00  1579524413581840384   \n",
       "1      1  2022-10-10 14:32:54+00:00  1579480093335777280   \n",
       "2      2  2022-10-10 13:38:00+00:00  1579466277344743424   \n",
       "3      3  2022-10-10 12:47:00+00:00  1579453443025997824   \n",
       "4      4  2022-10-10 11:00:03+00:00  1579426529297268736   \n",
       "\n",
       "                                                Text  \n",
       "0  Thanks to soft-on-crime policies championed by...  \n",
       "1  Our future economy?\\n- Polis admin expects gro...  \n",
       "2  It's no surprise to hear law enforcement seize...  \n",
       "3  ICYMI:\\nA study by the Common Sense Institute ...  \n",
       "4  Reuters: \"Biden approval rating slips to 40%\"\\...  "
      ]
     },
     "execution_count": 16,
     "metadata": {},
     "output_type": "execute_result"
    }
   ],
   "source": [
    "tweets_df.head()"
   ]
  },
  {
   "cell_type": "code",
   "execution_count": 17,
   "id": "d45ad95c-6fe1-4b98-9c9d-def10d0b8d06",
   "metadata": {},
   "outputs": [
    {
     "name": "stderr",
     "output_type": "stream",
     "text": [
      "/opt/conda/lib/python3.7/site-packages/ipykernel/ipkernel.py:287: DeprecationWarning: `should_run_async` will not call `transform_cell` automatically in the future. Please pass the result to `transformed_cell` argument and any exception that happen during thetransform in `preprocessing_exc_tuple` in IPython 7.17 and above.\n",
      "  and should_run_async(code)\n"
     ]
    }
   ],
   "source": [
    "def to_lowercase(text):\n",
    "    return text.lower()\n",
    "#converting every row of the column into lower case \n",
    "tweets_df.Text=tweets_df.Text.apply(to_lowercase)"
   ]
  },
  {
   "cell_type": "code",
   "execution_count": 18,
   "id": "3a11ab24-7880-4980-a78a-dd79c9e3868d",
   "metadata": {},
   "outputs": [
    {
     "name": "stderr",
     "output_type": "stream",
     "text": [
      "/opt/conda/lib/python3.7/site-packages/ipykernel/ipkernel.py:287: DeprecationWarning: `should_run_async` will not call `transform_cell` automatically in the future. Please pass the result to `transformed_cell` argument and any exception that happen during thetransform in `preprocessing_exc_tuple` in IPython 7.17 and above.\n",
      "  and should_run_async(code)\n"
     ]
    },
    {
     "data": {
      "text/plain": [
       "0    thanks to soft-on-crime policies championed by...\n",
       "1    our future economy?\\n- polis admin expects gro...\n",
       "2    it's no surprise to hear law enforcement seize...\n",
       "3    icymi:\\na study by the common sense institute ...\n",
       "4    reuters: \"biden approval rating slips to 40%\"\\...\n",
       "Name: Text, dtype: object"
      ]
     },
     "execution_count": 18,
     "metadata": {},
     "output_type": "execute_result"
    }
   ],
   "source": [
    "tweets_df.Text.head()"
   ]
  },
  {
   "cell_type": "code",
   "execution_count": 19,
   "id": "8236bc83-e6fe-441b-9cf2-62c391e71e38",
   "metadata": {},
   "outputs": [
    {
     "name": "stdout",
     "output_type": "stream",
     "text": [
      "Some words such as resume, cafe, protest, divorce, coordinate, expose, latte.\n"
     ]
    },
    {
     "name": "stderr",
     "output_type": "stream",
     "text": [
      "/opt/conda/lib/python3.7/site-packages/ipykernel/ipkernel.py:287: DeprecationWarning: `should_run_async` will not call `transform_cell` automatically in the future. Please pass the result to `transformed_cell` argument and any exception that happen during thetransform in `preprocessing_exc_tuple` in IPython 7.17 and above.\n",
      "  and should_run_async(code)\n"
     ]
    }
   ],
   "source": [
    "def standardize_accented_chars(text):\n",
    "    return unicodedata.normalize('NFKD', text).encode('ascii', 'ignore').decode('utf-8', 'ignore')\n",
    "#testing the function on a single sample for explaination\n",
    "print(standardize_accented_chars('Sómě words such as résumé, café, prótest, divorcé, coördinate, exposé, latté.'))\n",
    "#standardizing accented characters for every row\n",
    "tweets_df.Text=tweets_df.Text.apply(standardize_accented_chars)"
   ]
  },
  {
   "cell_type": "code",
   "execution_count": 20,
   "id": "3b435126-0ccf-4c24-9d88-2976736ec621",
   "metadata": {},
   "outputs": [
    {
     "name": "stderr",
     "output_type": "stream",
     "text": [
      "/opt/conda/lib/python3.7/site-packages/ipykernel/ipkernel.py:287: DeprecationWarning: `should_run_async` will not call `transform_cell` automatically in the future. Please pass the result to `transformed_cell` argument and any exception that happen during thetransform in `preprocessing_exc_tuple` in IPython 7.17 and above.\n",
      "  and should_run_async(code)\n"
     ]
    },
    {
     "data": {
      "text/plain": [
       "0    thanks to soft-on-crime policies championed by...\n",
       "1    our future economy?\\n- polis admin expects gro...\n",
       "2    it's no surprise to hear law enforcement seize...\n",
       "3    icymi:\\na study by the common sense institute ...\n",
       "4    reuters: \"biden approval rating slips to 40%\"\\...\n",
       "Name: Text, dtype: object"
      ]
     },
     "execution_count": 20,
     "metadata": {},
     "output_type": "execute_result"
    }
   ],
   "source": [
    "tweets_df.Text.head()"
   ]
  },
  {
   "cell_type": "code",
   "execution_count": 21,
   "id": "7a8bc6a0-a9f6-4c60-b2af-66e7c41854da",
   "metadata": {},
   "outputs": [
    {
     "name": "stdout",
     "output_type": "stream",
     "text": [
      "84.76% of documents contain urls\n",
      "None\n"
     ]
    },
    {
     "name": "stderr",
     "output_type": "stream",
     "text": [
      "/opt/conda/lib/python3.7/site-packages/ipykernel/ipkernel.py:287: DeprecationWarning: `should_run_async` will not call `transform_cell` automatically in the future. Please pass the result to `transformed_cell` argument and any exception that happen during thetransform in `preprocessing_exc_tuple` in IPython 7.17 and above.\n",
      "  and should_run_async(code)\n"
     ]
    }
   ],
   "source": [
    "def get_number_of_urls(documents):\n",
    "    print(\"{:.2f}% of documents contain urls\".format(sum\n",
    "(documents.apply(lambda x:x.find('http'))>0)/len\n",
    "(documents)*100))\n",
    "# Passing the 'Text' column of the dataframe as the argument\n",
    "print(get_number_of_urls(tweets_df.Text)) "
   ]
  },
  {
   "cell_type": "code",
   "execution_count": 22,
   "id": "1debc7e9-5f0a-45ba-9a00-62eb1bafcca1",
   "metadata": {},
   "outputs": [
    {
     "name": "stderr",
     "output_type": "stream",
     "text": [
      "/opt/conda/lib/python3.7/site-packages/ipykernel/ipkernel.py:287: DeprecationWarning: `should_run_async` will not call `transform_cell` automatically in the future. Please pass the result to `transformed_cell` argument and any exception that happen during thetransform in `preprocessing_exc_tuple` in IPython 7.17 and above.\n",
      "  and should_run_async(code)\n"
     ]
    },
    {
     "data": {
      "text/plain": [
       "0    thanks to soft-on-crime policies championed by...\n",
       "1    our future economy?\\n- polis admin expects gro...\n",
       "2    it's no surprise to hear law enforcement seize...\n",
       "3    icymi:\\na study by the common sense institute ...\n",
       "4    reuters: \"biden approval rating slips to 40%\"\\...\n",
       "Name: Text, dtype: object"
      ]
     },
     "execution_count": 22,
     "metadata": {},
     "output_type": "execute_result"
    }
   ],
   "source": [
    "tweets_df.Text.head()"
   ]
  },
  {
   "cell_type": "code",
   "execution_count": 23,
   "id": "3743d74a-f3c7-4723-aebf-5fbd578dd9b0",
   "metadata": {},
   "outputs": [
    {
     "name": "stdout",
     "output_type": "stream",
     "text": [
      "0      thanks to soft-on-crime policies championed by...\n",
      "1      our future economy?\\n- polis admin expects gro...\n",
      "2      it's no surprise to hear law enforcement seize...\n",
      "3      icymi:\\na study by the common sense institute ...\n",
      "4      reuters: \"biden approval rating slips to 40%\"\\...\n",
      "5      in colorado, the average household is paying $...\n",
      "6      in less than one month, the people of co07 wil...\n",
      "7      this is the worst year the stock market has se...\n",
      "8      this morning, team aadland and i canvassed in ...\n",
      "9      colorado has already seized more fentanyl in 2...\n",
      "10     it's easy to look at what's going in this stat...\n",
      "11     washington's reckless spending is destroying e...\n",
      "12                        icymi  https://t.co/u3aerjz8da\n",
      "13     our economy has been devastated by reckless po...\n",
      "14     \"with that resume, aadland could be the true r...\n",
      "15     tonight, i'll be having a meet &amp; greet eve...\n",
      "16     heartbreaking.\\nin 2019, 4 children died from ...\n",
      "17     icymi: i was on fox news earlier this week whe...\n",
      "18     join me and heidi ganahl tomorrow in golden. d...\n",
      "19     my fantastic volunteers have made thousands of...\n",
      "20     hear why the people of #co07 support erik aadl...\n",
      "21     after the fall of afghanistan:\\n- russia invad...\n",
      "22     my new ad launches on cable today!\\ncheck it o...\n",
      "23     looking forward to it!\\n\\n tune in: 630 khow\\n...\n",
      "24     a new gallup poll shows that 48% of americans ...\n",
      "25     i will be on the leland conway radio show at 2...\n",
      "26     colorado has become less safe thanks to my opp...\n",
      "27     my tv ad, sustainability, launches on cable to...\n",
      "28     the national debt has exceeded $31 trillion.\\n...\n",
      "29     \"we've got to get away from embracing any pers...\n",
      "30     on fox news channel in a few minutes. https://...\n",
      "31     ill be on fox news today at 11:50am tune in an...\n",
      "32     mr. coors endorsement is a great honor.\\n\\ni a...\n",
      "33     31% of households are having to skip meals or ...\n",
      "34     overdose deaths in colorado have increased by ...\n",
      "35     leader mccarthy: \"by taking action every day t...\n",
      "36     pettersen sent housing costs through the roof....\n",
      "37     nancy pelosi is helping radical brittany pette...\n",
      "38     colorado's inflation is costing colorado famil...\n",
      "39     as your congressman, i will always serve the f...\n",
      "40     crime is skyrocketing, the economy is in shamb...\n",
      "41     over half of all americans are dipping into th...\n",
      "42     this december, colorado families can expect to...\n",
      "43     today, i will be canvassing with my volunteers...\n",
      "44     my opponent is proud of the soft-on-crime poli...\n",
      "45     our nation's retirees are especially hurting.....\n",
      "46     icymi: yesterday had a virtual town hall with ...\n",
      "47     i had a great time this morning at the centenn...\n",
      "48     i'm taking audience questions at the centennia...\n",
      "49     this morning, i am at the centennial institute...\n",
      "50     more violent crime in #co07 yesterday... i'm p...\n",
      "51     i'm not surprised my opponent isn't showing up...\n",
      "52     we the people deserve better leadership!\\n\\nht...\n",
      "53     i am honored by tims endorsement, which comes ...\n",
      "54     it's easy to look around at what's going on an...\n",
      "55     i am grateful to receive congressman @kevinomc...\n",
      "56     protecting the environment is our shared duty....\n",
      "57     icymi:\\nyesterday i released my newest campaig...\n",
      "58     great video on my opponent from @conmomma!  ht...\n",
      "59     over $3 trillion in retirement savings has bee...\n",
      "60     i am eager to work with @kevinomccarthy in con...\n",
      "61     icymi: yesterday, i shared my thoughts on our ...\n",
      "62     protecting our environment while cutting energ...\n",
      "63     the #commitmenttoamerica aims to:\\n increase p...\n",
      "64     icymi: earlier today i was on the ross kaminsk...\n",
      "65     since biden became potus, he has spent 234 day...\n",
      "66     i am grateful to receive @repkenbuck's endorse...\n",
      "67     colorado's inflation is costing colorado famil...\n",
      "68     i've said it before and i'll say it again: ame...\n",
      "69     i am incredibly grateful for the support we ar...\n",
      "70     former speaker @newtgingrich: \"the house repub...\n",
      "71     it's an unfortunate truth: co is becoming less...\n",
      "72     the commitment to america, which i absolutely ...\n",
      "73     jeffco is tired of career politicians prioriti...\n",
      "74     nypost: americans have lost $4.2k in income un...\n",
      "75     bad actors like russia and china are a major t...\n",
      "76     a man was just arrested in colorado with 90,00...\n",
      "77     i was honored to be with senate candidate @her...\n",
      "78     i am honored to have the endorsement and suppo...\n",
      "79     colorado's drug overdoses have nearly doubled ...\n",
      "80     i'm running for congress so we can build a bri...\n",
      "81     crime is skyrocketing in this state.\\n\\nsoft-o...\n",
      "82     i am looking forward to working with my collea...\n",
      "83     i am honored to have jeffco sheriff jeff shrad...\n",
      "84     this december, colorado families can expect to...\n",
      "85     the southern border has become a humanitarian ...\n",
      "86     while we can feel compassion for those seeking...\n",
      "87     a car is stolen every 14 minutes in this state...\n",
      "88     cnn: only 38% of voters trust democrats to han...\n",
      "89     my opponent now wants to debate but only in a ...\n",
      "90     the crisis at the southern border is an absolu...\n",
      "91     thank you @nfib for your endorsement!\\n\\nsmall...\n",
      "92     colorados liberal legislators, like my opponen...\n",
      "93     inflation is still at record highs and our pur...\n",
      "94     hear why the people of #co07 are supporting er...\n",
      "95     i'm looking forward to it.\\n\\nhopefully my opp...\n",
      "96     i am distinctly honored to receive @corygardne...\n",
      "97     my opponent writes that she supports a balance...\n",
      "98     violent crime in this state is at a record hig...\n",
      "99     i had a great time this past weekend meeting w...\n",
      "100    president biden's appearance on 60 minutes las...\n",
      "101    president biden had the audacity to go on 60 m...\n",
      "102    thanks to progressive soft-on-crime policies c...\n",
      "103    happy 75th birthday to the us air force!\\n@usa...\n",
      "104    i've said it before and i'll say it again: ame...\n",
      "105    our economy has been devastated by reckless po...\n",
      "106    i'm running for congress to build a better fut...\n",
      "107    thank you to broomfield for showing your suppo...\n",
      "108    235 years ago, our founding fathers adopted th...\n",
      "109    this weekend, i will be canvassing with my vol...\n",
      "110    over half of all americans are dipping into th...\n",
      "111    \"its called auto theft, but its often enough a...\n",
      "112    as i tour district 07 and meet with so many gr...\n",
      "113    career politicians have repeatedly made it cle...\n",
      "114    colorado's inflation is costing colorado famil...\n",
      "115    congressman @brianmastfl's endorsement is an h...\n",
      "116    i am honored to be named a young gun by the nr...\n",
      "117    nrcc: \"brittany pettersens failed policies hav...\n",
      "118    my career politician opponent still hasn't agr...\n",
      "119    it's easy to look at what's going in this stat...\n",
      "120    our economy continues to diminish, crime is sp...\n",
      "121    update: my telephone townhall tonight has move...\n",
      "122    in just 12 months, the cost of groceries incre...\n",
      "123    instead of combating inflation, brittany pette...\n",
      "124    hear why the people of district support erik a...\n",
      "125    the price of food is becoming unbearable for c...\n",
      "126    another day has passed. no word from brittany ...\n",
      "127    crime is skyrocketing in this state. just this...\n",
      "128    hear why the people of #co07 support erik aadl...\n",
      "129    i'm so blessed to have such an amazing team su...\n",
      "130    don't forget to sign up for my telephone town ...\n",
      "131    i'm running for congress because i believe ame...\n",
      "132    we still received no response to our challenge...\n",
      "133    heartbreaking news. on sunday, arvada police o...\n",
      "134    this morning i participated in the 9/11 memori...\n",
      "135    may we never forget.\\n#patriotday https://t.co...\n",
      "136    im having a great time meeting with my future ...\n",
      "137    washington's reckless spending is destroying e...\n",
      "138    colorado's inflation is costing colorado famil...\n",
      "139    a free and harmonious society is dependent upo...\n",
      "140    fox31: \"colorado violent crime rising, but not...\n",
      "141    drug dealers are deliberately targeting our ch...\n",
      "142    man-made impact on the environment is real and...\n",
      "143    i will be hosting a telephone town hall on wed...\n",
      "144    bad actors like russia and china are a major t...\n",
      "145    the felon who killed eliza fletcher had a hist...\n",
      "146    hear why the people of district 7 support erik...\n",
      "147    icymi: yesterday, i released my newest campaig...\n",
      "148    denver post: \"at least 1,881 coloradans were k...\n",
      "149    i'm running for congress to build a better fut...\n",
      "150    last year, over 100,000 people died from drug ...\n",
      "151    i had the pleasure of speaking at the ridge at...\n",
      "152    to remedy rise in crime, our state and federal...\n",
      "153    \"its called auto theft, but its often enough a...\n",
      "154    47,000 candy colored pills were found at the s...\n",
      "155    hear what the people of #co07 are saying about...\n",
      "156    2,500 cars &amp; trucks were reported stolen i...\n",
      "157    i will be on the leland conway radio show at 3...\n",
      "158    i challenge my opponent in colorado congressio...\n",
      "159    axios: there have been 60 homicides in denver ...\n",
      "160    over half of all americans are dipping into th...\n",
      "161    it's easy to look at what's going in this stat...\n",
      "162    i am incredibly thankful for all of the suppor...\n",
      "163    our economy has been devastated by reckless po...\n",
      "164    after the fall of afghanistan:\\n- russia invad...\n",
      "165    as an army officer, i upheld my oath to protec...\n",
      "166             happy labor day! https://t.co/1e8aqiefbh\n",
      "167    our economy continues to diminish, crime is sp...\n",
      "168    inflation is at a 40 year high, the cost of gr...\n",
      "169    president biden's approval rating has hit 44%....\n",
      "170    last month, 2130 pounds of fentanyl was seized...\n",
      "171    colorado has become the cocaine capital of the...\n",
      "172    last year, over 100,000 people died from drug ...\n",
      "173    as your congressman, i will always serve the f...\n",
      "174    i've said it before and i'll say it again: ame...\n",
      "175    government spending must be carefully managed ...\n",
      "176    many of our economic woes are due to the destr...\n",
      "177    icymi: \"the chinese communist party (ccp) is a...\n",
      "178    washington's reckless spending is destroying e...\n",
      "179    colorado families are paying $937 more per mon...\n",
      "180    taiwan is standing up to china. the chinese co...\n",
      "181    victory in japan day marked the final day of w...\n",
      "182    https://t.co/sn37ci7fjv\\n\\n colorado congressi...\n",
      "183    i am grateful to receive congressman @gopleade...\n",
      "184    denver is now well known as a leader in auto t...\n",
      "185    until recently the colorado dept of correction...\n",
      "186    washington post \"test scores in elementary sch...\n",
      "187    the inflation reduction act is an absolute dis...\n",
      "188    serving in iraq and afghanistan taught me that...\n",
      "189    it was my pleasure to help open the brand new ...\n",
      "190    \"the chinese communist party (ccp) is a despot...\n",
      "191    nancy pelosi is an embarrassment to her party ...\n",
      "192    nancy pelosi has the audacity to visit co toda...\n",
      "193    under biden &amp; pelosi's \"leadership\" :\\nwe'...\n",
      "194    drug peddlers are bringing 'rainbow fentanyl p...\n",
      "195    i had a fantastic time meeting with my future ...\n",
      "196    it's easy to look at what's going in this stat...\n",
      "197    president biden created the disastrous crisis ...\n",
      "198    in the past four years, colorados rate of drug...\n",
      "199    college graduates are among the highest paid c...\n",
      "200    colorado's inflation is costing colorado famil...\n",
      "201    the aadland army is out in force today canvass...\n",
      "202    as an army officer, i upheld my oath to protec...\n",
      "203    today, we honor the 13 service members who tra...\n",
      "204    we are all coloradans and americans-- each of ...\n",
      "205    icymi: i was on the @mandyconnell radio show e...\n",
      "206    i'll be on the @mandyconnell radio show moment...\n",
      "207    i paid for my college education on the battlef...\n",
      "208    thanks to the sheer negligence coming from car...\n",
      "209    this is nothing but a feeble attempt by the pr...\n",
      "210    it's no surprise to see recent polling show co...\n",
      "211    \"the elite propaganda media and its democrat a...\n",
      "212    more people are \"very dissatisfied\" with their...\n",
      "213    editorial: colorado senators do nothing to sto...\n",
      "214    colorado has already seized more fentanyl in 2...\n",
      "215    drug peddlers are starting to make fentanyl pi...\n",
      "216    if you want to help me #firenancypelosi, pleas...\n",
      "217    71% of americans believe the inflation reducti...\n",
      "218    the inflation reduction act does nothing to re...\n",
      "219    lawlessness prevails in states and municipalit...\n",
      "220    to remedy rise in crime, our state and federal...\n",
      "221    \"will aragons heartbreaking death be denvers w...\n",
      "222    colorado is the nation's cocaine capital.\\n\\nt...\n",
      "223    i will be on the dan caplis radio show tonight...\n",
      "224    icymi: i was on the george brauchler show earl...\n",
      "225                              https://t.co/tgkal4m8ib\n",
      "226    last month, 2,130 pounds of fentanyl was seize...\n",
      "227    colorados liberal legislators, like my opponen...\n",
      "228    denver's food truck vendors were forced to mov...\n",
      "229    after the fall of afghanistan:\\n- russia invad...\n",
      "230    \"we must learn from these grave mistakes in af...\n",
      "231    a year ago, president joe biden, acting on pol...\n",
      "232    great meeting with an impressive group of vete...\n",
      "233    the inflation act of 2022 is an absolute disgr...\n",
      "234    we find ourselves in a recession with a potus ...\n",
      "235    inflation is stifling growth and eroding our p...\n",
      "236    one year ago, the united states disastrously p...\n",
      "237    serving in iraq and afghanistan taught me that...\n",
      "238    in learning from israel and other countries wh...\n",
      "239    in seeking solutions to balance supply, demand...\n",
      "240    this morning i met with lakewood residents at ...\n",
      "241    crime is skyrocketing in colorado.\\n\\nweak-on-...\n",
      "242    if you want to read the us joint economic comm...\n",
      "243    colorado's inflation has reached 15.4%... the ...\n",
      "244    if you want to restore integrity and honesty t...\n",
      "245    today, i stood beside my fellow co gop candida...\n",
      "246    my prayers are with the family and friends of ...\n",
      "247    check out my website to see how you can help m...\n",
      "248    thank you to team aadland for representing us ...\n",
      "249    ill be on the jimmy sengenberger radio show to...\n",
      "250    ill be on the #lelandshow shortly. tune in!\\n\\...\n",
      "251    our economy has been devastated by reckless po...\n",
      "252    i am incredibly grateful for all of the suppor...\n",
      "253    heartbreaking news.\\n\\nthis is what weak-on-cr...\n",
      "254    the people of #co07 are ready for fresh leader...\n",
      "255    in 99 days, the people of colorado will head t...\n",
      "256    happy birthday, colorado! i am incredibly bles...\n",
      "257                              https://t.co/mbbynay3si\n",
      "258    send me to washington and i will work with my ...\n",
      "259    president biden would rather change definition...\n",
      "260    send me to washington, and i will fight to res...\n",
      "261    the tides are turning in colorado. recent poll...\n",
      "262    \"we don't have anything\" seems to be the biden...\n",
      "263    i had a very productive meeting with congressm...\n",
      "264    if you want to restore some economic accountab...\n",
      "265    bloomberg has reported 96% of those aged 75+ w...\n",
      "266    it was great meeting with you @jimmartin60plus...\n",
      "267    in between meetings in washington today, i was...\n",
      "268    if you're tired of the excuses and want to hel...\n",
      "269    instead of taking up responsibility &amp; deli...\n",
      "270    if youre as disgusted as i am with pelosis cor...\n",
      "271    pelosi has been profiting off of her political...\n",
      "272    if you want to help me put a stop to this cris...\n",
      "273    thanks to failures in leadership and soft-on-c...\n",
      "274    i will be on the dan caplis radio show tonight...\n",
      "275    gas prices and inflation are still devastating...\n",
      "276    i will be on the leland conway radio show at 2...\n",
      "277    denver is now #1 in the country for auto theft...\n",
      "278    radical progressive policies have undermined t...\n",
      "279    no surprises from this recent polling.\\n\\nthe ...\n",
      "280    be sure to follow me on all of your favorite s...\n",
      "281    if you want to bring back sensible economic le...\n",
      "282    joe biden's national economic approval rating ...\n",
      "283    help me get nancy pelosi out of the speaker's ...\n",
      "284    nancy pelosi is the poster-child of washington...\n",
      "285    i am so grateful for the grassroots support we...\n",
      "286    i have deep concerns about the civil unrest in...\n",
      "287    if you want to help me restore integrity and a...\n",
      "288    our economy continues to diminish, crime is sp...\n",
      "289    if you want to help me bridge the gap, unite t...\n",
      "290    this is what thoughtless leadership looks like...\n",
      "291    i'll be on the richard randall radio show at 9...\n",
      "292    if you want to restore honest integrity to con...\n",
      "293    it's abundantly clear: the american people are...\n",
      "294    with your support we can restore compassion, e...\n",
      "295    considering our economy has withered away unde...\n",
      "296    it's easy to look at where our country is and ...\n",
      "297    200,000 fentanyl pills were found in colorado ...\n",
      "298    colorado families and business are bracing for...\n",
      "299    inflation is at a 40 year high, the cost of gr...\n",
      "300    colorado families are having to put groceries ...\n",
      "301    happy independence day. may we never forget ho...\n",
      "302    thank you congressman scalise!\\ni look forward...\n",
      "303    i am thrilled and humbled by this hard-won suc...\n",
      "304    i just spoke with @timreichertco who congratul...\n",
      "305    great to have chairwoman @coloradokbb swing by...\n",
      "306    the polls are closed!\\nthank you to everyone w...\n",
      "307    as an army officer, i upheld my oath to protec...\n",
      "308    thank you @conmomma this video still cracks me...\n",
      "309    thank you again for your endorsement and pheno...\n",
      "310    one of my favorite interviews of the last year...\n",
      "311    cant thank you enough @rossputin for your supp...\n",
      "312    i will be forever thankful for the overwhelmin...\n",
      "313    i am so proud of the #aadlandarmy for all thei...\n",
      "314    today is primary election day!\\n\\njoin one of ...\n",
      "315    i love this man for his character, courage, pr...\n",
      "316    i have received endorsements from presidential...\n",
      "317    @secwilkie as the former sec. of the interior,...\n",
      "318    \"[erik is] a champion of the people and vetera...\n",
      "319    \"erik has proven himself on the battlefield &a...\n",
      "320    thank you @conmomma for your endorsement and c...\n",
      "321    tomorrow is primary election day.\\nif you have...\n",
      "322    fantastic win tonight by the avs! \\n\\n#foundaw...\n",
      "323    i am incredibly grateful to have such enthusia...\n",
      "324    from canon city to edgewater, voters are proud...\n",
      "325    our immigration system is broken.\\n\\nas your c...\n",
      "326    one of my missions as cd7s representative will...\n",
      "327    a business owner in cd-7 analyzed my republica...\n",
      "328    im so grateful for all of my amazing volunteer...\n",
      "329    hey jeffco! today ill be in lakewood with team...\n",
      "330    i'll be on the dan caplis radio show in just a...\n",
      "331    tagging #copolitics for all the hateful trolls...\n",
      "332    thank you for your recommendation that cd7 vot...\n",
      "333    \"as a congressman, i will stand against any fe...\n",
      "334    i had a great time last night at our meet and ...\n",
      "335    icymi: yesterday mandy connell recommended me ...\n",
      "336                  absolutely. https://t.co/ji3bd3bzfy\n",
      "337    icymi: i will be hosting a meet and greet even...\n",
      "338                      go avs! https://t.co/gxatckxpyv\n",
      "339    today is the last day you can mail in your bal...\n",
      "340    \"i have no doubt erik will make an extraordina...\n",
      "341    thrilled and honored to have your recommendati...\n",
      "342    hey teller county! ill be having a meet and gr...\n",
      "343    crt is racist, divisive, anti-american and psy...\n",
      "344    \"in short, aadland is, for me, the very model ...\n",
      "345    for me, this has always been about we the peop...\n",
      "346    thank you again @rossputin for your confidence...\n",
      "347    must watch this testament in courage and sober...\n",
      "348    colorado families are hurting.\\n\\ninflation is...\n",
      "349    i'll be on the richard randall show in few min...\n",
      "350           happy fathers day! https://t.co/dktewq7ah7\n",
      "351                              https://t.co/98bke0jm3e\n",
      "352    i will be having a meet &amp; greet event this...\n",
      "353    in case anyones still wondering how to pronoun...\n",
      "354    i'll be on the uncommon sense radio show with ...\n",
      "355    shows that gun control will not fix the core i...\n",
      "356    to me, running for congress is a call to servi...\n",
      "357    my name is erik aadland, im running for congre...\n",
      "358    i'll be on the dan caplis radio show at 5pm.\\n...\n",
      "359                              https://t.co/yeytezi1uy\n",
      "360    @secretaryperry, @secwilkie, @tednugent, @ryan...\n",
      "361    i am incredibly thankful for all of the great ...\n",
      "362    we live in a constitutional republic. get it r...\n",
      "363    if you want to know where i stand on a wide ra...\n",
      "364    coloradans are paying almost $6,000 more since...\n",
      "365    proud to stand with you @mikepompeo in the lon...\n",
      "366    fantastic meeting with @scottpresler last nigh...\n",
      "367     thank you for having me! https://t.co/fq3u6vu637\n",
      "368    this was a very special show @tubbsshow. great...\n",
      "369    today, we celebrate the adoption of our beauti...\n",
      "370                     tune in! https://t.co/fxianwfnw3\n",
      "371    i'll be on the steffan tubbs show this afterno...\n",
      "372     thank you for your vote! https://t.co/ergfjgg6fq\n",
      "373    this morning, my wife and i voted!\\n\\nremember...\n",
      "374    thank you for your support and confidence greg...\n",
      "375     spotted in lake county \\n\\nall across distric...\n",
      "376                        true! https://t.co/4albjrwoqm\n",
      "377    i sure love my kids and the best thing ive don...\n",
      "378    just finished watching  the last dance. loved ...\n",
      "379    check out the esteemed and growing list at htt...\n",
      "380    some of my endorsements:\\n@secretaryperry @rya...\n",
      "381    as always, @conmomma makes me  while spinning ...\n",
      "382    colorado families are having to put their groc...\n",
      "383    i'll be on the jimmy sengenberger show in 15 m...\n",
      "384    \"it is important that my congressional race an...\n",
      "385    \"my goal in 2022 is simple: beat democrats in ...\n",
      "386    i am always shocked and appalled to see electe...\n",
      "387    gas prices in colorado have reached a record h...\n",
      "388    while traveling all over congressional distric...\n",
      "389    i'm having a telephone townhall tonight at 6:3...\n",
      "390    all across district 7, people are showing thei...\n",
      "391    78 years ago, 4,414 allied soldiers lost their...\n",
      "392    thank you @conmomma for your support and your ...\n",
      "393    handing out money doesn't create economic oppo...\n",
      "394    every official elected to federal office takes...\n",
      "395    these mass shootings are a symptom of our mora...\n",
      "396    today, team aadland and i are meeting with vot...\n",
      "397                  #copolitics https://t.co/dhgjukctny\n",
      "398    all across district 7, colorado patriots are t...\n",
      "399    radical progressives have seemingly forgotten ...\n",
      "400    i often get asked why my campaign logo is a li...\n",
      "401    last night, i had the pleasure of meeting with...\n",
      "402    one of the primary responsibilities of our fed...\n",
      "403    on my wall, a gift from my wife many years ago...\n",
      "404    if by rudyard kipling - https://t.co/1cov0vj0y...\n",
      "405    i am honored and grateful to receive it @ricke...\n",
      "406       well said @lelandshow! https://t.co/usxusv7j6r\n",
      "407    good men and women have risked everything or p...\n",
      "408    this weekend, i had the privilege of meeting w...\n",
      "409    lightning round question: how can one member o...\n",
      "410    question: congress has approved sending $40b t...\n",
      "411    question: some say big tech gotten too powerfu...\n",
      "412    question: what should be done about inflation?...\n",
      "413    question: what should be done about the prices...\n",
      "414    question: what, if anything, should be done ab...\n",
      "415    question: how will you appeal to unaffiliated ...\n",
      "416    i was honored to be on the stage for teller co...\n",
      "417    question: what does being a conservative mean ...\n",
      "418    last night was the cd-7 congressional debate i...\n",
      "419    tonight is the gop cd-7 congressional debate i...\n",
      "420    (5/5)\\ni will live up to the promise they have...\n",
      "421    (4/5)\\nthey know the struggle of going before ...\n",
      "422    (3/5)\\ni appreciate them for courageously step...\n",
      "423    (2/5)\\nwhile running in the senate race, i cam...\n",
      "424    endorsement alert\\n\\nsenate candidates eli bre...\n",
      "425    the recklessness of washingtons spending is pr...\n",
      "426    join my telegram!\\nhttps://t.co/wlwz3mega4 htt...\n",
      "427    the uvalde shooting is a heartbreaking tragedy...\n",
      "428    (2/2)...he was a strong voice for conservative...\n",
      "429    endorsement alert\\nrob witwer endorses erik aa...\n",
      "430    more than pain at the pumpthe catastrophic eff...\n",
      "431    thanks for having me!\\n\\ncheck out my intervie...\n",
      "432    i will be on uncommon sense with leland conway...\n",
      "433    i met with so many great folks today in custer...\n",
      "434    today, i had the privilege of speaking with le...\n",
      "435    the snow wont stop us! team aadland is out kno...\n",
      "436    honored to be endorsed by these strong conserv...\n",
      "437           of course they do. https://t.co/vz3929svzh\n",
      "438    we must turn on us energy production immediate...\n",
      "439       staggering.#copolitics https://t.co/f6if8jscmb\n",
      "440                              https://t.co/geppco2who\n",
      "441    thank you @joshua_bly for pointing these out! ...\n",
      "442    the price of gasoline has reached an unprecede...\n",
      "443    the national price of gas is now $4.47 per gal...\n",
      "444    this weekend, i had the privilege of touring c...\n",
      "445    the question we should all be asking is: why d...\n",
      "446    the same oath i took as an army officer, the o...\n",
      "447             wtf? #copolitics https://t.co/eroi4kzcwu\n",
      "448                  #copolitics https://t.co/kbz5vpnykl\n",
      "449          well said senator.  https://t.co/onvxpjx8q5\n",
      "450    she fearlessly speaks out against the radical ...\n",
      "451    i entered this race to create a brighter futur...\n",
      "452    id proudly join this list. https://t.co/37cgi5...\n",
      "453    politicians and pundits whove never served in ...\n",
      "454    what do you think powers the electric grid? ht...\n",
      "455    must be nice to say anything and get 830k like...\n",
      "456    im running for congress to restore integrity t...\n",
      "457    truth is like a . #copolitics https://t.co/maj...\n",
      "458    without mothers, none of us would be blessed w...\n",
      "459                              https://t.co/yhs8rg3njk\n",
      "460                              https://t.co/n0m4yw4s67\n",
      "461    erik aadland will be attending another cd7 deb...\n",
      "462    i love these debates b/c it clearly portrays e...\n",
      "463    thank you ross, it was a privilege to be on yo...\n",
      "464                    go avs!!! https://t.co/oldfizpoz9\n",
      "465    im on uncommon sense with leland conway  630 k...\n",
      "466    bidens disinformation board is patently uncons...\n",
      "467    thank you @rickenstrom !  https://t.co/ze8j2xdkoc\n",
      "468    \"gas is up, rent is up, food is up.\"\\n\\nwe are...\n",
      "469    thank you fremont!\\n\\ni met with so many great...\n",
      "470    follow me on truth social: @aadlandforco https...\n",
      "471    today, team aadland will be knocking on doors ...\n",
      "472    thank to to the freedom fathers for having me ...\n",
      "473    i had a great time meeting with the school of ...\n",
      "474    as i tour district 07 and meet with so many gr...\n",
      "475    ill be having a meet &amp; greet event tonight...\n",
      "476    i love the state of colorado with all its natu...\n",
      "477    i will be on the dan caplis radio show tonight...\n",
      "478    im proud to be a member of the @vetscoalition ...\n",
      "479    senator scott's strategy addresses restoring v...\n",
      "480    i was honored to meet with senator rick scott ...\n",
      "481    thank you ted nugent and the nugent family for...\n",
      "482    colorado river ranked 'most endangered' in the...\n",
      "483    something is rotten in the state of denmark. @...\n",
      "484    inflation has reached 8.5%...\\n\\namerican fami...\n",
      "485    i will be on the dan caplis show this afternoo...\n",
      "486    im on the ballot!\\n\\nim so grateful to get 63%...\n",
      "487    im having a great time meeting with the great ...\n",
      "488    i had a great afternoon meeting with patriots ...\n",
      "489    i am deeply honored by @governorperry's endors...\n",
      "490    even democrats agree: ending title 42 will be ...\n",
      "491    personal freedom is under assault from every a...\n",
      "492    it was great meeting with the people of canon ...\n",
      "493    i hope to see you tonight in broomfield!\\n#cop...\n",
      "494    happy national agriculture day!\\n\\nagriculture...\n",
      "495    here is my press release on this matter. #copo...\n",
      "496    hey broomfield!\\ni will be having a meet &amp;...\n",
      "497    im very proud to have participated as a delega...\n",
      "498    absolutely. now certain politicians and pundit...\n",
      "499    this is the pervasive feeling of almost every ...\n",
      "500    and yes, i am strongly empathetic to the ukrai...\n",
      "501    what are the us national security interests an...\n",
      "502    if youre going to pick a fight, you better be ...\n",
      "503    the destruction of our energy independence not...\n",
      "504    after @govofco and the liberal legislature pas...\n",
      "505    true. to quote mike tyson: everyone has a plan...\n",
      "506    and this failure has emboldened enemies like r...\n",
      "507    my sentiment exactly. #copolitics https://t.co...\n",
      "508    and the biden administration has done everythi...\n",
      "509    and its not rocket science to come to this con...\n",
      "510    sound energy policy is a critical component of...\n",
      "511    i look forward to bringing my experience as a ...\n",
      "512    translation: you will pay more taxes to fund m...\n",
      "513    have americans already forgotten how the absol...\n",
      "514    prerequisites for the us to be prepared for an...\n",
      "515    read war is a racket by general smedley butler...\n",
      "516    some thoughts on the tragic situation in ukrai...\n",
      "517    great question. something smells here.  https:...\n",
      "518    the left has great marketing and people have s...\n",
      "519    i encourage utilizing or developing any and ev...\n",
      "520    youre not the only one @realcandaceo, but ther...\n",
      "521    as a son, a brother, a husband and a father to...\n",
      "522        for all the trolls... https://t.co/calxlhkpud\n",
      "523    where does he think most of the power comes fr...\n",
      "524    we should be de-escalating this, not escalatin...\n",
      "525    as i travel around colorados district 7, i spe...\n",
      "526    furthermore, the failure to take steps to re-s...\n",
      "527    case in point was the avoidable and unnecessar...\n",
      "528    though my heart breaks for ukrainian citizens,...\n",
      "529           truth. #copolitics https://t.co/d5emhyfpe2\n",
      "530            i stand for the united states of america.\n",
      "531    no matter the situation, the interests of the ...\n",
      "532    another great question. energy independence is...\n",
      "533    i wonder why? we should exhaust all economic a...\n",
      "534    certain warhawks in my own party are tempting ...\n",
      "535    agreed. but we must also turn on us production...\n",
      "536    very interesting. #copolitics https://t.co/4rw...\n",
      "537    i wonder what all the virtue-signaling politic...\n",
      "538    seems to be the (absolutely absurd) reality. #...\n",
      "539         exactly. #copolitics https://t.co/nu7lp7yusa\n",
      "540    listen to my talk with the amazing george brau...\n",
      "541    ive had the privilege of hearing from so many ...\n",
      "542    hypocrisy is standard fair for the left. https...\n",
      "543    too many of these warhawk politicians and pund...\n",
      "544    i will never sacrifice my conservative princip...\n",
      "545    at last nights candidate forum, i was asked ab...\n",
      "546    question: if there was a new contract with ame...\n",
      "547    question: how should congress act to restore l...\n",
      "548    question: should the federal government interv...\n",
      "549    question: justice neil gorsuch has stated the ...\n",
      "550    the third district 7 gop candidate forum has b...\n",
      "551    my statement regarding ukraine: https://t.co/k...\n",
      "552    i couldnt agree more senator. https://t.co/j5c...\n",
      "553    as someone who has seen war firsthand, i am de...\n",
      "554    i 100% agree with @hawleymo. we must enact pea...\n",
      "555    tomorrow night, february 24th, is the third re...\n",
      "556    i have submitted my petitions to the secretary...\n",
      "557    hey wheat ridge! i will be at bar rickoli tomo...\n",
      "558    want to know how erik did in the second congre...\n",
      "559    on vaccine mandates:\\n\\nvaccine mandates of an...\n",
      "560    question: if you could eliminate one federal d...\n",
      "561    erik on taxation:\\n\\n\"to think we cant have go...\n",
      "562    erik on what committee he would serve on in co...\n",
      "563    on why erik entered the cd07 race::\\n\\n...at t...\n",
      "564    #co7debate\\nerik: as your congressman, i will ...\n",
      "565    tonights gop district 7 debate is about to beg...\n",
      "566    tonight is the second gop debate for congressi...\n",
      "567    debate question: \"as a member of congress, wha...\n",
      "568    debate question: \"what policy should republica...\n",
      "569    debate question: \"how will you win jefferson c...\n",
      "570    debate question: \"what policy will you pursue ...\n",
      "571    on the the situation in ukraine:\\nshare your t...\n",
      "572    the debate has begun!\\nformer colorado gop cha...\n",
      "573    the first republican district-7 debate will be...\n",
      "574    tonight is the first debate for congressional ...\n",
      "575    polling has shown the american people widely d...\n",
      "576    send me to washington and i'll stand up agains...\n",
      "577    inflation has reached a devastating 40-year hi...\n",
      "578    i had a fantastic time last night in teller co...\n",
      "579                  #copolitics https://t.co/x4ovhgxpv9\n",
      "580    i will never compromise my principles.\\nas you...\n",
      "581    packed house tonight in woodland park! met lot...\n",
      "582    the supreme quality for a leader is unquestion...\n",
      "583    we need to restore integrity to washington and...\n",
      "584    we must never forget the founding principles t...\n",
      "585    hey lakewood i'll be hosting two petition sign...\n",
      "586    im grateful to have robs endorsement. he serve...\n",
      "587    today we remember the millions who died during...\n",
      "588    how far have we fallen off in just a single ye...\n",
      "589    i will never abandon my core principles as a c...\n",
      "590    i am not running for congress for power or to ...\n",
      "591                          2/2 https://t.co/ukoqvb5he6\n",
      "592              1/2 #copolitics https://t.co/rx2xw61p7q\n",
      "593    i am incredibly grateful to receive combat vet...\n",
      "594    unbelievable. can you imagine the outcry and b...\n",
      "595    stay tuned in to my social media and subscribe...\n",
      "596    i've signed the petition!\\nbe sure to come to ...\n",
      "597    im grateful for what steve and joyce have done...\n",
      "598    im deeply honored to have steves endorsement. ...\n",
      "599    this vision includes a better life--one where ...\n",
      "600    i'm grateful to have such phenomenal support i...\n",
      "601    i will be hosting an exclusive fundraising eve...\n",
      "602    when in history have the good guys ever censor...\n",
      "603    this is unconscionable behavior by @potus in d...\n",
      "604    my first telephone town hall of 2022 will be 6...\n",
      "605    i've said it before and i'll say it again: han...\n",
      "606    reagan: to begin withi am not a politician. i ...\n",
      "607    a statement regarding brittany pettersen's ann...\n",
      "608    i commend @repperlmutter for his many years of...\n",
      "609    a statement regarding representative ed perlmu...\n",
      "610    today, we honor our law enforcement officers w...\n",
      "611    i will be on dan caplis' radio show this after...\n",
      "612    vaccine mandates are inhumane, unconstitutiona...\n",
      "613                  absolutely. https://t.co/r3oxzrp87h\n",
      "614    my heart goes out to those in boulder and supe...\n",
      "615                  #copolitics https://t.co/32zi0zqmnt\n",
      "616    thank you @elibremer, for the commendation and...\n",
      "617    im very proud to announce my transition from t...\n",
      "618                  #copolitics https://t.co/mbavqkhdui\n",
      "619    unbelievable. #copolitics https://t.co/epnfv7kdvi\n",
      "620    thank you @mandyconnell, this was fun! https:/...\n",
      "621    build back better does nothing of the sort. wh...\n",
      "622                        fact. https://t.co/tcl8l9w3qg\n",
      "623    new report shows colorado's startling spike in...\n",
      "624                  #copolitics https://t.co/na4emrrg3t\n",
      "625                  #copolitics https://t.co/bogstwevm0\n",
      "626                  #copolitics https://t.co/einl9bh2aq\n",
      "627                  #copolitics https://t.co/sn2npgyw0r\n",
      "628                  #copolitics https://t.co/tji2vj0xsf\n",
      "629                  #copolitics https://t.co/sepiojsmas\n",
      "630                  #copolitics https://t.co/krfy8atbur\n",
      "631                  #copolitics https://t.co/kl5uk3nhx7\n",
      "632    new report shows colorado's startling spike in...\n",
      "633    let us not forget the sacrifices that have bee...\n",
      "634                  #copolitics https://t.co/zuziazxdsy\n",
      "635                  #copolitics https://t.co/sjrcwpii8m\n",
      "636                  #copolitics https://t.co/rddas5hzhf\n",
      "637                  #copolitics https://t.co/jnhcrmrlkh\n",
      "638                  #copolitics https://t.co/5u4liwnxcp\n",
      "639                  #copolitics https://t.co/ncskrpqvao\n",
      "640                  #copolitics https://t.co/g0ouv5cmdb\n",
      "641                  #copolitics https://t.co/xjxqfgzfxy\n",
      "642                  #copolitics https://t.co/nbxw5dxwic\n",
      "643    lets get back to these truths before its too l...\n",
      "644    by drawing on the national petroleum reserves,...\n",
      "645                  #copolitics https://t.co/o70wohbhbo\n",
      "646                  #copolitics https://t.co/snu06sz1sk\n",
      "647                  #copolitics https://t.co/kd61fjcpyl\n",
      "648    when did @fbi become the gestapo? https://t.co...\n",
      "649    it is the height of arrogance to think we can ...\n",
      "650      https://t.co/6nqrov02wt https://t.co/hcfgpz2tbk\n",
      "651           #copolitics #unity https://t.co/gtinrgp10o\n",
      "652     #wethepeople #copolitics https://t.co/4bdq1msqie\n",
      "653    peace through strength as policy must be renew...\n",
      "654    #wethepeople #copolitics #freedom #letsgobrand...\n",
      "655    the leftist fringe has become so toxic, so cru...\n",
      "656    im deeply honored to have colorado state repre...\n",
      "657    #energy #balance #security #copolitics https:/...\n",
      "658    to all my brothers and sisters in arms, curren...\n",
      "659    #copolitics #environment #energy https://t.co/...\n",
      "660    #copolitics #fecklessbiden https://t.co/bjohlr...\n",
      "661    @joebiden and @kamalaharris should check their...\n",
      "662    #copolitics #humankind #makeamericakindagain h...\n",
      "663    erik aadland audio | america first with sebast...\n",
      "664    #water #lifeblood #environment #copolitics htt...\n",
      "665    #moveforward #vision #copolitics https://t.co/...\n",
      "666    #schoolchoice #copolitics #childrenfirst https...\n",
      "667      #copolitics #healthcare https://t.co/t8acl9p0om\n",
      "668    thank you @buckforcolorado for standing up to ...\n",
      "669                              https://t.co/d2q5bp2c0g\n",
      "670    the man i aspire to be... https://t.co/5zyfno2lox\n",
      "671    for all the hateful and divisive trolls out th...\n",
      "672                  #copolitics https://t.co/kt47oycohw\n",
      "673                  #copolitics https://t.co/uszhpalpga\n",
      "674    #copolitics #fjb #letsgobrandon https://t.co/p...\n",
      "675                  #copolitics https://t.co/ftfsyatgv4\n",
      "676    in this time of crisis, we need vision and lea...\n",
      "677                        god bless virginia!  #redwave\n",
      "678    american children are not owned by the state. ...\n",
      "679    oust corrupt politicians who put american citi...\n",
      "680    the radical left infested school boards exactl...\n",
      "681            blind trust in authority is not a virtue.\n",
      "682    never before have we seen such a sharp distinc...\n",
      "683    warriors should be judged by their integrity, ...\n",
      "684    unfortunately @ed4colorado s voting record ref...\n",
      "685    in 9 months @joebiden has racked up more failu...\n",
      "686    https://t.co/d2npezkn9b #copolitics https://t....\n",
      "687    not the insane changes youre ushering in @sena...\n",
      "688    im thrilled to be here this evening with like-...\n",
      "689    all while natural gas is plentiful in this cou...\n",
      "690                              https://t.co/dgod767sp4\n",
      "691    what is happening to our military? https://t.c...\n",
      "692    do @coloradodems actually believe this nonsens...\n",
      "693    mind-blowing insanity.  the radical left reall...\n",
      "694    our government has gone of the rails with thei...\n",
      "695    handing out free money doesnt create opportuni...\n",
      "696                              https://t.co/jfho01zqil\n",
      "697      dont hold your breath.  https://t.co/7owhgm3kka\n",
      "698    the idea of taxing unrealized capital gains is...\n",
      "699    its a significant honor to receive @realtomtan...\n",
      "700    tancredo backs erik aadland in colorado's gop ...\n",
      "701    #saveamerica #fjb #letsgobrandon #copolitics #...\n",
      "702    stand up now for your childrens future. #copol...\n",
      "703    we must stop and reverse the progressive/socia...\n",
      "704    now @senatorbennet, what are you doing about t...\n",
      "705                   #firefauci https://t.co/sruhnorgvm\n",
      "706    critical race theory is not even a theory. it ...\n",
      "707    the proof is in the puddingdemocrat officials ...\n",
      "708    the left has only one play left in their playb...\n",
      "709    utter nonsense. the so-called affordable care ...\n",
      "710    what failed leadership looks like #copolitics ...\n",
      "711    we must stand up now against the radical left ...\n",
      "712             #resist #tyranny https://t.co/cd6oshs5lp\n",
      "713    have we already forgotten that @joebiden is re...\n",
      "714    its time we end arbitrary division based on su...\n"
     ]
    },
    {
     "name": "stderr",
     "output_type": "stream",
     "text": [
      "/opt/conda/lib/python3.7/site-packages/ipykernel/ipkernel.py:287: DeprecationWarning: `should_run_async` will not call `transform_cell` automatically in the future. Please pass the result to `transformed_cell` argument and any exception that happen during thetransform in `preprocessing_exc_tuple` in IPython 7.17 and above.\n",
      "  and should_run_async(code)\n"
     ]
    }
   ],
   "source": [
    "tweets_df2 = tweets_df.Text.to_string()\n",
    "print(tweets_df2)"
   ]
  },
  {
   "cell_type": "code",
   "execution_count": 24,
   "id": "f6322079-cf62-4011-b2da-e65431e604a3",
   "metadata": {},
   "outputs": [
    {
     "name": "stderr",
     "output_type": "stream",
     "text": [
      "/opt/conda/lib/python3.7/site-packages/ipykernel/ipkernel.py:287: DeprecationWarning: `should_run_async` will not call `transform_cell` automatically in the future. Please pass the result to `transformed_cell` argument and any exception that happen during thetransform in `preprocessing_exc_tuple` in IPython 7.17 and above.\n",
      "  and should_run_async(code)\n"
     ]
    },
    {
     "data": {
      "text/plain": [
       "0    thanks to soft-on-crime policies championed by...\n",
       "1    our future economy?\\n- polis admin expects gro...\n",
       "2    it's no surprise to hear law enforcement seize...\n",
       "3    icymi:\\na study by the common sense institute ...\n",
       "4    reuters: \"biden approval rating slips to 40%\"\\...\n",
       "Name: Text, dtype: object"
      ]
     },
     "execution_count": 24,
     "metadata": {},
     "output_type": "execute_result"
    }
   ],
   "source": [
    "tweets_df.Text.head()"
   ]
  },
  {
   "cell_type": "code",
   "execution_count": 25,
   "id": "88f84fcb-af77-4d51-9053-ef692474952c",
   "metadata": {},
   "outputs": [
    {
     "name": "stdout",
     "output_type": "stream",
     "text": [
      "using  as an example\n"
     ]
    },
    {
     "name": "stderr",
     "output_type": "stream",
     "text": [
      "/opt/conda/lib/python3.7/site-packages/ipykernel/ipkernel.py:287: DeprecationWarning: `should_run_async` will not call `transform_cell` automatically in the future. Please pass the result to `transformed_cell` argument and any exception that happen during thetransform in `preprocessing_exc_tuple` in IPython 7.17 and above.\n",
      "  and should_run_async(code)\n"
     ]
    }
   ],
   "source": [
    "def remove_url(text):\n",
    "    return re.sub(r'https?:\\S*', '', text)\n",
    "#testing the function on a single sample for explaination\n",
    "print(remove_url('using https://www.google.com/ as an example'))\n",
    "#removing urls from every row\n",
    "tweets_df.Text=tweets_df.Text.apply(remove_url)"
   ]
  },
  {
   "cell_type": "code",
   "execution_count": 26,
   "id": "416e936f-ea9d-454b-b736-cd54c1c277d1",
   "metadata": {},
   "outputs": [
    {
     "name": "stderr",
     "output_type": "stream",
     "text": [
      "/opt/conda/lib/python3.7/site-packages/ipykernel/ipkernel.py:287: DeprecationWarning: `should_run_async` will not call `transform_cell` automatically in the future. Please pass the result to `transformed_cell` argument and any exception that happen during thetransform in `preprocessing_exc_tuple` in IPython 7.17 and above.\n",
      "  and should_run_async(code)\n"
     ]
    },
    {
     "data": {
      "text/plain": [
       "0    thanks to soft-on-crime policies championed by...\n",
       "1    our future economy?\\n- polis admin expects gro...\n",
       "2    it's no surprise to hear law enforcement seize...\n",
       "3    icymi:\\na study by the common sense institute ...\n",
       "4    reuters: \"biden approval rating slips to 40%\"\\...\n",
       "Name: Text, dtype: object"
      ]
     },
     "execution_count": 26,
     "metadata": {},
     "output_type": "execute_result"
    }
   ],
   "source": [
    "tweets_df.Text.head()"
   ]
  },
  {
   "cell_type": "code",
   "execution_count": 27,
   "id": "677ec7f0-283d-4093-bcdf-71027256fbdc",
   "metadata": {},
   "outputs": [
    {
     "name": "stdout",
     "output_type": "stream",
     "text": [
      "Do not is same as do not\n"
     ]
    },
    {
     "name": "stderr",
     "output_type": "stream",
     "text": [
      "/opt/conda/lib/python3.7/site-packages/ipykernel/ipkernel.py:287: DeprecationWarning: `should_run_async` will not call `transform_cell` automatically in the future. Please pass the result to `transformed_cell` argument and any exception that happen during thetransform in `preprocessing_exc_tuple` in IPython 7.17 and above.\n",
      "  and should_run_async(code)\n"
     ]
    }
   ],
   "source": [
    "def expand_contractions(text):\n",
    "    expanded_words = [] \n",
    "    for word in text.split():\n",
    "        expanded_words.append(contractions.fix(word)) \n",
    "    return ' '.join(expanded_words)\n",
    "#testing the function on a single sample for explaination\n",
    "print(expand_contractions(\"Don't is same as do not\"))\n",
    "#expanding contractions for every row\n",
    "tweets_df.Text=tweets_df.Text.apply(expand_contractions)"
   ]
  },
  {
   "cell_type": "code",
   "execution_count": 28,
   "id": "b0790821-2f67-46ea-98dc-1cbcbba2b0df",
   "metadata": {},
   "outputs": [
    {
     "name": "stderr",
     "output_type": "stream",
     "text": [
      "/opt/conda/lib/python3.7/site-packages/ipykernel/ipkernel.py:287: DeprecationWarning: `should_run_async` will not call `transform_cell` automatically in the future. Please pass the result to `transformed_cell` argument and any exception that happen during thetransform in `preprocessing_exc_tuple` in IPython 7.17 and above.\n",
      "  and should_run_async(code)\n"
     ]
    },
    {
     "data": {
      "text/plain": [
       "0    thanks to soft-on-crime policies championed by...\n",
       "1    our future economy? - polis admin expects grow...\n",
       "2    it is no surprise to hear law enforcement seiz...\n",
       "3    icymi: a study by the common sense institute h...\n",
       "4    reuters: \"biden approval rating slips to 40%\" ...\n",
       "Name: Text, dtype: object"
      ]
     },
     "execution_count": 28,
     "metadata": {},
     "output_type": "execute_result"
    }
   ],
   "source": [
    "tweets_df.Text.head()"
   ]
  },
  {
   "cell_type": "code",
   "execution_count": 29,
   "id": "68187292-d3b9-4898-9daa-dd62fc6aa3a3",
   "metadata": {},
   "outputs": [
    {
     "name": "stdout",
     "output_type": "stream",
     "text": [
      "Some random  and \n"
     ]
    },
    {
     "name": "stderr",
     "output_type": "stream",
     "text": [
      "/opt/conda/lib/python3.7/site-packages/ipykernel/ipkernel.py:287: DeprecationWarning: `should_run_async` will not call `transform_cell` automatically in the future. Please pass the result to `transformed_cell` argument and any exception that happen during thetransform in `preprocessing_exc_tuple` in IPython 7.17 and above.\n",
      "  and should_run_async(code)\n"
     ]
    }
   ],
   "source": [
    "def remove_mentions_and_tags(text):\n",
    "    text = re.sub(r'@\\S*', '', text)\n",
    "    return re.sub(r'#\\S*', '', text)\n",
    "#testing the function on a single sample for explaination\n",
    "print(remove_mentions_and_tags('Some random @abc and #def'))\n",
    "#removing mentions and tags from every row\n",
    "tweets_df.Text=tweets_df.Text.apply(remove_mentions_and_tags)"
   ]
  },
  {
   "cell_type": "code",
   "execution_count": 30,
   "id": "1057709c-a25e-4f6c-9b53-4f310c009a30",
   "metadata": {},
   "outputs": [
    {
     "name": "stderr",
     "output_type": "stream",
     "text": [
      "/opt/conda/lib/python3.7/site-packages/ipykernel/ipkernel.py:287: DeprecationWarning: `should_run_async` will not call `transform_cell` automatically in the future. Please pass the result to `transformed_cell` argument and any exception that happen during thetransform in `preprocessing_exc_tuple` in IPython 7.17 and above.\n",
      "  and should_run_async(code)\n"
     ]
    },
    {
     "data": {
      "text/plain": [
       "0    thanks to soft-on-crime policies championed by...\n",
       "1    our future economy? - polis admin expects grow...\n",
       "2    it is no surprise to hear law enforcement seiz...\n",
       "3    icymi: a study by the common sense institute h...\n",
       "4    reuters: \"biden approval rating slips to 40%\" ...\n",
       "Name: Text, dtype: object"
      ]
     },
     "execution_count": 30,
     "metadata": {},
     "output_type": "execute_result"
    }
   ],
   "source": [
    "tweets_df.Text.head()"
   ]
  },
  {
   "cell_type": "code",
   "execution_count": 31,
   "id": "f198edf8-8493-4e60-b318-d8f9499b8d57",
   "metadata": {},
   "outputs": [
    {
     "name": "stdout",
     "output_type": "stream",
     "text": [
      " ust a bit more   processing required  ust a bit   \n"
     ]
    },
    {
     "name": "stderr",
     "output_type": "stream",
     "text": [
      "/opt/conda/lib/python3.7/site-packages/ipykernel/ipkernel.py:287: DeprecationWarning: `should_run_async` will not call `transform_cell` automatically in the future. Please pass the result to `transformed_cell` argument and any exception that happen during thetransform in `preprocessing_exc_tuple` in IPython 7.17 and above.\n",
      "  and should_run_async(code)\n"
     ]
    }
   ],
   "source": [
    "def keep_only_alphabet(text):\n",
    "    return re.sub(r'[^a-z]', ' ', text)\n",
    "#testing the function on a single sample for explaination\n",
    "print(keep_only_alphabet('Just a bit more $$processing required.Just a bit!!!'))\n",
    "#for all the rows\n",
    "tweets_df.Text=tweets_df.Text.apply(keep_only_alphabet)"
   ]
  },
  {
   "cell_type": "code",
   "execution_count": 32,
   "id": "8bdd9c39-0bcb-4415-bc54-62554250f659",
   "metadata": {},
   "outputs": [
    {
     "name": "stderr",
     "output_type": "stream",
     "text": [
      "/opt/conda/lib/python3.7/site-packages/ipykernel/ipkernel.py:287: DeprecationWarning: `should_run_async` will not call `transform_cell` automatically in the future. Please pass the result to `transformed_cell` argument and any exception that happen during thetransform in `preprocessing_exc_tuple` in IPython 7.17 and above.\n",
      "  and should_run_async(code)\n"
     ]
    },
    {
     "data": {
      "text/plain": [
       "0    thanks to soft on crime policies championed by...\n",
       "1    our future economy    polis admin expects grow...\n",
       "2    it is no surprise to hear law enforcement seiz...\n",
       "3    icymi  a study by the common sense institute h...\n",
       "4    reuters   biden approval rating slips to      ...\n",
       "Name: Text, dtype: object"
      ]
     },
     "execution_count": 32,
     "metadata": {},
     "output_type": "execute_result"
    }
   ],
   "source": [
    "tweets_df.Text.head()"
   ]
  },
  {
   "cell_type": "code",
   "execution_count": 33,
   "id": "212a62dc-e119-4f09-a309-003aebb8be49",
   "metadata": {},
   "outputs": [
    {
     "name": "stderr",
     "output_type": "stream",
     "text": [
      "/opt/conda/lib/python3.7/site-packages/ipykernel/ipkernel.py:287: DeprecationWarning: `should_run_async` will not call `transform_cell` automatically in the future. Please pass the result to `transformed_cell` argument and any exception that happen during thetransform in `preprocessing_exc_tuple` in IPython 7.17 and above.\n",
      "  and should_run_async(code)\n",
      "/opt/conda/lib/python3.7/site-packages/spacy/language.py:1899: UserWarning: [W123] Argument disable with value ['parser', 'ner'] is used instead of ['senter'] as specified in the config. Be aware that this might affect other components in your pipeline.\n",
      "  config_value=config[\"nlp\"][key],\n",
      "/opt/conda/lib/python3.7/site-packages/ipykernel_launcher.py:24: UserWarning: Pandas doesn't allow columns to be created via a new attribute name - see https://pandas.pydata.org/pandas-docs/stable/indexing.html#attribute-access\n"
     ]
    }
   ],
   "source": [
    "def remove_stopwords(text,nlp,custom_stop_words=None,\n",
    "remove_small_tokens=True,min_len=2):\n",
    "    # if custom stop words are provided, then add them to default stop words list\n",
    "    if custom_stop_words:\n",
    "        nlp.Defaults.stop_words |= custom_stop_words\n",
    "    \n",
    "    filtered_sentence =[] \n",
    "    doc=nlp(text)\n",
    "    for token in doc:\n",
    "        \n",
    "        if token.is_stop == False: \n",
    "            \n",
    "            # if small tokens have to be removed, then select only those which are longer than the min_len \n",
    "            if remove_small_tokens:\n",
    "                if len(token.text)>min_len:\n",
    "                    filtered_sentence.append(token.text)\n",
    "            else:\n",
    "                filtered_sentence.append(token.text)\n",
    "    # if after the stop word removal, words are still left in the sentence, then return the sentence as a string else return null \n",
    "    return \" \".join(filtered_sentence) if len(filtered_sentence)>0 else None\n",
    "#creating a spaCy object. \n",
    "nlp = spacy.load(\"en_core_web_sm\", disable=[\"parser\", \"ner\"])\n",
    "#removing stop-words and short words from every row\n",
    "tweets_df.Texts=tweets_df.Text.apply(lambda x:remove_stopwords(x,nlp,{\"\",\"\",}))"
   ]
  },
  {
   "cell_type": "code",
   "execution_count": 34,
   "id": "029e3bcb-3968-4a2f-a4e5-978f809596db",
   "metadata": {},
   "outputs": [
    {
     "name": "stderr",
     "output_type": "stream",
     "text": [
      "/opt/conda/lib/python3.7/site-packages/ipykernel/ipkernel.py:287: DeprecationWarning: `should_run_async` will not call `transform_cell` automatically in the future. Please pass the result to `transformed_cell` argument and any exception that happen during thetransform in `preprocessing_exc_tuple` in IPython 7.17 and above.\n",
      "  and should_run_async(code)\n"
     ]
    },
    {
     "data": {
      "text/plain": [
       "0    thanks to soft on crime policies championed by...\n",
       "1    our future economy    polis admin expects grow...\n",
       "2    it is no surprise to hear law enforcement seiz...\n",
       "3    icymi  a study by the common sense institute h...\n",
       "4    reuters   biden approval rating slips to      ...\n",
       "Name: Text, dtype: object"
      ]
     },
     "execution_count": 34,
     "metadata": {},
     "output_type": "execute_result"
    }
   ],
   "source": [
    "tweets_df.Text.head()"
   ]
  },
  {
   "cell_type": "code",
   "execution_count": 35,
   "id": "bcc49d96-b793-4a73-8618-1f3e978a6ba7",
   "metadata": {},
   "outputs": [
    {
     "name": "stderr",
     "output_type": "stream",
     "text": [
      "/opt/conda/lib/python3.7/site-packages/ipykernel/ipkernel.py:287: DeprecationWarning: `should_run_async` will not call `transform_cell` automatically in the future. Please pass the result to `transformed_cell` argument and any exception that happen during thetransform in `preprocessing_exc_tuple` in IPython 7.17 and above.\n",
      "  and should_run_async(code)\n"
     ]
    },
    {
     "name": "stdout",
     "output_type": "stream",
     "text": [
      "read NLP blog be fun .\n"
     ]
    }
   ],
   "source": [
    "def lemmatize(text, nlp):\n",
    "    doc = nlp(text)\n",
    "    lemmatized_text = []\n",
    "    for token in doc:\n",
    "        lemmatized_text.append(token.lemma_)\n",
    "    return \" \".join(lemmatized_text)\n",
    "#testing the function on a single sample for explaination\n",
    "print(lemmatize('Reading NLP blog is fun.' ,nlp))\n",
    "#Performing lemmatization on every row\n",
    "tweets_df.Text=tweets_df.Text.apply(lambda x:lemmatize(x,nlp))"
   ]
  },
  {
   "cell_type": "code",
   "execution_count": 37,
   "id": "2a649829-4f3c-4c15-97e4-0f1f3f4758d0",
   "metadata": {},
   "outputs": [
    {
     "name": "stderr",
     "output_type": "stream",
     "text": [
      "/opt/conda/lib/python3.7/site-packages/ipykernel/ipkernel.py:287: DeprecationWarning: `should_run_async` will not call `transform_cell` automatically in the future. Please pass the result to `transformed_cell` argument and any exception that happen during thetransform in `preprocessing_exc_tuple` in IPython 7.17 and above.\n",
      "  and should_run_async(code)\n"
     ]
    }
   ],
   "source": [
    "def generate_tokens(tweet):\n",
    "    words=[]\n",
    "    for word in tweet.split(' '):\n",
    "    # using the if condition because we introduced extra spaces during text cleaning\n",
    "       if word!='':\n",
    "            words.append(word)\n",
    "    return words\n",
    "#storing the generated tokens in a new column named 'words'\n",
    "tweets_df['tokens']=tweets_df.Text.apply(generate_tokens)"
   ]
  },
  {
   "cell_type": "code",
   "execution_count": 38,
   "id": "1ac6b925-00a5-4634-b111-67735a03ec06",
   "metadata": {},
   "outputs": [
    {
     "name": "stdout",
     "output_type": "stream",
     "text": [
      "Dictionary<2330 unique tokens: ['ad', 'be', 'by', 'campaign', 'champion']...>\n"
     ]
    },
    {
     "name": "stderr",
     "output_type": "stream",
     "text": [
      "/opt/conda/lib/python3.7/site-packages/ipykernel/ipkernel.py:287: DeprecationWarning: `should_run_async` will not call `transform_cell` automatically in the future. Please pass the result to `transformed_cell` argument and any exception that happen during thetransform in `preprocessing_exc_tuple` in IPython 7.17 and above.\n",
      "  and should_run_async(code)\n"
     ]
    }
   ],
   "source": [
    "def create_dictionary(words):\n",
    "    return corpora.Dictionary(words)\n",
    "#passing the dataframe column having tokens as the argument\n",
    "id2word=create_dictionary(tweets_df.tokens)\n",
    "print(id2word)"
   ]
  },
  {
   "cell_type": "code",
   "execution_count": 41,
   "id": "cbde2cca-d7a3-4266-81da-cd05613e66df",
   "metadata": {},
   "outputs": [
    {
     "name": "stdout",
     "output_type": "stream",
     "text": [
      "['thank', 'to', 'soft', 'on', 'crime', 'policy', 'champion', 'by', 'my', 'opponent', 'fentanyl', 'death', 'be', 'up', 'since', 'this', 'time', 'last', 'year', 'we', 'need', 'leadership', 'in', 'dc', 'that', 'will', 'keep', 'our', 'family', 'safe', 'we', 'need', 'to', 'protect', 'our', 'kid', 'not', 'criminal', 'drug', 'dealer', 'check', 'out', 'my', 'new', 'campaign', 'ad']\n",
      "[(0, 1), (1, 1), (2, 1), (3, 1), (4, 1), (5, 1), (6, 1), (7, 1), (8, 1), (9, 1), (10, 1), (11, 1), (12, 1), (13, 1), (14, 1), (15, 1), (16, 1), (17, 1), (18, 1), (19, 2), (20, 2), (21, 1), (22, 1), (23, 1), (24, 1), (25, 2), (26, 1), (27, 1), (28, 1), (29, 1), (30, 1), (31, 1), (32, 1), (33, 1), (34, 1), (35, 1), (36, 2), (37, 1), (38, 2), (39, 1), (40, 1)]\n"
     ]
    },
    {
     "name": "stderr",
     "output_type": "stream",
     "text": [
      "/opt/conda/lib/python3.7/site-packages/ipykernel/ipkernel.py:287: DeprecationWarning: `should_run_async` will not call `transform_cell` automatically in the future. Please pass the result to `transformed_cell` argument and any exception that happen during thetransform in `preprocessing_exc_tuple` in IPython 7.17 and above.\n",
      "  and should_run_async(code)\n"
     ]
    }
   ],
   "source": [
    "def create_document_matrix(tokens,id2word):\n",
    "    corpus = []\n",
    "    for text in tokens:\n",
    "            corpus.append(id2word.doc2bow(text))\n",
    "    return corpus\n",
    "#passing the dataframe column having tokens and dictionary\n",
    "corpus=create_document_matrix(tweets_df.tokens,id2word)\n",
    "print(tweets_df.tokens[0])\n",
    "print(corpus[0])"
   ]
  },
  {
   "cell_type": "code",
   "execution_count": 42,
   "id": "540917e6-c00e-40ce-9a14-70d024608ad8",
   "metadata": {},
   "outputs": [
    {
     "name": "stderr",
     "output_type": "stream",
     "text": [
      "/opt/conda/lib/python3.7/site-packages/ipykernel/ipkernel.py:287: DeprecationWarning: `should_run_async` will not call `transform_cell` automatically in the future. Please pass the result to `transformed_cell` argument and any exception that happen during thetransform in `preprocessing_exc_tuple` in IPython 7.17 and above.\n",
      "  and should_run_async(code)\n"
     ]
    }
   ],
   "source": [
    "#LDA Model Portion\n",
    "\n",
    "lda_model = gensim.models.ldamodel.LdaModel(corpus=corpus,\n",
    " id2word=id2word,\n",
    " num_topics=10,\n",
    " random_state=100,\n",
    " )\n"
   ]
  },
  {
   "cell_type": "code",
   "execution_count": 48,
   "id": "c63319f3-7038-48e2-bf90-0a4e61bc3b46",
   "metadata": {},
   "outputs": [
    {
     "name": "stderr",
     "output_type": "stream",
     "text": [
      "/opt/conda/lib/python3.7/site-packages/ipykernel/ipkernel.py:287: DeprecationWarning: `should_run_async` will not call `transform_cell` automatically in the future. Please pass the result to `transformed_cell` argument and any exception that happen during thetransform in `preprocessing_exc_tuple` in IPython 7.17 and above.\n",
      "  and should_run_async(code)\n"
     ]
    },
    {
     "data": {
      "text/html": [
       "<div>\n",
       "<style scoped>\n",
       "    .dataframe tbody tr th:only-of-type {\n",
       "        vertical-align: middle;\n",
       "    }\n",
       "\n",
       "    .dataframe tbody tr th {\n",
       "        vertical-align: top;\n",
       "    }\n",
       "\n",
       "    .dataframe thead th {\n",
       "        text-align: right;\n",
       "    }\n",
       "</style>\n",
       "<table border=\"1\" class=\"dataframe\">\n",
       "  <thead>\n",
       "    <tr style=\"text-align: right;\">\n",
       "      <th></th>\n",
       "      <th>Topic # 01</th>\n",
       "      <th>Topic # 02</th>\n",
       "      <th>Topic # 03</th>\n",
       "      <th>Topic # 04</th>\n",
       "      <th>Topic # 05</th>\n",
       "      <th>Topic # 06</th>\n",
       "      <th>Topic # 07</th>\n",
       "      <th>Topic # 08</th>\n",
       "      <th>Topic # 09</th>\n",
       "      <th>Topic # 10</th>\n",
       "    </tr>\n",
       "  </thead>\n",
       "  <tbody>\n",
       "    <tr>\n",
       "      <th>0</th>\n",
       "      <td>to</td>\n",
       "      <td>the</td>\n",
       "      <td>be</td>\n",
       "      <td>the</td>\n",
       "      <td>the</td>\n",
       "      <td>be</td>\n",
       "      <td>to</td>\n",
       "      <td>be</td>\n",
       "      <td>and</td>\n",
       "      <td>to</td>\n",
       "    </tr>\n",
       "    <tr>\n",
       "      <th>1</th>\n",
       "      <td>be</td>\n",
       "      <td>be</td>\n",
       "      <td>to</td>\n",
       "      <td>to</td>\n",
       "      <td>to</td>\n",
       "      <td>the</td>\n",
       "      <td>be</td>\n",
       "      <td>the</td>\n",
       "      <td>to</td>\n",
       "      <td>I</td>\n",
       "    </tr>\n",
       "    <tr>\n",
       "      <th>2</th>\n",
       "      <td>I</td>\n",
       "      <td>and</td>\n",
       "      <td>I</td>\n",
       "      <td>and</td>\n",
       "      <td>be</td>\n",
       "      <td>to</td>\n",
       "      <td>the</td>\n",
       "      <td>on</td>\n",
       "      <td>be</td>\n",
       "      <td>the</td>\n",
       "    </tr>\n",
       "    <tr>\n",
       "      <th>3</th>\n",
       "      <td>the</td>\n",
       "      <td>to</td>\n",
       "      <td>the</td>\n",
       "      <td>of</td>\n",
       "      <td>my</td>\n",
       "      <td>and</td>\n",
       "      <td>of</td>\n",
       "      <td>what</td>\n",
       "      <td>I</td>\n",
       "      <td>be</td>\n",
       "    </tr>\n",
       "    <tr>\n",
       "      <th>4</th>\n",
       "      <td>of</td>\n",
       "      <td>our</td>\n",
       "      <td>and</td>\n",
       "      <td>in</td>\n",
       "      <td>you</td>\n",
       "      <td>in</td>\n",
       "      <td>and</td>\n",
       "      <td>leadership</td>\n",
       "      <td>the</td>\n",
       "      <td>and</td>\n",
       "    </tr>\n",
       "    <tr>\n",
       "      <th>5</th>\n",
       "      <td>and</td>\n",
       "      <td>of</td>\n",
       "      <td>in</td>\n",
       "      <td>our</td>\n",
       "      <td>have</td>\n",
       "      <td>I</td>\n",
       "      <td>I</td>\n",
       "      <td>I</td>\n",
       "      <td>for</td>\n",
       "      <td>our</td>\n",
       "    </tr>\n",
       "    <tr>\n",
       "      <th>6</th>\n",
       "      <td>in</td>\n",
       "      <td>I</td>\n",
       "      <td>of</td>\n",
       "      <td>be</td>\n",
       "      <td>of</td>\n",
       "      <td>this</td>\n",
       "      <td>in</td>\n",
       "      <td>family</td>\n",
       "      <td>of</td>\n",
       "      <td>will</td>\n",
       "    </tr>\n",
       "    <tr>\n",
       "      <th>7</th>\n",
       "      <td>for</td>\n",
       "      <td>in</td>\n",
       "      <td>a</td>\n",
       "      <td>s</td>\n",
       "      <td>I</td>\n",
       "      <td>will</td>\n",
       "      <td>have</td>\n",
       "      <td>solution</td>\n",
       "      <td>in</td>\n",
       "      <td>in</td>\n",
       "    </tr>\n",
       "    <tr>\n",
       "      <th>8</th>\n",
       "      <td>have</td>\n",
       "      <td>on</td>\n",
       "      <td>for</td>\n",
       "      <td>have</td>\n",
       "      <td>and</td>\n",
       "      <td>on</td>\n",
       "      <td>you</td>\n",
       "      <td>will</td>\n",
       "      <td>have</td>\n",
       "      <td>have</td>\n",
       "    </tr>\n",
       "    <tr>\n",
       "      <th>9</th>\n",
       "      <td>a</td>\n",
       "      <td>have</td>\n",
       "      <td>will</td>\n",
       "      <td>a</td>\n",
       "      <td>in</td>\n",
       "      <td>we</td>\n",
       "      <td>a</td>\n",
       "      <td>this</td>\n",
       "      <td>you</td>\n",
       "      <td>a</td>\n",
       "    </tr>\n",
       "  </tbody>\n",
       "</table>\n",
       "</div>"
      ],
      "text/plain": [
       "  Topic # 01 Topic # 02 Topic # 03 Topic # 04 Topic # 05 Topic # 06  \\\n",
       "0         to        the         be        the        the         be   \n",
       "1         be         be         to         to         to        the   \n",
       "2          I        and          I        and         be         to   \n",
       "3        the         to        the         of         my        and   \n",
       "4         of        our        and         in        you         in   \n",
       "5        and         of         in        our       have          I   \n",
       "6         in          I         of         be         of       this   \n",
       "7        for         in          a          s          I       will   \n",
       "8       have         on        for       have        and         on   \n",
       "9          a       have       will          a         in         we   \n",
       "\n",
       "  Topic # 07  Topic # 08 Topic # 09 Topic # 10  \n",
       "0         to          be        and         to  \n",
       "1         be         the         to          I  \n",
       "2        the          on         be        the  \n",
       "3         of        what          I         be  \n",
       "4        and  leadership        the        and  \n",
       "5          I           I        for        our  \n",
       "6         in      family         of       will  \n",
       "7       have    solution         in         in  \n",
       "8        you        will       have       have  \n",
       "9          a        this        you          a  "
      ]
     },
     "execution_count": 48,
     "metadata": {},
     "output_type": "execute_result"
    }
   ],
   "source": [
    "def get_lda_topics(model, num_topics, top_n_words):\n",
    "    word_dict = {}\n",
    "    for i in range(num_topics):\n",
    "            word_dict['Topic # ' + '{:02d}'.format(i+1)] = [i[0] for i in model.show_topic(i, topn = top_n_words)];\n",
    " \n",
    "    return pd.DataFrame(word_dict)\n",
    "get_lda_topics(lda_model,10,10)"
   ]
  },
  {
   "cell_type": "code",
   "execution_count": 49,
   "id": "cbc8b200-3b96-49ae-8055-1f075e9045c4",
   "metadata": {},
   "outputs": [
    {
     "name": "stderr",
     "output_type": "stream",
     "text": [
      "/opt/conda/lib/python3.7/site-packages/ipykernel/ipkernel.py:287: DeprecationWarning: `should_run_async` will not call `transform_cell` automatically in the future. Please pass the result to `transformed_cell` argument and any exception that happen during thetransform in `preprocessing_exc_tuple` in IPython 7.17 and above.\n",
      "  and should_run_async(code)\n",
      "/opt/conda/lib/python3.7/site-packages/pyLDAvis/_prepare.py:247: FutureWarning: In a future version of pandas all arguments of DataFrame.drop except for the argument 'labels' will be keyword-only\n",
      "  by='saliency', ascending=False).head(R).drop('saliency', 1)\n",
      "/opt/conda/lib/python3.7/site-packages/sklearn/metrics/pairwise.py:56: DeprecationWarning: `np.float` is a deprecated alias for the builtin `float`. To silence this warning, use `float` by itself. Doing this will not modify any behavior and is safe. If you specifically wanted the numpy scalar type, use `np.float64` here.\n",
      "Deprecated in NumPy 1.20; for more details and guidance: https://numpy.org/devdocs/release/1.20.0-notes.html#deprecations\n",
      "  dtype = np.float\n",
      "/opt/conda/lib/python3.7/site-packages/sklearn/metrics/pairwise.py:56: DeprecationWarning: `np.float` is a deprecated alias for the builtin `float`. To silence this warning, use `float` by itself. Doing this will not modify any behavior and is safe. If you specifically wanted the numpy scalar type, use `np.float64` here.\n",
      "Deprecated in NumPy 1.20; for more details and guidance: https://numpy.org/devdocs/release/1.20.0-notes.html#deprecations\n",
      "  dtype = np.float\n",
      "/opt/conda/lib/python3.7/site-packages/sklearn/metrics/pairwise.py:56: DeprecationWarning: `np.float` is a deprecated alias for the builtin `float`. To silence this warning, use `float` by itself. Doing this will not modify any behavior and is safe. If you specifically wanted the numpy scalar type, use `np.float64` here.\n",
      "Deprecated in NumPy 1.20; for more details and guidance: https://numpy.org/devdocs/release/1.20.0-notes.html#deprecations\n",
      "  dtype = np.float\n",
      "/opt/conda/lib/python3.7/site-packages/sklearn/metrics/pairwise.py:56: DeprecationWarning: `np.float` is a deprecated alias for the builtin `float`. To silence this warning, use `float` by itself. Doing this will not modify any behavior and is safe. If you specifically wanted the numpy scalar type, use `np.float64` here.\n",
      "Deprecated in NumPy 1.20; for more details and guidance: https://numpy.org/devdocs/release/1.20.0-notes.html#deprecations\n",
      "  dtype = np.float\n",
      "/opt/conda/lib/python3.7/site-packages/sklearn/metrics/pairwise.py:56: DeprecationWarning: `np.float` is a deprecated alias for the builtin `float`. To silence this warning, use `float` by itself. Doing this will not modify any behavior and is safe. If you specifically wanted the numpy scalar type, use `np.float64` here.\n",
      "Deprecated in NumPy 1.20; for more details and guidance: https://numpy.org/devdocs/release/1.20.0-notes.html#deprecations\n",
      "  dtype = np.float\n",
      "/opt/conda/lib/python3.7/site-packages/sklearn/metrics/pairwise.py:56: DeprecationWarning: `np.float` is a deprecated alias for the builtin `float`. To silence this warning, use `float` by itself. Doing this will not modify any behavior and is safe. If you specifically wanted the numpy scalar type, use `np.float64` here.\n",
      "Deprecated in NumPy 1.20; for more details and guidance: https://numpy.org/devdocs/release/1.20.0-notes.html#deprecations\n",
      "  dtype = np.float\n",
      "/opt/conda/lib/python3.7/site-packages/sklearn/metrics/pairwise.py:56: DeprecationWarning: `np.float` is a deprecated alias for the builtin `float`. To silence this warning, use `float` by itself. Doing this will not modify any behavior and is safe. If you specifically wanted the numpy scalar type, use `np.float64` here.\n",
      "Deprecated in NumPy 1.20; for more details and guidance: https://numpy.org/devdocs/release/1.20.0-notes.html#deprecations\n",
      "  dtype = np.float\n",
      "/opt/conda/lib/python3.7/site-packages/sklearn/metrics/pairwise.py:56: DeprecationWarning: `np.float` is a deprecated alias for the builtin `float`. To silence this warning, use `float` by itself. Doing this will not modify any behavior and is safe. If you specifically wanted the numpy scalar type, use `np.float64` here.\n",
      "Deprecated in NumPy 1.20; for more details and guidance: https://numpy.org/devdocs/release/1.20.0-notes.html#deprecations\n",
      "  dtype = np.float\n",
      "/opt/conda/lib/python3.7/site-packages/sklearn/metrics/pairwise.py:56: DeprecationWarning: `np.float` is a deprecated alias for the builtin `float`. To silence this warning, use `float` by itself. Doing this will not modify any behavior and is safe. If you specifically wanted the numpy scalar type, use `np.float64` here.\n",
      "Deprecated in NumPy 1.20; for more details and guidance: https://numpy.org/devdocs/release/1.20.0-notes.html#deprecations\n",
      "  dtype = np.float\n",
      "/opt/conda/lib/python3.7/site-packages/sklearn/metrics/pairwise.py:56: DeprecationWarning: `np.float` is a deprecated alias for the builtin `float`. To silence this warning, use `float` by itself. Doing this will not modify any behavior and is safe. If you specifically wanted the numpy scalar type, use `np.float64` here.\n",
      "Deprecated in NumPy 1.20; for more details and guidance: https://numpy.org/devdocs/release/1.20.0-notes.html#deprecations\n",
      "  dtype = np.float\n",
      "/opt/conda/lib/python3.7/site-packages/sklearn/metrics/pairwise.py:56: DeprecationWarning: `np.float` is a deprecated alias for the builtin `float`. To silence this warning, use `float` by itself. Doing this will not modify any behavior and is safe. If you specifically wanted the numpy scalar type, use `np.float64` here.\n",
      "Deprecated in NumPy 1.20; for more details and guidance: https://numpy.org/devdocs/release/1.20.0-notes.html#deprecations\n",
      "  dtype = np.float\n",
      "/opt/conda/lib/python3.7/site-packages/sklearn/metrics/pairwise.py:56: DeprecationWarning: `np.float` is a deprecated alias for the builtin `float`. To silence this warning, use `float` by itself. Doing this will not modify any behavior and is safe. If you specifically wanted the numpy scalar type, use `np.float64` here.\n",
      "Deprecated in NumPy 1.20; for more details and guidance: https://numpy.org/devdocs/release/1.20.0-notes.html#deprecations\n",
      "  dtype = np.float\n",
      "/opt/conda/lib/python3.7/site-packages/sklearn/metrics/pairwise.py:56: DeprecationWarning: `np.float` is a deprecated alias for the builtin `float`. To silence this warning, use `float` by itself. Doing this will not modify any behavior and is safe. If you specifically wanted the numpy scalar type, use `np.float64` here.\n",
      "Deprecated in NumPy 1.20; for more details and guidance: https://numpy.org/devdocs/release/1.20.0-notes.html#deprecations\n",
      "  dtype = np.float\n",
      "/opt/conda/lib/python3.7/site-packages/sklearn/metrics/pairwise.py:56: DeprecationWarning: `np.float` is a deprecated alias for the builtin `float`. To silence this warning, use `float` by itself. Doing this will not modify any behavior and is safe. If you specifically wanted the numpy scalar type, use `np.float64` here.\n",
      "Deprecated in NumPy 1.20; for more details and guidance: https://numpy.org/devdocs/release/1.20.0-notes.html#deprecations\n",
      "  dtype = np.float\n",
      "/opt/conda/lib/python3.7/site-packages/sklearn/metrics/pairwise.py:56: DeprecationWarning: `np.float` is a deprecated alias for the builtin `float`. To silence this warning, use `float` by itself. Doing this will not modify any behavior and is safe. If you specifically wanted the numpy scalar type, use `np.float64` here.\n",
      "Deprecated in NumPy 1.20; for more details and guidance: https://numpy.org/devdocs/release/1.20.0-notes.html#deprecations\n",
      "  dtype = np.float\n",
      "/opt/conda/lib/python3.7/site-packages/sklearn/metrics/pairwise.py:56: DeprecationWarning: `np.float` is a deprecated alias for the builtin `float`. To silence this warning, use `float` by itself. Doing this will not modify any behavior and is safe. If you specifically wanted the numpy scalar type, use `np.float64` here.\n",
      "Deprecated in NumPy 1.20; for more details and guidance: https://numpy.org/devdocs/release/1.20.0-notes.html#deprecations\n",
      "  dtype = np.float\n",
      "/opt/conda/lib/python3.7/site-packages/sklearn/metrics/pairwise.py:56: DeprecationWarning: `np.float` is a deprecated alias for the builtin `float`. To silence this warning, use `float` by itself. Doing this will not modify any behavior and is safe. If you specifically wanted the numpy scalar type, use `np.float64` here.\n",
      "Deprecated in NumPy 1.20; for more details and guidance: https://numpy.org/devdocs/release/1.20.0-notes.html#deprecations\n",
      "  dtype = np.float\n",
      "/opt/conda/lib/python3.7/site-packages/sklearn/metrics/pairwise.py:56: DeprecationWarning: `np.float` is a deprecated alias for the builtin `float`. To silence this warning, use `float` by itself. Doing this will not modify any behavior and is safe. If you specifically wanted the numpy scalar type, use `np.float64` here.\n",
      "Deprecated in NumPy 1.20; for more details and guidance: https://numpy.org/devdocs/release/1.20.0-notes.html#deprecations\n",
      "  dtype = np.float\n",
      "/opt/conda/lib/python3.7/site-packages/sklearn/metrics/pairwise.py:56: DeprecationWarning: `np.float` is a deprecated alias for the builtin `float`. To silence this warning, use `float` by itself. Doing this will not modify any behavior and is safe. If you specifically wanted the numpy scalar type, use `np.float64` here.\n",
      "Deprecated in NumPy 1.20; for more details and guidance: https://numpy.org/devdocs/release/1.20.0-notes.html#deprecations\n",
      "  dtype = np.float\n",
      "/opt/conda/lib/python3.7/site-packages/sklearn/metrics/pairwise.py:56: DeprecationWarning: `np.float` is a deprecated alias for the builtin `float`. To silence this warning, use `float` by itself. Doing this will not modify any behavior and is safe. If you specifically wanted the numpy scalar type, use `np.float64` here.\n",
      "Deprecated in NumPy 1.20; for more details and guidance: https://numpy.org/devdocs/release/1.20.0-notes.html#deprecations\n",
      "  dtype = np.float\n",
      "/opt/conda/lib/python3.7/site-packages/sklearn/metrics/pairwise.py:56: DeprecationWarning: `np.float` is a deprecated alias for the builtin `float`. To silence this warning, use `float` by itself. Doing this will not modify any behavior and is safe. If you specifically wanted the numpy scalar type, use `np.float64` here.\n",
      "Deprecated in NumPy 1.20; for more details and guidance: https://numpy.org/devdocs/release/1.20.0-notes.html#deprecations\n",
      "  dtype = np.float\n",
      "/opt/conda/lib/python3.7/site-packages/sklearn/metrics/pairwise.py:56: DeprecationWarning: `np.float` is a deprecated alias for the builtin `float`. To silence this warning, use `float` by itself. Doing this will not modify any behavior and is safe. If you specifically wanted the numpy scalar type, use `np.float64` here.\n",
      "Deprecated in NumPy 1.20; for more details and guidance: https://numpy.org/devdocs/release/1.20.0-notes.html#deprecations\n",
      "  dtype = np.float\n",
      "/opt/conda/lib/python3.7/site-packages/sklearn/metrics/pairwise.py:56: DeprecationWarning: `np.float` is a deprecated alias for the builtin `float`. To silence this warning, use `float` by itself. Doing this will not modify any behavior and is safe. If you specifically wanted the numpy scalar type, use `np.float64` here.\n",
      "Deprecated in NumPy 1.20; for more details and guidance: https://numpy.org/devdocs/release/1.20.0-notes.html#deprecations\n",
      "  dtype = np.float\n",
      "/opt/conda/lib/python3.7/site-packages/sklearn/metrics/pairwise.py:56: DeprecationWarning: `np.float` is a deprecated alias for the builtin `float`. To silence this warning, use `float` by itself. Doing this will not modify any behavior and is safe. If you specifically wanted the numpy scalar type, use `np.float64` here.\n",
      "Deprecated in NumPy 1.20; for more details and guidance: https://numpy.org/devdocs/release/1.20.0-notes.html#deprecations\n",
      "  dtype = np.float\n",
      "/opt/conda/lib/python3.7/site-packages/sklearn/metrics/pairwise.py:56: DeprecationWarning: `np.float` is a deprecated alias for the builtin `float`. To silence this warning, use `float` by itself. Doing this will not modify any behavior and is safe. If you specifically wanted the numpy scalar type, use `np.float64` here.\n",
      "Deprecated in NumPy 1.20; for more details and guidance: https://numpy.org/devdocs/release/1.20.0-notes.html#deprecations\n",
      "  dtype = np.float\n",
      "/opt/conda/lib/python3.7/site-packages/sklearn/metrics/pairwise.py:56: DeprecationWarning: `np.float` is a deprecated alias for the builtin `float`. To silence this warning, use `float` by itself. Doing this will not modify any behavior and is safe. If you specifically wanted the numpy scalar type, use `np.float64` here.\n",
      "Deprecated in NumPy 1.20; for more details and guidance: https://numpy.org/devdocs/release/1.20.0-notes.html#deprecations\n",
      "  dtype = np.float\n",
      "/opt/conda/lib/python3.7/site-packages/sklearn/metrics/pairwise.py:56: DeprecationWarning: `np.float` is a deprecated alias for the builtin `float`. To silence this warning, use `float` by itself. Doing this will not modify any behavior and is safe. If you specifically wanted the numpy scalar type, use `np.float64` here.\n",
      "Deprecated in NumPy 1.20; for more details and guidance: https://numpy.org/devdocs/release/1.20.0-notes.html#deprecations\n",
      "  dtype = np.float\n",
      "/opt/conda/lib/python3.7/site-packages/sklearn/metrics/pairwise.py:56: DeprecationWarning: `np.float` is a deprecated alias for the builtin `float`. To silence this warning, use `float` by itself. Doing this will not modify any behavior and is safe. If you specifically wanted the numpy scalar type, use `np.float64` here.\n",
      "Deprecated in NumPy 1.20; for more details and guidance: https://numpy.org/devdocs/release/1.20.0-notes.html#deprecations\n",
      "  dtype = np.float\n",
      "/opt/conda/lib/python3.7/site-packages/sklearn/metrics/pairwise.py:56: DeprecationWarning: `np.float` is a deprecated alias for the builtin `float`. To silence this warning, use `float` by itself. Doing this will not modify any behavior and is safe. If you specifically wanted the numpy scalar type, use `np.float64` here.\n",
      "Deprecated in NumPy 1.20; for more details and guidance: https://numpy.org/devdocs/release/1.20.0-notes.html#deprecations\n",
      "  dtype = np.float\n",
      "/opt/conda/lib/python3.7/site-packages/sklearn/metrics/pairwise.py:56: DeprecationWarning: `np.float` is a deprecated alias for the builtin `float`. To silence this warning, use `float` by itself. Doing this will not modify any behavior and is safe. If you specifically wanted the numpy scalar type, use `np.float64` here.\n",
      "Deprecated in NumPy 1.20; for more details and guidance: https://numpy.org/devdocs/release/1.20.0-notes.html#deprecations\n",
      "  dtype = np.float\n",
      "/opt/conda/lib/python3.7/site-packages/sklearn/metrics/pairwise.py:56: DeprecationWarning: `np.float` is a deprecated alias for the builtin `float`. To silence this warning, use `float` by itself. Doing this will not modify any behavior and is safe. If you specifically wanted the numpy scalar type, use `np.float64` here.\n",
      "Deprecated in NumPy 1.20; for more details and guidance: https://numpy.org/devdocs/release/1.20.0-notes.html#deprecations\n",
      "  dtype = np.float\n",
      "/opt/conda/lib/python3.7/site-packages/sklearn/metrics/pairwise.py:56: DeprecationWarning: `np.float` is a deprecated alias for the builtin `float`. To silence this warning, use `float` by itself. Doing this will not modify any behavior and is safe. If you specifically wanted the numpy scalar type, use `np.float64` here.\n",
      "Deprecated in NumPy 1.20; for more details and guidance: https://numpy.org/devdocs/release/1.20.0-notes.html#deprecations\n",
      "  dtype = np.float\n",
      "/opt/conda/lib/python3.7/site-packages/sklearn/metrics/pairwise.py:56: DeprecationWarning: `np.float` is a deprecated alias for the builtin `float`. To silence this warning, use `float` by itself. Doing this will not modify any behavior and is safe. If you specifically wanted the numpy scalar type, use `np.float64` here.\n",
      "Deprecated in NumPy 1.20; for more details and guidance: https://numpy.org/devdocs/release/1.20.0-notes.html#deprecations\n",
      "  dtype = np.float\n",
      "/opt/conda/lib/python3.7/site-packages/sklearn/metrics/pairwise.py:56: DeprecationWarning: `np.float` is a deprecated alias for the builtin `float`. To silence this warning, use `float` by itself. Doing this will not modify any behavior and is safe. If you specifically wanted the numpy scalar type, use `np.float64` here.\n",
      "Deprecated in NumPy 1.20; for more details and guidance: https://numpy.org/devdocs/release/1.20.0-notes.html#deprecations\n",
      "  dtype = np.float\n",
      "/opt/conda/lib/python3.7/site-packages/sklearn/metrics/pairwise.py:56: DeprecationWarning: `np.float` is a deprecated alias for the builtin `float`. To silence this warning, use `float` by itself. Doing this will not modify any behavior and is safe. If you specifically wanted the numpy scalar type, use `np.float64` here.\n",
      "Deprecated in NumPy 1.20; for more details and guidance: https://numpy.org/devdocs/release/1.20.0-notes.html#deprecations\n",
      "  dtype = np.float\n",
      "/opt/conda/lib/python3.7/site-packages/sklearn/metrics/pairwise.py:56: DeprecationWarning: `np.float` is a deprecated alias for the builtin `float`. To silence this warning, use `float` by itself. Doing this will not modify any behavior and is safe. If you specifically wanted the numpy scalar type, use `np.float64` here.\n",
      "Deprecated in NumPy 1.20; for more details and guidance: https://numpy.org/devdocs/release/1.20.0-notes.html#deprecations\n",
      "  dtype = np.float\n",
      "/opt/conda/lib/python3.7/site-packages/sklearn/metrics/pairwise.py:56: DeprecationWarning: `np.float` is a deprecated alias for the builtin `float`. To silence this warning, use `float` by itself. Doing this will not modify any behavior and is safe. If you specifically wanted the numpy scalar type, use `np.float64` here.\n",
      "Deprecated in NumPy 1.20; for more details and guidance: https://numpy.org/devdocs/release/1.20.0-notes.html#deprecations\n",
      "  dtype = np.float\n",
      "/opt/conda/lib/python3.7/site-packages/sklearn/metrics/pairwise.py:56: DeprecationWarning: `np.float` is a deprecated alias for the builtin `float`. To silence this warning, use `float` by itself. Doing this will not modify any behavior and is safe. If you specifically wanted the numpy scalar type, use `np.float64` here.\n",
      "Deprecated in NumPy 1.20; for more details and guidance: https://numpy.org/devdocs/release/1.20.0-notes.html#deprecations\n",
      "  dtype = np.float\n",
      "/opt/conda/lib/python3.7/site-packages/sklearn/metrics/pairwise.py:56: DeprecationWarning: `np.float` is a deprecated alias for the builtin `float`. To silence this warning, use `float` by itself. Doing this will not modify any behavior and is safe. If you specifically wanted the numpy scalar type, use `np.float64` here.\n",
      "Deprecated in NumPy 1.20; for more details and guidance: https://numpy.org/devdocs/release/1.20.0-notes.html#deprecations\n",
      "  dtype = np.float\n"
     ]
    },
    {
     "data": {
      "text/html": [
       "\n",
       "<link rel=\"stylesheet\" type=\"text/css\" href=\"https://cdn.jsdelivr.net/gh/bmabey/pyLDAvis@3.3.1/pyLDAvis/js/ldavis.v1.0.0.css\">\n",
       "\n",
       "\n",
       "<div id=\"ldavis_el19140231440025680146162279\"></div>\n",
       "<script type=\"text/javascript\">\n",
       "\n",
       "var ldavis_el19140231440025680146162279_data = {\"mdsDat\": {\"x\": [0.030938162178442166, 0.011473539485685084, -0.045362023465095734, -0.039338754978253766, -0.014340758783397873, -0.09419184731520147, 0.004763829259489657, -0.08166529369988068, 0.05568203271849708, 0.17204111459971552], \"y\": [0.038830939956933055, 0.0804752690498768, -0.011513619563340799, 0.07684636713656536, -0.09468488535089918, 0.03996448423511642, -0.026509407622182797, -0.04695793713612859, -0.02712687809280062, -0.029324332613139673], \"topics\": [1, 2, 3, 4, 5, 6, 7, 8, 9, 10], \"cluster\": [1, 1, 1, 1, 1, 1, 1, 1, 1, 1], \"Freq\": [23.641628218708963, 16.544405970006327, 15.780926645682152, 11.682510649920982, 7.901975212376132, 7.3273300384800875, 6.692328857102997, 4.984584062752144, 4.512075847582982, 0.9322344973872347]}, \"tinfo\": {\"Term\": [\"the\", \"be\", \"to\", \"of\", \"I\", \"and\", \"our\", \"on\", \"a\", \"what\", \"you\", \"colorado\", \"will\", \"in\", \"my\", \"leadership\", \"have\", \"s\", \"family\", \"that\", \"solution\", \"like\", \"than\", \"look\", \"for\", \"campaign\", \"we\", \"inflation\", \"people\", \"pelosi\", \"runaway\", \"online\", \"dan\", \"caplis\", \"tune\", \"khow\", \"shortly\", \"kvor\", \"via\", \"blind\", \"randall\", \"reel\", \"listen\", \"deny\", \"devastate\", \"attempt\", \"close\", \"hashtag\", \"minute\", \"dow\", \"mental\", \"equip\", \"credit\", \"unaffordability\", \"radio\", \"p\", \"graduate\", \"pessimistic\", \"late\", \"proudly\", \"president\", \"thought\", \"update\", \"gop\", \"show\", \"afternoon\", \"economy\", \"behind\", \"biden\", \"be\", \"the\", \"this\", \"in\", \"we\", \"will\", \"than\", \"on\", \"and\", \"more\", \"to\", \"s\", \"not\", \"at\", \"that\", \"a\", \"I\", \"colorado\", \"it\", \"its\", \"for\", \"by\", \"have\", \"of\", \"with\", \"my\", \"people\", \"your\", \"our\", \"you\", \"washington\", \"previous\", \"nugent\", \"discouraged\", \"homicide\", \"haven\", \"provide\", \"sheriff\", \"surpass\", \"himself\", \"prove\", \"lightning\", \"reassure\", \"discover\", \"candidacy\", \"upward\", \"range\", \"meetings\", \"round\", \"mess\", \"fundraiser\", \"butler\", \"greatly\", \"unfortunately\", \"maintain\", \"tactic\", \"peery\", \"retire\", \"wall\", \"reflection\", \"andrew\", \"concerned\", \"seize\", \"troll\", \"december\", \"all\", \"flour\", \"feel\", \"pragmatic\", \"fentanyl\", \"what\", \"never\", \"principle\", \"know\", \"senate\", \"congress\", \"volunteer\", \"endorse\", \"look\", \"die\", \"combine\", \"I\", \"with\", \"for\", \"great\", \"they\", \"of\", \"a\", \"my\", \"have\", \"to\", \"be\", \"in\", \"family\", \"as\", \"and\", \"the\", \"this\", \"more\", \"can\", \"year\", \"will\", \"aadland\", \"people\", \"your\", \"you\", \"on\", \"s\", \"colorado\", \"it\", \"havoc\", \"wreak\", \"anymore\", \"certain\", \"wise\", \"remember\", \"guardian\", \"environment\", \"line\", \"capital\", \"target\", \"middle\", \"duty\", \"peddler\", \"brauchler\", \"freely\", \"impact\", \"hinder\", \"strategic\", \"making\", \"unconscionable\", \"football\", \"whatsoever\", \"tempt\", \"suicidal\", \"healthcare\", \"slavery\", \"creation\", \"commandment\", \"dispense\", \"unchecked\", \"office\", \"community\", \"george\", \"top\", \"retirement\", \"soft\", \"level\", \"speak\", \"rest\", \"protect\", \"education\", \"our\", \"oath\", \"crime\", \"enough\", \"the\", \"and\", \"be\", \"who\", \"on\", \"no\", \"of\", \"we\", \"this\", \"I\", \"in\", \"to\", \"have\", \"people\", \"it\", \"american\", \"by\", \"policy\", \"for\", \"at\", \"my\", \"not\", \"a\", \"with\", \"do\", \"you\", \"will\", \"recommendation\", \"unit\", \"course\", \"electricity\", \"select\", \"infest\", \"february\", \"st\", \"baseless\", \"racist\", \"natural\", \"theory\", \"mother\", \"dedicate\", \"parella\", \"courtney\", \"nd\", \"j\", \"brewing\", \"beyond\", \"interior\", \"frontier\", \"oak\", \"parfet\", \"worker\", \"extinction\", \"brewery\", \"spokeswoman\", \"zinke\", \"click\", \"tomorrow\", \"spend\", \"petition\", \"greg\", \"hey\", \"private\", \"signing\", \"colorados\", \"servant\", \"voice\", \"do\", \"and\", \"your\", \"extraordinary\", \"republican\", \"to\", \"gas\", \"you\", \"be\", \"conservative\", \"I\", \"support\", \"for\", \"find\", \"if\", \"cd\", \"want\", \"that\", \"have\", \"as\", \"of\", \"will\", \"pm\", \"the\", \"their\", \"his\", \"come\", \"in\", \"not\", \"endorsement\", \"by\", \"this\", \"from\", \"on\", \"our\", \"a\", \"it\", \"my\", \"with\", \"we\", \"can\", \"s\", \"branch\", \"housing\", \"unprecedented\", \"mispronounce\", \"insidious\", \"poem\", \"then\", \"russian\", \"grid\", \"appeal\", \"grassroots\", \"gorsuch\", \"july\", \"crack\", \"joint\", \"derail\", \"neil\", \"executive\", \"secede\", \"invasion\", \"kiple\", \"rudyard\", \"unaffiliated\", \"justice\", \"renaissance\", \"heedless\", \"thoughtlessly\", \"accountability\", \"globe\", \"expose\", \"video\", \"overwhelming\", \"mandy\", \"consider\", \"end\", \"campaign\", \"want\", \"if\", \"you\", \"instability\", \"recommend\", \"to\", \"the\", \"my\", \"please\", \"yesterday\", \"disaster\", \"cripple\", \"ballot\", \"have\", \"entire\", \"support\", \"visit\", \"response\", \"eriks\", \"how\", \"restore\", \"colorado\", \"help\", \"of\", \"washington\", \"be\", \"economic\", \"I\", \"in\", \"for\", \"integrity\", \"it\", \"will\", \"and\", \"our\", \"thank\", \"on\", \"family\", \"as\", \"this\", \"country\", \"not\", \"your\", \"we\", \"system\", \"battle\", \"together\", \"children\", \"feeling\", \"reform\", \"immgration\", \"account\", \"pervasive\", \"smell\", \"staggering\", \"quote\", \"punch\", \"mike\", \"excite\", \"mouth\", \"tyson\", \"condition\", \"unfettered\", \"illicit\", \"access\", \"strengthen\", \"beacon\", \"demonstrate\", \"field\", \"productive\", \"sustain\", \"lamborn\", \"within\", \"doug\", \"study\", \"op\", \"oath\", \"navigate\", \"uphold\", \"god\", \"under\", \"congressman\", \"I\", \"strength\", \"china\", \"your\", \"our\", \"as\", \"vote\", \"to\", \"will\", \"check\", \"world\", \"ed\", \"that\", \"peace\", \"the\", \"here\", \"my\", \"and\", \"with\", \"a\", \"out\", \"have\", \"be\", \"for\", \"in\", \"work\", \"of\", \"future\", \"on\", \"policy\", \"country\", \"we\", \"this\", \"not\", \"washington\", \"abortion\", \"dm\", \"january\", \"fundraising\", \"firmly\", \"trail\", \"tuesday\", \"censor\", \"hyde\", \"hesitation\", \"audience\", \"nice\", \"profit\", \"exclusive\", \"amendment\", \"interested\", \"wilkie\", \"responder\", \"wholeheartedly\", \"funding\", \"guy\", \"gestapo\", \"sentiment\", \"telegram\", \"wtf\", \"stem\", \"sabin\", \"statue\", \"admire\", \"whose\", \"model\", \"poster\", \"problem\", \"anything\", \"a\", \"discuss\", \"event\", \"be\", \"washington\", \"to\", \"I\", \"we\", \"in\", \"of\", \"for\", \"veteran\", \"will\", \"you\", \"colorado\", \"well\", \"position\", \"reach\", \"meet\", \"and\", \"s\", \"the\", \"today\", \"have\", \"if\", \"as\", \"an\", \"by\", \"family\", \"what\", \"come\", \"leadership\", \"make\", \"your\", \"my\", \"on\", \"not\", \"our\", \"do\", \"people\", \"vakoff\", \"audio\", \"sebastian\", \"memory\", \"snow\", \"purpose\", \"tancredo\", \"backs\", \"channel\", \"marketing\", \"heartfelt\", \"gorka\", \"labor\", \"direction\", \"tragically\", \"condolence\", \"mourn\", \"daily\", \"dillon\", \"sunday\", \"sincerest\", \"fine\", \"startling\", \"loss\", \"summary\", \"virtual\", \"repeatedly\", \"bureau\", \"undermine\", \"wrap\", \"vision\", \"news\", \"happen\", \"leadville\", \"own\", \"our\", \"s\", \"say\", \"of\", \"in\", \"the\", \"colorado\", \"and\", \"to\", \"it\", \"their\", \"law\", \"have\", \"out\", \"a\", \"be\", \"fentanyl\", \"erik\", \"america\", \"we\", \"crime\", \"hold\", \"she\", \"policy\", \"for\", \"that\", \"on\", \"will\", \"not\", \"people\", \"with\", \"I\", \"my\", \"as\", \"your\", \"exceptional\", \"denmark\", \"decorate\", \"pick\", \"rotten\", \"ready\", \"virginia\", \"surround\", \"picos\", \"unmatched\", \"prestigious\", \"nationwide\", \"bs\", \"renew\", \"divisiveness\", \"prepare\", \"massive\", \"michael\", \"jordan\", \"dance\", \"excellence\", \"master\", \"soul\", \"slogan\", \"craft\", \"endeavor\", \"miss\", \"influx\", \"hiding\", \"path\", \"sector\", \"blessed\", \"chair\", \"of\", \"love\", \"representative\", \"cd\", \"to\", \"and\", \"be\", \"the\", \"risk\", \"colorado\", \"people\", \"you\", \"I\", \"like\", \"not\", \"from\", \"my\", \"all\", \"support\", \"a\", \"have\", \"us\", \"great\", \"global\", \"we\", \"nancy\", \"in\", \"energy\", \"an\", \"on\", \"our\", \"this\", \"leadership\", \"inflation\", \"it\", \"s\", \"for\", \"thank\", \"as\", \"alleviate\", \"game\", \"fact\", \"dissatisfied\", \"satisfied\", \"play\", \"personal\", \"burden\", \"logo\", \"lion\", \"financial\", \"lookout\", \"tv\", \"blame\", \"avs\", \"air\", \"overdue\", \"birthday\", \"often\", \"truth\", \"computer\", \"ahead\", \"nvidia\", \"force\", \"cable\", \"subsidy\", \"chip\", \"launch\", \"th\", \"plow\", \"social\", \"very\", \"sensible\", \"than\", \"leadership\", \"solution\", \"look\", \"what\", \"on\", \"be\", \"like\", \"family\", \"the\", \"inflation\", \"pelosi\", \"nancy\", \"will\", \"this\", \"I\", \"that\", \"a\", \"get\", \"do\", \"with\", \"in\", \"people\", \"to\", \"colorado\", \"my\"], \"Freq\": [722.0, 736.0, 658.0, 336.0, 417.0, 523.0, 185.0, 183.0, 222.0, 76.0, 150.0, 113.0, 187.0, 354.0, 193.0, 44.0, 249.0, 100.0, 63.0, 92.0, 31.0, 36.0, 22.0, 27.0, 243.0, 40.0, 162.0, 37.0, 94.0, 28.0, 3.6595278548717447, 6.5697891675397475, 5.644629116353184, 5.643011961628492, 18.993118181225988, 10.271385231012529, 1.9434519093190132, 1.9433929700435102, 1.9433310904866892, 1.94316937501422, 1.9431145788623916, 4.4141751118867365, 13.973750044400719, 1.8297465530462682, 4.274472456449326, 2.2569182408720794, 2.9025751500054353, 6.534876267174297, 6.324842349917654, 1.714994857571902, 1.6977864602130632, 2.2608368339735656, 1.657224611190705, 1.678352938142538, 11.395626918845892, 1.673268122551162, 1.6382572573581737, 1.5819655715322887, 2.111869084806025, 5.402975948403432, 9.997745544503264, 7.500715912285074, 4.9160423745511865, 7.729603447946915, 20.027941102821018, 7.192767954168581, 20.646214904745054, 5.721827538838874, 19.619128665191596, 248.6063238258024, 214.8483873457776, 66.6066781018211, 108.79086208995675, 56.50253714134816, 63.04736385509789, 10.927771493972191, 59.94556165816958, 134.99172387999687, 23.5046943885318, 156.27709392998713, 33.638702192032554, 34.50154752476323, 24.84994900406181, 30.311127019252677, 55.63536157613152, 80.03743409957457, 31.95439144204561, 31.53637966606825, 15.212943901434649, 47.836088964258444, 24.484644176387548, 44.65618434198843, 52.732882653514665, 30.789757773260558, 37.184234538325164, 25.144238018966433, 27.49203875157642, 30.875355242979186, 27.169976373942134, 20.448454790901376, 2.8018998758955895, 2.0925609646697603, 3.493813838659318, 2.7517368847306516, 2.6733493079494433, 2.4855893809150897, 1.8637044293097411, 1.8816894213093776, 1.7987541563235767, 4.073031665726194, 1.0963121606864084, 1.0962878434987398, 1.096286066473487, 1.0962803612871495, 1.0962740014072978, 1.0962666127233522, 1.096252302993686, 1.0962604398987903, 1.0962450078373853, 1.0962357486005423, 1.0962525835766204, 1.0962300434142047, 1.0962320074947471, 1.0962227482579041, 1.0962224676749694, 1.0962240576449325, 1.0962265828913442, 1.0962226547302591, 1.0962046038947977, 1.0962157336845382, 2.1756789826736544, 3.7655453169847304, 2.092248021169995, 1.5888857904821654, 26.21489800128517, 1.5866487962719513, 5.6675410864396385, 3.82622754942449, 8.646743750450959, 30.605013822670305, 9.746564507207356, 7.0834620880308465, 6.637683144797359, 2.8687459542434497, 20.001754793901036, 4.458081986808062, 3.6068547172551932, 11.414485646939161, 4.337815162368841, 2.757899608307013, 107.28710876196342, 41.04347115539365, 63.99930633967037, 16.444286414247706, 15.81479149228914, 75.12093149097423, 53.82760481456488, 47.382825804325506, 56.87223044027958, 119.13119830712014, 113.20473603681886, 65.69558955065641, 18.21943812116493, 24.881222217715848, 73.73747655369455, 89.19264901387614, 34.44245758137925, 15.416200612892283, 16.907558019958188, 13.047742448594203, 28.189121429774275, 12.96372768753121, 17.02053941497192, 18.82036595927168, 20.599014851886217, 21.72923882721869, 16.47186883905424, 16.65015946615518, 15.764124948284174, 2.5676584319800813, 2.535378999286944, 1.8337586814710338, 1.8261635628192832, 1.7775823163050635, 1.7764164991355809, 1.6885050704506532, 6.75819252984228, 2.703068792065962, 2.736792738962364, 2.1388147094219243, 2.685577609213387, 2.5324332323037546, 2.5595714005740815, 1.5517058641989852, 1.9999564994763737, 2.52238086938232, 2.018201520336458, 0.9607594036424342, 0.960758333103252, 0.9607379036471905, 0.9607251463886018, 0.9607254140233974, 0.9607222916174492, 0.9607192584230994, 0.9607168497099393, 0.960694903656703, 0.9606888372680035, 0.9606892833259961, 0.9606805405893409, 1.4222177268693743, 4.801421759401529, 8.790716080205424, 1.4639356574745177, 2.291218630063826, 2.349940737405214, 11.810952623683988, 2.2824482378131496, 3.5605772787156407, 1.3809493335091823, 13.849264222559228, 2.275495442670756, 60.73390311210417, 5.295118031928293, 23.625830557702937, 11.608929033521074, 159.59391443721617, 98.09679967652303, 123.94604448094931, 12.724126114616912, 41.60108696294181, 11.329179302876463, 60.18296653688747, 34.7319651630336, 34.583908166741274, 58.425055556479656, 51.92332567529665, 77.60287146332199, 38.48731098787397, 19.907856542022525, 22.112091008756458, 9.50393854483229, 16.79654994400177, 14.367988987474476, 29.853826424752857, 14.093771089631003, 24.743346426667554, 17.69053009478232, 26.17937339529531, 17.9942591894168, 14.230812951430652, 17.45046667900972, 14.744399128271045, 1.9710466772459054, 1.8810225135281693, 1.8906560342109988, 1.8140837175519833, 1.7929693289920106, 1.7796337171349914, 1.7516017490483073, 2.906930650255894, 1.7073181184819204, 1.6928821026869756, 3.3611543072937216, 1.595504477436148, 2.078984138485849, 1.032573565118018, 1.0325318921564988, 1.0325277314646197, 1.0325180231835687, 1.0325079186461479, 1.0325015785442369, 1.032500786031498, 1.0325001256042157, 1.0324819638539497, 1.032481171341211, 1.0324771427347883, 1.0324769446066036, 1.032472916000181, 1.0324669721546396, 1.032463273761858, 1.0324608301809133, 1.0324534333953503, 5.793564520927419, 1.9192133061580992, 3.635973421410955, 1.9709176297549256, 2.6714069594411236, 1.4637395923601557, 1.4552116269480542, 2.1906079727306613, 1.4429441901775795, 2.1721749189372095, 21.68780428374068, 88.22581494435818, 27.038326181521207, 2.4455072791563164, 4.289366624905961, 84.13748053501665, 3.974060940839739, 27.103043828461242, 81.68266070283676, 4.725533143359476, 52.10505396484479, 15.621743767704576, 33.430664192151404, 4.946407500367088, 10.85387512217632, 7.515851620021177, 7.58736585620979, 15.293946762019146, 27.50263297813572, 15.60423663296104, 32.05852454300478, 22.024596837354142, 5.952051746789108, 47.70359882905813, 10.953841622374133, 6.801600042453533, 8.230752001351046, 30.053304584373205, 14.580272133725403, 8.325959726722838, 12.750704698537684, 17.999399276209523, 9.462522850872103, 16.99164219082567, 16.70772925720078, 17.88929706642335, 13.091233685544024, 15.99120158304709, 12.403874706915477, 11.618680559014859, 8.934932327033088, 8.953792016850967, 1.7332748944706857, 1.7331596436068748, 1.3743557405939262, 0.9079489853557663, 0.9079455010273255, 0.9079441609010022, 0.907925220448965, 0.9079214680952595, 0.9079300449037292, 0.9079265605752883, 0.9079190558678775, 0.9079074414397414, 0.9078985072642521, 0.907879566812215, 0.9078785840529112, 0.9078691138268926, 0.9078665229160008, 0.9078643787138834, 0.9078629492458051, 0.907865540156697, 0.9078636639798442, 0.9078022861942332, 0.9077433206360044, 0.9077209851972813, 0.9055762470293378, 0.9024710849963027, 0.9022356694721616, 1.358966891339, 0.8879722583036131, 0.8801915742118017, 3.1439020474245436, 2.6775661401980133, 1.3195072291139833, 7.878020146931532, 3.0415264025945685, 12.887316569378976, 9.679115618325497, 14.031355609125269, 28.091732279175698, 2.1242429906876596, 1.2367243204736342, 74.91408211736297, 79.98184950208422, 28.58197121555663, 5.221470939837882, 2.7124626722919083, 2.277795022187996, 1.207778395964338, 3.87194193280219, 27.520762703606046, 1.731491990410056, 12.288676780218134, 2.827148360161468, 2.3809021973070292, 1.733224148353907, 6.67126891312319, 6.116468765720957, 13.442050246515569, 5.287838283776083, 24.829280155615486, 9.40278585884799, 33.50403863693151, 5.117038290443268, 22.699614299089376, 20.25379155822287, 16.550640144002458, 5.129364593682242, 10.119352476062373, 12.801937299999704, 20.6585611687356, 12.378267262556008, 7.201530811493736, 11.509559498834546, 6.809665724057644, 7.786307619231457, 8.500871551668174, 6.448037460147287, 6.9808009276548155, 6.998755046717963, 6.977868373892232, 2.1036571277634493, 2.706487300366458, 2.6837050162732363, 3.010463281089379, 1.102004846281322, 1.101987531745411, 1.101965743597351, 1.1019721226368973, 1.101947600614746, 1.101859536731142, 1.1011611561678478, 1.1012109458141752, 1.1011936312782644, 1.1011879978407433, 1.1011754882956593, 1.1009349902203043, 1.10091237362555, 1.080298383065317, 1.073294777556383, 1.071857753920452, 1.069975357341666, 1.544052984018217, 1.012774012663752, 1.50663386941946, 2.5268865189266574, 0.9922312685192289, 0.9805885272115595, 0.9789801807992475, 0.9572076075370376, 0.9568803710927895, 2.6359659412035974, 2.2592394169527954, 5.219670151144038, 1.3905661678974306, 5.390161167043988, 2.684180876054442, 3.404915913568757, 10.042764195241872, 44.0969689026764, 3.7616709076707546, 4.3345116413188185, 17.330263142892996, 22.453532585658984, 14.839370478872222, 7.429091091824504, 46.195248085879136, 20.65373280505183, 5.7889058161571905, 3.585733683202483, 2.217388278228878, 12.211870268748328, 3.11827402009867, 42.286355573057904, 5.532098607799553, 18.330509798868906, 32.02489404291086, 14.18364763000368, 18.694881863256967, 8.284057358944015, 19.158369290150954, 33.039461559823096, 17.527336693562255, 19.93738621536656, 6.089000358427982, 16.96253354974228, 5.992242423835351, 10.66844690421778, 7.209274359745994, 6.883942017380078, 8.7555316747284, 7.496789104653194, 6.365233647630897, 5.712320227192062, 1.6472694825780785, 1.4792921698998813, 1.8101584629966698, 0.8629646713522136, 0.862945906386707, 0.8629175319428968, 0.8629100410897309, 0.8629160186392268, 0.8628838609362419, 0.8628758404267916, 0.8628851472443614, 0.862888930503536, 0.8628644906492675, 0.8628580591086705, 0.8628450446971095, 0.8628418667594028, 0.8628366458617417, 0.862819091539171, 0.8627980566181597, 0.862787993148755, 0.8627363894936121, 0.8627562137716875, 0.8626962869463602, 0.862641581018694, 0.8620734111558375, 0.8563948147997946, 0.8555482727268635, 0.8554965177413536, 0.8552868495178916, 0.8544398534538595, 1.2962603609833463, 1.1754179177109152, 1.5513230033003185, 1.7530277688602423, 25.199489127703465, 3.046775743090853, 2.2707636089803827, 51.42827172208455, 10.589608771434307, 44.23392922403805, 31.086644758278986, 16.354620214920566, 26.21171252898484, 25.250280441436395, 20.55244106080634, 2.789365815451529, 17.139814167717667, 14.19990702181157, 11.64533541597447, 5.468735035032661, 1.9061798508060888, 2.3181396989911276, 4.905013376983295, 26.22819180062837, 9.518660713261019, 28.817035497337987, 4.829040992844287, 14.522659585951928, 5.660742399345623, 7.95367711773269, 5.6275647296871645, 6.97791646571635, 5.997806578952774, 6.208603726952441, 4.551109456798448, 4.921528362593434, 4.4375105928722665, 6.349901495930646, 7.393966017069241, 6.836449206727119, 5.892758486082886, 5.8444078285087375, 5.079913448629727, 5.018764479258666, 1.4117711816307732, 0.8655994789583346, 0.865507504361074, 0.8654938096140554, 0.8654842289268407, 0.8654725066742487, 0.8654530635149014, 0.8654348602091936, 0.8653731493121346, 0.8653608634897064, 0.8653446890354087, 0.8653409694744901, 0.8653693170372487, 1.3135214596725662, 1.2406175020976753, 0.7773216180380439, 0.7771813455058247, 1.1883188975862629, 0.7670770455564121, 0.7538050322719374, 0.7414679813456444, 0.7288566409800947, 1.0766705282013973, 1.0075011225027732, 0.6631268147054938, 0.6547237066634997, 0.6325934463373517, 0.6463956661236814, 1.8694818631861707, 0.6214712265498752, 1.4435511101195073, 2.340820903233444, 1.103118184328364, 1.1350329187219066, 2.17003219152624, 19.227671883095173, 11.976418079578464, 4.410043075035823, 23.961140924262512, 21.37239325156794, 32.50627172095895, 10.50335202814173, 24.986250110012154, 26.260639309113504, 8.770307153583717, 5.990406962150237, 3.73819321369235, 11.910008813509393, 5.255664285087369, 10.600555651770065, 18.972004143792546, 2.9357563313339776, 3.2256555279126125, 3.9701903435926473, 7.6967787526468205, 5.135656371608844, 1.8327326013101533, 2.8052310775731213, 4.824842647554616, 8.1903063261413, 5.010684985869331, 6.507031430953838, 6.293795540899152, 5.128941324297085, 4.612470597344788, 4.92920090296691, 6.715246590052184, 5.158011158157716, 3.940881105265618, 3.76870691347321, 1.4517341688494707, 0.8824013083584421, 0.8823487632331407, 0.882288463875756, 0.8822672417668964, 0.8822575489767922, 0.8818818768382295, 0.8802334903443081, 0.8673923799849698, 0.8341206536000644, 0.8318240745215996, 0.8115362485986719, 0.79506773907957, 0.7830176624220992, 0.7834351155874792, 1.191797923275667, 0.7690925410263244, 0.7730421999497085, 0.7611306791760422, 0.7526216848317235, 0.7381463190461419, 0.7351473697879201, 0.7348710742552672, 0.7182318696009627, 0.7011540917017883, 0.6923696180597729, 1.303713938699189, 0.6509612024999174, 0.6137621106088674, 0.6215730710216335, 1.5835862129298246, 0.881398359656087, 0.8821802107146981, 24.525383975101008, 2.2113798615668734, 2.1374173431926122, 4.228977382196937, 28.577283672855987, 23.519346639671962, 28.25608215785624, 25.32550318826538, 1.5903574940672094, 8.101060110997153, 6.814715039988372, 8.690269925140063, 13.788098809335438, 3.855938009485278, 6.457447367216696, 4.495676032352978, 8.379182377481829, 4.756076205469976, 5.235721168980521, 8.405656958284176, 8.802304702749703, 2.89051795388485, 3.9251245330724345, 2.1581217550312792, 6.695664314813245, 2.1978358708809305, 9.018651042814003, 3.2161852943883678, 3.7196606455608503, 5.765560909236273, 5.739663814665393, 5.721063044367433, 3.427999489858708, 3.200290138911268, 4.403741856773201, 4.238553858819831, 5.096375985973447, 3.524122991350865, 3.787768922770948, 0.5262601342222354, 0.526185383961349, 0.5257954852514352, 0.509281074117484, 0.4893800081857435, 0.5262173414896918, 0.6919139217624557, 0.5261511076149865, 0.5262621157576339, 0.5261829386623466, 0.4947550283551757, 0.3036028433061945, 0.27086336736681044, 0.5262385481344892, 0.5259981499463482, 0.5261519929818668, 0.5023012632371783, 0.5261907383229579, 0.5261768675751679, 1.004051069388968, 0.23242311948656807, 0.22499021156523252, 0.22091018801925535, 0.5261760243686153, 0.29742123282872646, 0.19734895216423193, 0.1922641004497069, 0.26238918367369174, 0.5262496363006557, 0.2610355841948323, 0.5261524989057983, 0.9579491727298385, 0.9753377782571788, 0.983219820148747, 1.4538786613317776, 1.1431373156720814, 1.0043875931241033, 1.5799232005074202, 2.3425087509010805, 3.9784586421534827, 1.0045853250606838, 1.166026663465844, 2.3848335038079203, 0.9434452611395355, 0.8336267986171889, 0.6828105795001281, 1.0858301314563488, 1.063961991118418, 1.2201737624844662, 0.8106757281037774, 0.8450806634654933, 0.6705062143625622, 0.7481270876365413, 0.7794139294874652, 0.837952701193899, 0.7394194622093404, 0.8490455049963879, 0.7156555405792402, 0.7328710358013355], \"Total\": [722.0, 736.0, 658.0, 336.0, 417.0, 523.0, 185.0, 183.0, 222.0, 76.0, 150.0, 113.0, 187.0, 354.0, 193.0, 44.0, 249.0, 100.0, 63.0, 92.0, 31.0, 36.0, 22.0, 27.0, 243.0, 40.0, 162.0, 37.0, 94.0, 28.0, 4.524010892440747, 8.186114466031258, 7.267092347436445, 7.265397414529929, 24.974912413210976, 13.828434867608589, 2.6925323852413476, 2.6924725597927623, 2.692408901538985, 2.6922675242768137, 2.6922001712924235, 6.284254490605124, 19.94402757321156, 2.6375634463058266, 6.311067153695166, 3.4784779643411374, 4.485610895580488, 10.099053872776954, 9.90361168589253, 2.701302215695656, 2.6777811182976374, 3.6040973137738597, 2.648850823172664, 2.6829247477496345, 18.32380540055866, 2.702862581199086, 2.6943361907792607, 2.6409740555926944, 3.532552902602529, 9.075819463371271, 16.821356744843754, 12.717081976878807, 8.34835508708431, 13.389579229002857, 37.58961950149091, 12.668416150216114, 40.497234077040524, 10.04235282715345, 40.858196280899506, 736.6180819090486, 722.6403986114404, 184.69566722137137, 354.09496919843315, 162.68687336525102, 187.56896636106893, 22.182402777284796, 183.8970863400264, 523.0809779434521, 58.97083577759725, 658.178872149692, 100.42801384576555, 106.53959023322516, 69.50095209243469, 92.18756243769985, 222.48379051653873, 417.4613995047793, 113.99030286857311, 113.50563457083707, 37.08398281517245, 243.402760533122, 87.15444928614444, 249.52604509978826, 336.23518236568265, 134.7439046192582, 193.87811995530097, 94.37109033937902, 121.39808384346742, 185.68344206016033, 150.53809480243834, 72.26067500796391, 3.7838467187437423, 2.8345387480475464, 4.786597253219105, 3.8021278896313753, 3.74372710464293, 3.7187537424891706, 2.7899362570450514, 2.8172384485409254, 2.7769019910582826, 6.454894993494088, 1.8382655270386776, 1.8382345829078373, 1.8382316215329888, 1.8382243579702024, 1.8382199747109127, 1.838212166565482, 1.8381982038092401, 1.838216208242775, 1.8381912019916034, 1.8381805545770367, 1.8382143375931745, 1.8381769239527104, 1.8381817568605512, 1.8381700413630884, 1.8381731438301234, 1.8381784516468411, 1.8381851453209517, 1.8381804614398136, 1.838152180313501, 1.8381709378099087, 3.657683837472168, 6.521996355606995, 3.62105725213402, 2.748205003718725, 60.091883782919524, 2.757920353968317, 11.360627681859867, 7.369077512198967, 18.246650491845973, 76.07797935205005, 21.31427677860251, 15.106897539029195, 14.067291324766323, 5.4851406836454535, 51.26310022526593, 9.157460611553573, 7.24325953394131, 27.958894196484653, 9.207218371470956, 5.437811556324304, 417.4613995047793, 134.7439046192582, 243.402760533122, 47.57129489740526, 46.02633439323794, 336.23518236568265, 222.48379051653873, 193.87811995530097, 249.52604509978826, 658.178872149692, 736.6180819090486, 354.09496919843315, 63.14794225725145, 98.80506273666508, 523.0809779434521, 722.6403986114404, 184.69566722137137, 58.97083577759725, 68.50370855256556, 47.87964511577299, 187.56896636106893, 48.865295122378896, 94.37109033937902, 121.39808384346742, 150.53809480243834, 183.8970863400264, 100.42801384576555, 113.99030286857311, 113.50563457083707, 3.4698289289518045, 3.471495706098615, 2.5880444292502838, 2.5886509523816144, 2.583511924859211, 2.585242416078881, 2.600133078147006, 10.508225494688121, 4.248446266000291, 4.394136103828402, 3.447870857411963, 4.397834209769011, 4.2300182929944015, 4.3051506580541625, 2.629636095587782, 3.452734176066244, 4.4102086225378905, 3.558498767826242, 1.7150344231019863, 1.7150354800347576, 1.7150164361485891, 1.7150013446622223, 1.7150027156101177, 1.714997763067699, 1.714994434726662, 1.714991772573386, 1.7149731610881458, 1.7149636508085415, 1.7149649501413828, 1.714956418270051, 2.547276479835398, 8.927132805232311, 16.745079732708323, 2.6425093476032284, 4.282846622780852, 4.43381609144589, 25.018481208631552, 4.361452516979472, 7.121270113692634, 2.552989628092341, 33.79637639429193, 4.485981625404723, 185.68344206016033, 11.935294179527554, 70.67140934111272, 30.581111873589524, 722.6403986114404, 523.0809779434521, 736.6180819090486, 38.96872120761751, 183.8970863400264, 34.900406782235876, 336.23518236568265, 162.68687336525102, 184.69566722137137, 417.4613995047793, 354.09496919843315, 658.178872149692, 249.52604509978826, 94.37109033937902, 113.50563457083707, 33.34696010374228, 87.15444928614444, 70.19982472014078, 243.402760533122, 69.50095209243469, 193.87811995530097, 106.53959023322516, 222.48379051653873, 134.7439046192582, 83.28815860958221, 150.53809480243834, 187.56896636106893, 2.7188261183340203, 2.70808094754079, 2.723783803835284, 2.699707739523144, 2.7295502555933915, 2.7159473276245834, 2.6827899452747834, 4.513310752435961, 2.7035774040990197, 2.7032922626536204, 5.438185940171077, 2.713432447099853, 3.539407821029404, 1.7803189636250416, 1.780278644083365, 1.780273926202994, 1.7802626888480244, 1.78025253312529, 1.780246296784132, 1.7802471342554274, 1.780246162960845, 1.7802271149365432, 1.7802261031873965, 1.7802218118237394, 1.7802247575635288, 1.780220310518939, 1.7802118937207865, 1.780210977166073, 1.780208545273998, 1.7802026608690158, 10.83782484600924, 3.5438490817748156, 7.360064894707097, 3.715188413735267, 5.283191820642313, 2.6847628443822615, 2.666253444290721, 4.457016958355984, 2.695569257524967, 4.51816832939313, 83.28815860958221, 523.0809779434521, 121.39808384346742, 5.471041257762006, 11.744028468655749, 658.178872149692, 10.790609150492168, 150.53809480243834, 736.6180819090486, 13.936244537745594, 417.4613995047793, 76.73011737376888, 243.402760533122, 14.931715111918548, 48.8351292781515, 29.36592400253619, 29.94746910362819, 92.18756243769985, 249.52604509978826, 98.80506273666508, 336.23518236568265, 187.56896636106893, 20.688637157424647, 722.6403986114404, 58.9131520601569, 26.067024783265335, 36.34194014791715, 354.09496919843315, 106.53959023322516, 38.736694514230074, 87.15444928614444, 184.69566722137137, 52.16285575935698, 183.8970863400264, 185.68344206016033, 222.48379051653873, 113.50563457083707, 193.87811995530097, 134.7439046192582, 162.68687336525102, 68.50370855256556, 100.42801384576555, 2.492360720280487, 2.492309824457702, 2.4910877819142216, 1.667024117261785, 1.6670258450107927, 1.667025490906501, 1.667000456227173, 1.6670022181669835, 1.6670196651449105, 1.667017037720562, 1.6670042461259256, 1.6669840424234301, 1.6669735223819149, 1.666955248029152, 1.666953484612655, 1.6669461373209953, 1.6669442706415138, 1.6669428420437022, 1.66694125082714, 1.6669479081046614, 1.6669477722682347, 1.6668875891931898, 1.666841956790715, 1.6668020186549763, 1.6669097545244569, 1.6676426080874671, 1.6676233298575829, 2.535399238729986, 1.6680857277857302, 1.6657269144979012, 6.056962798577278, 5.142866037275647, 2.5490824080907535, 20.19910808880262, 6.944439940218916, 40.07065753269349, 29.94746910362819, 48.8351292781515, 150.53809480243834, 5.1037422698408, 2.5204103741857087, 658.178872149692, 722.6403986114404, 193.87811995530097, 18.72290725112667, 7.833391037248027, 6.110372449407444, 2.49478847157801, 13.217173360499475, 249.52604509978826, 4.287233244833054, 76.73011737376888, 8.91733385334985, 6.940084857726846, 4.373941912595143, 34.594835625158986, 31.21747458304373, 113.99030286857311, 26.16837641740658, 336.23518236568265, 72.26067500796391, 736.6180819090486, 27.038373384288917, 417.4613995047793, 354.09496919843315, 243.402760533122, 27.480308523179325, 113.50563457083707, 187.56896636106893, 523.0809779434521, 185.68344206016033, 59.43147075302358, 183.8970863400264, 63.14794225725145, 98.80506273666508, 184.69566722137137, 65.62758634525939, 106.53959023322516, 121.39808384346742, 162.68687336525102, 2.84509704400509, 3.7954862708298864, 3.7927595007764237, 4.7139301600252965, 1.8434353906791614, 1.8434160329065772, 1.84339408833799, 1.8434076269272786, 1.8433796034239094, 1.843322608582816, 1.8428479811780378, 1.8432287147554598, 1.8432036173531954, 1.843209274007692, 1.8432106004433548, 1.843119390124776, 1.843107459156634, 1.840619718962517, 1.8396656731984147, 1.839494036841944, 1.8392275618758709, 2.741437402191868, 1.8242002912944721, 2.7564723478275805, 4.645573443344604, 1.829330903525913, 1.8172748112974015, 1.8275781879485644, 1.8248967014030422, 1.8247278047158162, 5.387235015201509, 4.625703297070891, 11.935294179527554, 2.7404128156146386, 13.545951604666257, 6.4571497701846265, 8.981229032351573, 46.142910783681046, 417.4613995047793, 11.81250282120609, 14.728077857286799, 121.39808384346742, 185.68344206016033, 98.80506273666508, 36.22301180193588, 658.178872149692, 187.56896636106893, 25.404298990135725, 12.012546105048997, 5.618792625707551, 92.18756243769985, 10.013742161374918, 722.6403986114404, 25.853042427867212, 193.87811995530097, 523.0809779434521, 134.7439046192582, 222.48379051653873, 53.26563258114365, 249.52604509978826, 736.6180819090486, 243.402760533122, 354.09496919843315, 32.77583778992391, 336.23518236568265, 32.9968560281055, 183.8970863400264, 70.19982472014078, 65.62758634525939, 162.68687336525102, 184.69566722137137, 106.53959023322516, 72.26067500796391, 2.410446091199568, 2.445641297021342, 3.278221744039451, 1.6261314231323536, 1.6261127672644922, 1.626084621603355, 1.626077225221554, 1.62609606682798, 1.6260524958613787, 1.6260439394647872, 1.626062242159369, 1.626071828623531, 1.6260334157447074, 1.626025959216232, 1.62601401793223, 1.6260099957144825, 1.6260052355067969, 1.6259874428502252, 1.625967543002518, 1.625958175567861, 1.6259268258685464, 1.6259700737246363, 1.6259356987584208, 1.6258897936319088, 1.625564535495137, 1.6260737460067696, 1.6261221758621394, 1.6260447909504299, 1.62610408916975, 1.6260751364997479, 2.505567404974942, 2.31770272228186, 3.3497841529999657, 4.160590916117304, 222.48379051653873, 10.44775102090479, 6.874308940835886, 736.6180819090486, 72.26067500796391, 658.178872149692, 417.4613995047793, 162.68687336525102, 354.09496919843315, 336.23518236568265, 243.402760533122, 10.263969770370885, 187.56896636106893, 150.53809480243834, 113.99030286857311, 33.7555782301061, 5.983428387191683, 8.301055731496252, 30.18463420736458, 523.0809779434521, 100.42801384576555, 722.6403986114404, 32.39224466106538, 249.52604509978826, 48.8351292781515, 98.80506273666508, 49.43144558275089, 87.15444928614444, 63.14794225725145, 76.07797935205005, 36.34194014791715, 44.709448361935785, 36.35708891919197, 121.39808384346742, 193.87811995530097, 183.8970863400264, 106.53959023322516, 185.68344206016033, 83.28815860958221, 94.37109033937902, 2.414492882182585, 1.6285399536350822, 1.6284529003252781, 1.6284360452540276, 1.6284185368035822, 1.6284079607209714, 1.6283969415379567, 1.6283783282469921, 1.6283288104579934, 1.6283130805279138, 1.6282860235305636, 1.628294234581527, 1.6283636938954702, 2.474699308511654, 2.432413318773141, 1.6281916582577018, 1.6281541361307201, 2.497086831724536, 1.6280865406550338, 1.6280411936027148, 1.627893213600093, 1.6278989725456938, 2.5163902393867112, 2.5302317419708453, 1.682383733513701, 1.6845683032661334, 1.6397943125421461, 1.6868505072190128, 5.083914461956722, 1.6934247783180052, 4.35847148987945, 7.665712196678492, 3.2307779483778725, 3.3863541414569136, 8.521593686268991, 185.68344206016033, 100.42801384576555, 24.90302801893507, 336.23518236568265, 354.09496919843315, 722.6403986114404, 113.99030286857311, 523.0809779434521, 658.178872149692, 113.50563457083707, 58.9131520601569, 25.018372306682362, 249.52604509978826, 53.26563258114365, 222.48379051653873, 736.6180819090486, 18.246650491845973, 22.386114647993324, 33.95100894182463, 162.68687336525102, 70.67140934111272, 7.897192041913938, 19.92715341863199, 70.19982472014078, 243.402760533122, 92.18756243769985, 183.8970863400264, 187.56896636106893, 106.53959023322516, 94.37109033937902, 134.7439046192582, 417.4613995047793, 193.87811995530097, 98.80506273666508, 121.39808384346742, 2.466474026701806, 1.643815916135331, 1.6437500330043562, 1.6436981367864556, 1.643689944550213, 1.6436811969131715, 1.6433947511609832, 1.643647499199513, 1.6462507229015582, 1.6519833357357907, 1.6523442348063289, 1.6556118488518623, 1.651462535248944, 1.6414373858533222, 1.6524723420429164, 2.521392320914896, 1.6410432038477298, 1.6534536877821446, 1.6543781843854786, 1.6551851419940868, 1.6563107941240218, 1.6568129707052959, 1.666392118184629, 1.6581013076032785, 1.6596896415008469, 1.660497242306424, 3.3203030128436213, 1.6792171009999923, 1.638578777843115, 1.6599731073295636, 4.244282378529341, 2.5692934696131196, 2.5820858997439062, 336.23518236568265, 9.796549642815227, 9.75413013988782, 29.36592400253619, 658.178872149692, 523.0809779434521, 736.6180819090486, 722.6403986114404, 6.118745954899628, 113.99030286857311, 94.37109033937902, 150.53809480243834, 417.4613995047793, 36.23155345672607, 106.53959023322516, 52.16285575935698, 193.87811995530097, 60.091883782919524, 76.73011737376888, 222.48379051653873, 249.52604509978826, 23.085827900332298, 47.57129489740526, 12.265872108777703, 162.68687336525102, 13.22189514807085, 354.09496919843315, 34.02119378696059, 49.43144558275089, 183.8970863400264, 185.68344206016033, 184.69566722137137, 44.709448361935785, 37.33866806654997, 113.50563457083707, 100.42801384576555, 243.402760533122, 59.43147075302358, 98.80506273666508, 1.320048650137704, 1.319976432716183, 1.3198844651440538, 1.3323068604815846, 1.3466449964030465, 2.1655622143218665, 2.883753398909639, 2.265239582588604, 2.3101338997685312, 2.316495844294338, 2.2857696444076736, 1.4706516221584753, 1.4926834494232144, 2.9726354557550665, 2.995097192101195, 3.1166034569407666, 2.994847400971004, 3.1767833594122203, 3.2368803549128025, 6.494203923685295, 1.5085867135340736, 1.5134009656580845, 1.5160578202756299, 3.910632139984499, 2.3000937447452903, 1.531088815509924, 1.5343380301983884, 2.3238410708330797, 4.846829856147262, 2.5220703143911023, 5.1990204816249115, 13.626330818850237, 15.017325222238878, 22.182402777284796, 44.709448361935785, 31.520108349137548, 27.958894196484653, 76.07797935205005, 183.8970863400264, 736.6180819090486, 36.23155345672607, 63.14794225725145, 722.6403986114404, 37.33866806654997, 28.20827883710904, 13.22189514807085, 187.56896636106893, 184.69566722137137, 417.4613995047793, 92.18756243769985, 222.48379051653873, 24.113672871900157, 83.28815860958221, 134.7439046192582, 354.09496919843315, 94.37109033937902, 658.178872149692, 113.99030286857311, 193.87811995530097], \"Category\": [\"Default\", \"Default\", \"Default\", \"Default\", \"Default\", \"Default\", \"Default\", \"Default\", \"Default\", \"Default\", \"Default\", \"Default\", \"Default\", \"Default\", \"Default\", \"Default\", \"Default\", \"Default\", \"Default\", \"Default\", \"Default\", \"Default\", \"Default\", \"Default\", \"Default\", \"Default\", \"Default\", \"Default\", \"Default\", \"Default\", \"Topic1\", \"Topic1\", \"Topic1\", \"Topic1\", \"Topic1\", \"Topic1\", \"Topic1\", \"Topic1\", \"Topic1\", \"Topic1\", \"Topic1\", \"Topic1\", \"Topic1\", \"Topic1\", \"Topic1\", \"Topic1\", \"Topic1\", \"Topic1\", \"Topic1\", \"Topic1\", \"Topic1\", \"Topic1\", \"Topic1\", \"Topic1\", \"Topic1\", \"Topic1\", \"Topic1\", \"Topic1\", \"Topic1\", \"Topic1\", \"Topic1\", \"Topic1\", \"Topic1\", \"Topic1\", \"Topic1\", \"Topic1\", \"Topic1\", \"Topic1\", \"Topic1\", \"Topic1\", \"Topic1\", \"Topic1\", \"Topic1\", \"Topic1\", \"Topic1\", \"Topic1\", \"Topic1\", \"Topic1\", \"Topic1\", \"Topic1\", \"Topic1\", \"Topic1\", \"Topic1\", \"Topic1\", \"Topic1\", \"Topic1\", \"Topic1\", \"Topic1\", \"Topic1\", \"Topic1\", \"Topic1\", \"Topic1\", \"Topic1\", \"Topic1\", \"Topic1\", \"Topic1\", \"Topic1\", \"Topic1\", \"Topic1\", \"Topic1\", \"Topic2\", \"Topic2\", \"Topic2\", \"Topic2\", \"Topic2\", \"Topic2\", \"Topic2\", \"Topic2\", \"Topic2\", \"Topic2\", \"Topic2\", \"Topic2\", \"Topic2\", \"Topic2\", \"Topic2\", \"Topic2\", \"Topic2\", \"Topic2\", \"Topic2\", \"Topic2\", \"Topic2\", \"Topic2\", \"Topic2\", \"Topic2\", \"Topic2\", \"Topic2\", \"Topic2\", \"Topic2\", \"Topic2\", \"Topic2\", \"Topic2\", \"Topic2\", \"Topic2\", \"Topic2\", \"Topic2\", \"Topic2\", \"Topic2\", \"Topic2\", \"Topic2\", \"Topic2\", \"Topic2\", \"Topic2\", \"Topic2\", \"Topic2\", \"Topic2\", \"Topic2\", \"Topic2\", \"Topic2\", \"Topic2\", \"Topic2\", \"Topic2\", \"Topic2\", \"Topic2\", \"Topic2\", \"Topic2\", \"Topic2\", \"Topic2\", \"Topic2\", \"Topic2\", \"Topic2\", \"Topic2\", \"Topic2\", \"Topic2\", \"Topic2\", \"Topic2\", \"Topic2\", \"Topic2\", \"Topic2\", \"Topic2\", \"Topic2\", \"Topic2\", \"Topic2\", \"Topic2\", \"Topic2\", \"Topic2\", \"Topic2\", \"Topic2\", \"Topic2\", \"Topic2\", \"Topic3\", \"Topic3\", \"Topic3\", \"Topic3\", \"Topic3\", \"Topic3\", \"Topic3\", \"Topic3\", \"Topic3\", \"Topic3\", \"Topic3\", \"Topic3\", \"Topic3\", \"Topic3\", \"Topic3\", \"Topic3\", \"Topic3\", \"Topic3\", \"Topic3\", \"Topic3\", \"Topic3\", \"Topic3\", \"Topic3\", \"Topic3\", \"Topic3\", \"Topic3\", \"Topic3\", \"Topic3\", \"Topic3\", \"Topic3\", \"Topic3\", \"Topic3\", \"Topic3\", \"Topic3\", \"Topic3\", \"Topic3\", \"Topic3\", \"Topic3\", \"Topic3\", \"Topic3\", \"Topic3\", \"Topic3\", \"Topic3\", \"Topic3\", \"Topic3\", \"Topic3\", \"Topic3\", \"Topic3\", \"Topic3\", \"Topic3\", \"Topic3\", \"Topic3\", \"Topic3\", \"Topic3\", \"Topic3\", \"Topic3\", \"Topic3\", \"Topic3\", \"Topic3\", \"Topic3\", \"Topic3\", \"Topic3\", \"Topic3\", \"Topic3\", \"Topic3\", \"Topic3\", \"Topic3\", \"Topic3\", \"Topic3\", \"Topic3\", \"Topic3\", \"Topic3\", \"Topic3\", \"Topic4\", \"Topic4\", \"Topic4\", \"Topic4\", \"Topic4\", \"Topic4\", \"Topic4\", \"Topic4\", \"Topic4\", \"Topic4\", \"Topic4\", \"Topic4\", \"Topic4\", \"Topic4\", \"Topic4\", \"Topic4\", \"Topic4\", \"Topic4\", \"Topic4\", \"Topic4\", \"Topic4\", \"Topic4\", \"Topic4\", \"Topic4\", \"Topic4\", \"Topic4\", \"Topic4\", \"Topic4\", \"Topic4\", \"Topic4\", \"Topic4\", \"Topic4\", \"Topic4\", \"Topic4\", \"Topic4\", \"Topic4\", \"Topic4\", \"Topic4\", \"Topic4\", \"Topic4\", \"Topic4\", \"Topic4\", \"Topic4\", \"Topic4\", \"Topic4\", \"Topic4\", \"Topic4\", \"Topic4\", \"Topic4\", \"Topic4\", \"Topic4\", \"Topic4\", \"Topic4\", \"Topic4\", \"Topic4\", \"Topic4\", \"Topic4\", \"Topic4\", \"Topic4\", \"Topic4\", \"Topic4\", \"Topic4\", \"Topic4\", \"Topic4\", \"Topic4\", \"Topic4\", \"Topic4\", \"Topic4\", \"Topic4\", \"Topic4\", \"Topic4\", \"Topic4\", \"Topic4\", \"Topic4\", \"Topic4\", \"Topic4\", \"Topic4\", \"Topic4\", \"Topic4\", \"Topic4\", \"Topic4\", \"Topic4\", \"Topic5\", \"Topic5\", \"Topic5\", \"Topic5\", \"Topic5\", \"Topic5\", \"Topic5\", \"Topic5\", \"Topic5\", \"Topic5\", \"Topic5\", \"Topic5\", \"Topic5\", \"Topic5\", \"Topic5\", \"Topic5\", \"Topic5\", \"Topic5\", \"Topic5\", \"Topic5\", \"Topic5\", \"Topic5\", \"Topic5\", \"Topic5\", \"Topic5\", \"Topic5\", \"Topic5\", \"Topic5\", \"Topic5\", \"Topic5\", \"Topic5\", \"Topic5\", \"Topic5\", \"Topic5\", \"Topic5\", \"Topic5\", \"Topic5\", \"Topic5\", \"Topic5\", \"Topic5\", \"Topic5\", \"Topic5\", \"Topic5\", \"Topic5\", \"Topic5\", \"Topic5\", \"Topic5\", \"Topic5\", \"Topic5\", \"Topic5\", \"Topic5\", \"Topic5\", \"Topic5\", \"Topic5\", \"Topic5\", \"Topic5\", \"Topic5\", \"Topic5\", \"Topic5\", \"Topic5\", \"Topic5\", \"Topic5\", \"Topic5\", \"Topic5\", \"Topic5\", \"Topic5\", \"Topic5\", \"Topic5\", \"Topic5\", \"Topic5\", \"Topic5\", \"Topic5\", \"Topic5\", \"Topic5\", \"Topic5\", \"Topic5\", \"Topic5\", \"Topic5\", \"Topic5\", \"Topic5\", \"Topic6\", \"Topic6\", \"Topic6\", \"Topic6\", \"Topic6\", \"Topic6\", \"Topic6\", \"Topic6\", \"Topic6\", \"Topic6\", \"Topic6\", \"Topic6\", \"Topic6\", \"Topic6\", \"Topic6\", \"Topic6\", \"Topic6\", \"Topic6\", \"Topic6\", \"Topic6\", \"Topic6\", \"Topic6\", \"Topic6\", \"Topic6\", \"Topic6\", \"Topic6\", \"Topic6\", \"Topic6\", \"Topic6\", \"Topic6\", \"Topic6\", \"Topic6\", \"Topic6\", \"Topic6\", \"Topic6\", \"Topic6\", \"Topic6\", \"Topic6\", \"Topic6\", \"Topic6\", \"Topic6\", \"Topic6\", \"Topic6\", \"Topic6\", \"Topic6\", \"Topic6\", \"Topic6\", \"Topic6\", \"Topic6\", \"Topic6\", \"Topic6\", \"Topic6\", \"Topic6\", \"Topic6\", \"Topic6\", \"Topic6\", \"Topic6\", \"Topic6\", \"Topic6\", \"Topic6\", \"Topic6\", \"Topic6\", \"Topic6\", \"Topic6\", \"Topic6\", \"Topic6\", \"Topic6\", \"Topic6\", \"Topic6\", \"Topic6\", \"Topic6\", \"Topic6\", \"Topic6\", \"Topic7\", \"Topic7\", \"Topic7\", \"Topic7\", \"Topic7\", \"Topic7\", \"Topic7\", \"Topic7\", \"Topic7\", \"Topic7\", \"Topic7\", \"Topic7\", \"Topic7\", \"Topic7\", \"Topic7\", \"Topic7\", \"Topic7\", \"Topic7\", \"Topic7\", \"Topic7\", \"Topic7\", \"Topic7\", \"Topic7\", \"Topic7\", \"Topic7\", \"Topic7\", \"Topic7\", \"Topic7\", \"Topic7\", \"Topic7\", \"Topic7\", \"Topic7\", \"Topic7\", \"Topic7\", \"Topic7\", \"Topic7\", \"Topic7\", \"Topic7\", \"Topic7\", \"Topic7\", \"Topic7\", \"Topic7\", \"Topic7\", \"Topic7\", \"Topic7\", \"Topic7\", \"Topic7\", \"Topic7\", \"Topic7\", \"Topic7\", \"Topic7\", \"Topic7\", \"Topic7\", \"Topic7\", \"Topic7\", \"Topic7\", \"Topic7\", \"Topic7\", \"Topic7\", \"Topic7\", \"Topic7\", \"Topic7\", \"Topic7\", \"Topic7\", \"Topic7\", \"Topic7\", \"Topic7\", \"Topic7\", \"Topic7\", \"Topic7\", \"Topic7\", \"Topic7\", \"Topic7\", \"Topic7\", \"Topic8\", \"Topic8\", \"Topic8\", \"Topic8\", \"Topic8\", \"Topic8\", \"Topic8\", \"Topic8\", \"Topic8\", \"Topic8\", \"Topic8\", \"Topic8\", \"Topic8\", \"Topic8\", \"Topic8\", \"Topic8\", \"Topic8\", \"Topic8\", \"Topic8\", \"Topic8\", \"Topic8\", \"Topic8\", \"Topic8\", \"Topic8\", \"Topic8\", \"Topic8\", \"Topic8\", \"Topic8\", \"Topic8\", \"Topic8\", \"Topic8\", \"Topic8\", \"Topic8\", \"Topic8\", \"Topic8\", \"Topic8\", \"Topic8\", \"Topic8\", \"Topic8\", \"Topic8\", \"Topic8\", \"Topic8\", \"Topic8\", \"Topic8\", \"Topic8\", \"Topic8\", \"Topic8\", \"Topic8\", \"Topic8\", \"Topic8\", \"Topic8\", \"Topic8\", \"Topic8\", \"Topic8\", \"Topic8\", \"Topic8\", \"Topic8\", \"Topic8\", \"Topic8\", \"Topic8\", \"Topic8\", \"Topic8\", \"Topic8\", \"Topic8\", \"Topic8\", \"Topic8\", \"Topic8\", \"Topic8\", \"Topic8\", \"Topic8\", \"Topic9\", \"Topic9\", \"Topic9\", \"Topic9\", \"Topic9\", \"Topic9\", \"Topic9\", \"Topic9\", \"Topic9\", \"Topic9\", \"Topic9\", \"Topic9\", \"Topic9\", \"Topic9\", \"Topic9\", \"Topic9\", \"Topic9\", \"Topic9\", \"Topic9\", \"Topic9\", \"Topic9\", \"Topic9\", \"Topic9\", \"Topic9\", \"Topic9\", \"Topic9\", \"Topic9\", \"Topic9\", \"Topic9\", \"Topic9\", \"Topic9\", \"Topic9\", \"Topic9\", \"Topic9\", \"Topic9\", \"Topic9\", \"Topic9\", \"Topic9\", \"Topic9\", \"Topic9\", \"Topic9\", \"Topic9\", \"Topic9\", \"Topic9\", \"Topic9\", \"Topic9\", \"Topic9\", \"Topic9\", \"Topic9\", \"Topic9\", \"Topic9\", \"Topic9\", \"Topic9\", \"Topic9\", \"Topic9\", \"Topic9\", \"Topic9\", \"Topic9\", \"Topic9\", \"Topic9\", \"Topic9\", \"Topic9\", \"Topic9\", \"Topic9\", \"Topic9\", \"Topic9\", \"Topic9\", \"Topic9\", \"Topic9\", \"Topic9\", \"Topic9\", \"Topic9\", \"Topic10\", \"Topic10\", \"Topic10\", \"Topic10\", \"Topic10\", \"Topic10\", \"Topic10\", \"Topic10\", \"Topic10\", \"Topic10\", \"Topic10\", \"Topic10\", \"Topic10\", \"Topic10\", \"Topic10\", \"Topic10\", \"Topic10\", \"Topic10\", \"Topic10\", \"Topic10\", \"Topic10\", \"Topic10\", \"Topic10\", \"Topic10\", \"Topic10\", \"Topic10\", \"Topic10\", \"Topic10\", \"Topic10\", \"Topic10\", \"Topic10\", \"Topic10\", \"Topic10\", \"Topic10\", \"Topic10\", \"Topic10\", \"Topic10\", \"Topic10\", \"Topic10\", \"Topic10\", \"Topic10\", \"Topic10\", \"Topic10\", \"Topic10\", \"Topic10\", \"Topic10\", \"Topic10\", \"Topic10\", \"Topic10\", \"Topic10\", \"Topic10\", \"Topic10\", \"Topic10\", \"Topic10\", \"Topic10\", \"Topic10\", \"Topic10\", \"Topic10\", \"Topic10\"], \"logprob\": [30.0, 29.0, 28.0, 27.0, 26.0, 25.0, 24.0, 23.0, 22.0, 21.0, 20.0, 19.0, 18.0, 17.0, 16.0, 15.0, 14.0, 13.0, 12.0, 11.0, 10.0, 9.0, 8.0, 7.0, 6.0, 5.0, 4.0, 3.0, 2.0, 1.0, -7.1348, -6.5496, -6.7014, -6.7017, -5.488, -6.1027, -7.7676, -7.7677, -7.7677, -7.7678, -7.7678, -6.9473, -5.7949, -7.8279, -6.9794, -7.6181, -7.3665, -6.555, -6.5876, -7.8927, -7.9028, -7.6164, -7.927, -7.9143, -5.9989, -7.9173, -7.9385, -7.9734, -7.6845, -6.7452, -6.1297, -6.4171, -6.8396, -6.387, -5.435, -6.459, -5.4046, -6.6878, -5.4556, -2.9162, -3.0622, -4.2333, -3.7427, -4.3978, -4.2882, -6.0408, -4.3387, -3.5269, -5.2749, -3.3805, -4.9164, -4.8911, -5.2192, -5.0206, -4.4133, -4.0496, -4.9678, -4.981, -5.71, -4.5643, -5.2341, -4.6331, -4.4669, -5.0049, -4.8162, -5.2075, -5.1182, -5.0021, -5.13, -5.4142, -7.0448, -7.3368, -6.8241, -7.0629, -7.0918, -7.1646, -7.4526, -7.443, -7.488, -6.6708, -7.9832, -7.9832, -7.9832, -7.9832, -7.9832, -7.9832, -7.9832, -7.9832, -7.9833, -7.9833, -7.9832, -7.9833, -7.9833, -7.9833, -7.9833, -7.9833, -7.9833, -7.9833, -7.9833, -7.9833, -7.2978, -6.7492, -7.3369, -7.6121, -4.8088, -7.6135, -6.3404, -6.7333, -5.918, -4.654, -5.7982, -6.1174, -6.1824, -7.0213, -5.0793, -6.5804, -6.7923, -5.6403, -6.6078, -7.0607, -3.3996, -4.3605, -3.9163, -5.2752, -5.3142, -3.756, -4.0894, -4.2169, -4.0343, -3.2949, -3.3459, -3.8901, -5.1727, -4.861, -3.7746, -3.5843, -4.5359, -5.3397, -5.2474, -5.5065, -4.7362, -5.513, -5.2407, -5.1402, -5.0499, -4.9965, -5.2735, -5.2627, -5.3174, -7.0849, -7.0976, -7.4215, -7.4257, -7.4526, -7.4533, -7.5041, -6.1171, -7.0335, -7.0211, -7.2676, -7.04, -7.0987, -7.0881, -7.5885, -7.3348, -7.1027, -7.3257, -8.0679, -8.0679, -8.068, -8.068, -8.068, -8.068, -8.068, -8.068, -8.068, -8.068, -8.068, -8.068, -7.6757, -6.459, -5.8542, -7.6468, -7.1988, -7.1735, -5.5589, -7.2026, -6.758, -7.7051, -5.3997, -7.2057, -3.9214, -6.3611, -4.8656, -5.5761, -2.9553, -3.4419, -3.2081, -5.4844, -4.2998, -5.6005, -3.9305, -4.4802, -4.4845, -3.9602, -4.0781, -3.6763, -4.3776, -5.0368, -4.9318, -5.7762, -5.2067, -5.3629, -4.6316, -5.3822, -4.8193, -5.1549, -4.7629, -5.1378, -5.3725, -5.1685, -5.337, -7.0486, -7.0954, -7.0903, -7.1316, -7.1433, -7.1508, -7.1667, -6.6601, -7.1923, -7.2008, -6.5149, -7.26, -6.9953, -7.6951, -7.6952, -7.6952, -7.6952, -7.6952, -7.6952, -7.6952, -7.6952, -7.6952, -7.6952, -7.6952, -7.6952, -7.6952, -7.6952, -7.6952, -7.6952, -7.6952, -5.9704, -7.0753, -6.4363, -7.0487, -6.7446, -7.3462, -7.352, -6.943, -7.3605, -6.9515, -4.6504, -3.2473, -4.4299, -6.8329, -6.271, -3.2947, -6.3474, -4.4275, -3.3243, -6.1742, -3.7739, -4.9785, -4.2177, -6.1285, -5.3427, -5.7102, -5.7007, -4.9997, -4.4129, -4.9796, -4.2596, -4.635, -5.9435, -3.8622, -5.3335, -5.81, -5.6193, -4.3242, -5.0475, -5.6078, -5.1816, -4.8368, -5.4798, -4.8945, -4.9113, -4.843, -5.1552, -4.9551, -5.2092, -5.2746, -5.5372, -5.5351, -6.7862, -6.7863, -7.0182, -7.4328, -7.4328, -7.4328, -7.4328, -7.4328, -7.4328, -7.4328, -7.4328, -7.4328, -7.4328, -7.4329, -7.4329, -7.4329, -7.4329, -7.4329, -7.4329, -7.4329, -7.4329, -7.4329, -7.433, -7.433, -7.4354, -7.4388, -7.4391, -7.0295, -7.455, -7.4638, -6.1907, -6.3513, -7.0589, -5.2721, -6.2238, -4.78, -5.0662, -4.6949, -4.0007, -6.5828, -7.1237, -3.0199, -2.9544, -3.9834, -5.6834, -6.3384, -6.513, -7.1474, -5.9825, -4.0213, -6.7872, -4.8275, -6.2969, -6.4687, -6.7862, -5.4384, -5.5252, -4.7378, -5.6708, -4.1242, -5.0952, -3.8245, -5.7036, -4.2139, -4.3279, -4.5298, -5.7012, -5.0218, -4.7866, -4.3081, -4.8203, -5.3619, -4.893, -5.4179, -5.2838, -5.196, -5.4724, -5.393, -5.3905, -5.3935, -6.517, -6.2651, -6.2735, -6.1586, -7.1636, -7.1636, -7.1636, -7.1636, -7.1636, -7.1637, -7.1643, -7.1643, -7.1643, -7.1643, -7.1643, -7.1645, -7.1646, -7.1835, -7.19, -7.1913, -7.1931, -6.8263, -7.248, -6.8508, -6.3337, -7.2685, -7.2803, -7.2819, -7.3044, -7.3048, -6.2915, -6.4457, -5.6083, -6.931, -5.5761, -6.2733, -6.0355, -4.9539, -3.4743, -5.9358, -5.7941, -4.4083, -4.1493, -4.5634, -5.2553, -3.4278, -4.2328, -5.5048, -5.9837, -6.4644, -4.7583, -6.1234, -3.5162, -5.5501, -4.3521, -3.7942, -4.6086, -4.3325, -5.1464, -4.308, -3.763, -4.3969, -4.2681, -5.4542, -4.4297, -5.4702, -4.8934, -5.2853, -5.3315, -5.091, -5.2462, -5.4099, -5.5181, -6.6709, -6.7785, -6.5766, -7.3174, -7.3175, -7.3175, -7.3175, -7.3175, -7.3175, -7.3175, -7.3175, -7.3175, -7.3176, -7.3176, -7.3176, -7.3176, -7.3176, -7.3176, -7.3176, -7.3176, -7.3177, -7.3177, -7.3177, -7.3178, -7.3185, -7.3251, -7.3261, -7.3261, -7.3264, -7.3274, -6.9106, -7.0084, -6.7309, -6.6087, -3.9432, -6.056, -6.3499, -3.2299, -4.8102, -3.3806, -3.7333, -4.3755, -3.9039, -3.9412, -4.1471, -6.1442, -4.3287, -4.5168, -4.7152, -5.471, -6.525, -6.3293, -5.5798, -3.9032, -4.9168, -3.8091, -5.5954, -4.4943, -5.4365, -5.0964, -5.4424, -5.2273, -5.3787, -5.3441, -5.6547, -5.5764, -5.68, -5.3216, -5.1694, -5.2478, -5.3963, -5.4046, -5.5448, -5.5569, -6.5306, -7.0198, -7.0199, -7.0199, -7.0199, -7.0199, -7.0199, -7.02, -7.02, -7.0201, -7.0201, -7.0201, -7.02, -6.6027, -6.6598, -7.1273, -7.1275, -6.7029, -7.1406, -7.1581, -7.1746, -7.1917, -6.8016, -6.868, -7.2862, -7.299, -7.3334, -7.3118, -6.2498, -7.3511, -6.5083, -6.0249, -6.7773, -6.7488, -6.1007, -3.9191, -4.3925, -5.3916, -3.699, -3.8133, -3.394, -4.5238, -3.6571, -3.6074, -4.7041, -5.0853, -5.5568, -4.3981, -5.2161, -4.5145, -3.9325, -5.7985, -5.7043, -5.4966, -4.8346, -5.2392, -6.2696, -5.844, -5.3017, -4.7725, -5.2639, -5.0026, -5.0359, -5.2405, -5.3467, -5.2803, -4.9711, -5.2349, -5.504, -5.5487, -6.4031, -6.901, -6.901, -6.9011, -6.9011, -6.9011, -6.9015, -6.9034, -6.9181, -6.9572, -6.96, -6.9847, -7.0052, -7.0205, -7.0199, -6.6004, -7.0384, -7.0333, -7.0488, -7.06, -7.0795, -7.0835, -7.0839, -7.1068, -7.1309, -7.1435, -6.5106, -7.2052, -7.264, -7.2514, -6.3162, -6.9021, -6.9012, -3.5761, -5.9822, -6.0163, -5.3339, -3.4232, -3.618, -3.4345, -3.544, -6.3119, -4.6839, -4.8568, -4.6136, -4.152, -5.4262, -4.9106, -5.2727, -4.6501, -5.2164, -5.1203, -4.6469, -4.6008, -5.7144, -5.4085, -6.0066, -4.8744, -5.9884, -4.5766, -5.6077, -5.4622, -5.0239, -5.0285, -5.0317, -5.5439, -5.6126, -5.2934, -5.3316, -5.1473, -5.5162, -5.4441, -5.8409, -5.841, -5.8418, -5.8737, -5.9135, -5.841, -5.5672, -5.8411, -5.8409, -5.841, -5.9026, -6.391, -6.5051, -5.8409, -5.8414, -5.8411, -5.8875, -5.841, -5.841, -5.1949, -6.6581, -6.6906, -6.7089, -5.841, -6.4115, -6.8217, -6.8478, -6.5369, -5.8409, -6.542, -5.8411, -5.2419, -5.2239, -5.2158, -4.8247, -5.0651, -5.1945, -4.7415, -4.3477, -3.818, -5.1943, -5.0453, -4.3298, -5.2571, -5.3809, -5.5805, -5.1166, -5.1369, -4.9999, -5.4088, -5.3672, -5.5986, -5.4891, -5.4481, -5.3757, -5.5008, -5.3626, -5.5335, -5.5097], \"loglift\": [30.0, 29.0, 28.0, 27.0, 26.0, 25.0, 24.0, 23.0, 22.0, 21.0, 20.0, 19.0, 18.0, 17.0, 16.0, 15.0, 14.0, 13.0, 12.0, 11.0, 10.0, 9.0, 8.0, 7.0, 6.0, 5.0, 4.0, 3.0, 2.0, 1.0, 1.2301, 1.2222, 1.1895, 1.1895, 1.1684, 1.1448, 1.1161, 1.1161, 1.1161, 1.1161, 1.1161, 1.0889, 1.0864, 1.0765, 1.0525, 1.0096, 1.0069, 1.0069, 0.9937, 0.9878, 0.9865, 0.9758, 0.9732, 0.9731, 0.9672, 0.9626, 0.9446, 0.9297, 0.9277, 0.9235, 0.9219, 0.9142, 0.9126, 0.8927, 0.8126, 0.8761, 0.7685, 0.8796, 0.7086, 0.356, 0.2292, 0.4223, 0.262, 0.3846, 0.3519, 0.7342, 0.3212, 0.0876, 0.5223, 0.0043, 0.3484, 0.3146, 0.4137, 0.3299, 0.0561, -0.2095, 0.1704, 0.1615, 0.5511, -0.1848, 0.1725, -0.2784, -0.4104, -0.034, -0.2092, 0.1196, -0.043, -0.3519, -0.2699, 0.1798, 1.4987, 1.4956, 1.4843, 1.4758, 1.4624, 1.3962, 1.3957, 1.3955, 1.3649, 1.3387, 1.2823, 1.2822, 1.2822, 1.2822, 1.2822, 1.2822, 1.2822, 1.2822, 1.2822, 1.2822, 1.2822, 1.2822, 1.2822, 1.2822, 1.2822, 1.2822, 1.2822, 1.2822, 1.2822, 1.2822, 1.2796, 1.2498, 1.2506, 1.2512, 0.9696, 1.2463, 1.1037, 1.1437, 1.0523, 0.8885, 1.0167, 1.0417, 1.048, 1.151, 0.858, 1.0793, 1.1019, 0.9033, 1.0465, 1.1202, 0.4404, 0.6104, 0.4633, 0.7369, 0.7309, 0.3004, 0.3801, 0.3902, 0.3204, 0.0899, -0.0737, 0.1146, 0.5561, 0.4201, -0.1601, -0.293, 0.1197, 0.4575, 0.4, 0.499, -0.0961, 0.4722, 0.0863, -0.065, -0.1899, -0.3366, -0.0087, -0.1246, -0.175, 1.5453, 1.5321, 1.5018, 1.4974, 1.4725, 1.4711, 1.4146, 1.405, 1.3942, 1.3729, 1.3689, 1.3532, 1.3333, 1.3264, 1.3189, 1.3003, 1.2876, 1.2792, 1.2669, 1.2669, 1.2669, 1.2669, 1.2669, 1.2669, 1.2669, 1.2669, 1.2669, 1.2669, 1.2669, 1.2669, 1.2636, 1.2262, 1.202, 1.2558, 1.2208, 1.2115, 1.0958, 1.1988, 1.1532, 1.2319, 0.9542, 1.1676, 0.7288, 1.0337, 0.7507, 0.8778, 0.3361, 0.1726, 0.0641, 0.7271, 0.3601, 0.7213, 0.1259, 0.3022, 0.171, -0.1201, -0.0734, -0.2915, -0.0229, 0.2902, 0.2106, 0.5911, 0.1999, 0.26, -0.252, 0.2508, -0.2123, 0.0509, -0.2935, -0.167, 0.0795, -0.3085, -0.6969, 1.8254, 1.7827, 1.782, 1.7495, 1.7268, 1.7243, 1.7208, 1.7071, 1.6874, 1.679, 1.6659, 1.6161, 1.615, 1.6023, 1.6023, 1.6023, 1.6023, 1.6023, 1.6023, 1.6023, 1.6023, 1.6023, 1.6023, 1.6023, 1.6023, 1.6023, 1.6023, 1.6023, 1.6023, 1.6023, 1.5208, 1.5338, 1.4419, 1.5131, 1.4652, 1.5405, 1.5416, 1.4368, 1.5222, 1.4147, 0.8015, 0.3672, 0.6453, 1.3419, 1.1399, 0.0901, 1.1482, 0.4325, -0.0522, 1.0656, 0.0661, 0.5554, 0.1618, 1.0423, 0.6431, 0.7843, 0.7741, 0.3507, -0.0582, 0.3015, -0.2032, 0.0051, 0.9012, -0.5708, 0.4647, 0.8036, 0.662, -0.3195, 0.1582, 0.6097, 0.225, -0.1813, 0.44, -0.2346, -0.2611, -0.3736, -0.0128, -0.3481, -0.2383, -0.4921, 0.1102, -0.2703, 2.1748, 2.1748, 1.9433, 1.9305, 1.9304, 1.9304, 1.9304, 1.9304, 1.9304, 1.9304, 1.9304, 1.9304, 1.9304, 1.9304, 1.9304, 1.9304, 1.9304, 1.9304, 1.9304, 1.9304, 1.9304, 1.9304, 1.9303, 1.9303, 1.9279, 1.924, 1.9238, 1.9144, 1.9076, 1.9002, 1.8823, 1.8854, 1.8796, 1.5965, 1.7125, 1.4037, 1.4086, 1.2909, 0.8593, 1.6615, 1.8261, 0.3649, 0.3369, 0.6236, 1.2611, 1.4775, 1.5513, 1.8126, 1.3103, 0.3334, 1.6314, 0.7064, 1.3893, 1.4682, 1.6124, 0.8922, 0.9081, 0.4003, 0.9389, -0.0677, 0.4988, -0.5523, 0.8734, -0.3738, -0.3232, -0.1502, 0.8596, 0.1207, -0.1465, -0.6935, -0.17, 0.4275, -0.2331, 0.3109, -0.0027, -0.5405, 0.2178, -0.1873, -0.3153, -0.611, 2.3116, 2.2754, 2.2677, 2.1651, 2.0991, 2.0991, 2.099, 2.099, 2.099, 2.099, 2.0986, 2.0985, 2.0984, 2.0984, 2.0984, 2.0983, 2.0982, 2.0807, 2.0747, 2.0735, 2.0718, 2.0395, 2.0251, 2.0095, 2.0046, 2.0018, 1.9966, 1.9893, 1.9683, 1.9681, 1.8988, 1.897, 1.7865, 1.9352, 1.692, 1.7357, 1.6436, 1.0887, 0.3658, 1.4693, 1.3904, 0.6669, 0.501, 0.7177, 1.0293, -0.043, 0.4073, 1.1346, 1.4046, 1.6838, 0.5921, 1.4469, -0.2249, 1.0717, 0.2549, -0.1797, 0.3623, 0.137, 0.7526, 0.0467, -0.4908, -0.0174, -0.2634, 0.9304, -0.3732, 0.9076, -0.2335, 0.3376, 0.3588, -0.3086, -0.5907, -0.2041, 0.0759, 2.3235, 2.2015, 2.1103, 2.0706, 2.0706, 2.0706, 2.0706, 2.0706, 2.0706, 2.0706, 2.0706, 2.0706, 2.0706, 2.0706, 2.0706, 2.0706, 2.0706, 2.0705, 2.0705, 2.0705, 2.0705, 2.0705, 2.0704, 2.0704, 2.0699, 2.063, 2.062, 2.062, 2.0617, 2.0607, 2.0452, 2.0253, 1.9344, 1.8399, 0.5262, 1.4719, 1.5965, 0.0423, 0.7838, 0.0042, 0.1068, 0.4069, 0.1008, 0.1152, 0.2325, 1.4014, 0.3115, 0.3432, 0.423, 0.8841, 1.5603, 1.4286, 0.8871, -0.2887, 0.348, -0.5177, 0.8009, -0.1396, 0.5493, 0.1847, 0.5313, 0.1793, 0.3501, 0.1984, 0.6266, 0.4976, 0.6009, -0.2464, -0.5624, -0.5879, -0.1906, -0.7543, -0.0928, -0.2298, 2.4622, 2.3668, 2.3668, 2.3667, 2.3667, 2.3667, 2.3667, 2.3667, 2.3667, 2.3667, 2.3667, 2.3667, 2.3666, 2.3654, 2.3255, 2.2594, 2.2593, 2.2562, 2.2462, 2.2288, 2.2124, 2.1953, 2.1499, 2.078, 2.0678, 2.0538, 2.0463, 2.0396, 1.9984, 1.9964, 1.8938, 1.8126, 1.9242, 1.9057, 1.631, 0.7311, 0.8723, 1.2677, 0.3574, 0.1914, -0.1027, 0.6144, -0.0426, -0.2226, 0.4383, 0.7129, 1.0978, -0.0434, 0.6828, -0.0451, -0.6603, 1.1718, 1.0615, 0.8527, -0.0522, 0.377, 1.5381, 1.0382, 0.3213, -0.3929, 0.0866, -0.3427, -0.3958, -0.0348, -0.0197, -0.3094, -1.131, -0.6279, -0.2229, -0.4735, 2.5684, 2.4763, 2.4763, 2.4762, 2.4762, 2.4762, 2.476, 2.4739, 2.4576, 2.4151, 2.4121, 2.3854, 2.3674, 2.3582, 2.3521, 2.3491, 2.3405, 2.3381, 2.322, 2.3103, 2.2902, 2.2858, 2.2797, 2.2618, 2.2368, 2.2237, 2.1636, 2.1508, 2.1164, 2.1161, 2.1125, 2.0285, 2.0245, 0.4803, 1.61, 1.5803, 1.1605, -0.0385, -0.0035, -0.1623, -0.2527, 1.751, 0.4543, 0.4703, 0.2464, -0.312, 0.8581, 0.2951, 0.6472, -0.0431, 0.562, 0.4136, -0.1775, -0.2461, 1.0206, 0.6036, 1.3608, -0.092, 1.304, -0.5719, 0.7396, 0.5115, -0.3641, -0.3782, -0.3761, 0.5302, 0.6416, -0.151, -0.0668, -0.7678, 0.2732, -0.163, 3.7557, 3.7556, 3.755, 3.7137, 3.6631, 3.2606, 3.248, 3.2155, 3.1961, 3.1932, 3.1449, 3.0976, 2.9686, 2.9439, 2.9359, 2.8964, 2.8899, 2.8774, 2.8586, 2.8085, 2.805, 2.7693, 2.7492, 2.6695, 2.6298, 2.6266, 2.5984, 2.4942, 2.455, 2.4072, 2.3847, 2.0204, 1.9412, 1.5591, 1.2494, 1.3585, 1.349, 0.801, 0.3122, -0.5458, 1.09, 0.6835, -1.0384, 0.9971, 1.1538, 1.7119, -0.4765, -0.4814, -1.1599, -0.0584, -0.8978, 1.0928, -0.0371, -0.4772, -1.371, -0.1738, -1.9778, -0.3953, -0.9027]}, \"token.table\": {\"Topic\": [1, 2, 3, 4, 5, 6, 7, 8, 9, 10, 1, 2, 3, 4, 5, 6, 7, 8, 9, 10, 1, 2, 3, 4, 5, 6, 7, 8, 7, 6, 6, 5, 7, 1, 2, 3, 4, 7, 1, 4, 10, 1, 2, 3, 4, 5, 6, 7, 8, 9, 10, 7, 1, 2, 3, 4, 5, 6, 8, 1, 2, 3, 4, 5, 7, 9, 10, 1, 2, 3, 4, 5, 6, 7, 9, 1, 2, 3, 4, 5, 6, 7, 8, 9, 10, 2, 3, 3, 7, 5, 1, 2, 3, 4, 5, 6, 7, 8, 9, 1, 2, 3, 4, 5, 6, 7, 9, 1, 7, 8, 3, 9, 10, 8, 1, 3, 4, 5, 6, 7, 4, 6, 1, 2, 3, 4, 5, 6, 7, 8, 9, 10, 6, 1, 2, 4, 5, 4, 1, 2, 3, 4, 5, 6, 7, 8, 9, 1, 4, 10, 5, 9, 10, 1, 9, 1, 5, 3, 4, 4, 9, 1, 10, 8, 2, 1, 2, 3, 4, 5, 6, 7, 8, 9, 5, 1, 2, 3, 4, 5, 6, 7, 9, 10, 1, 2, 3, 4, 5, 6, 7, 8, 9, 2, 1, 3, 1, 3, 1, 2, 3, 4, 5, 6, 7, 8, 9, 7, 3, 4, 9, 8, 1, 2, 3, 4, 5, 6, 7, 8, 3, 6, 1, 2, 3, 5, 6, 7, 9, 4, 1, 3, 1, 2, 3, 4, 5, 6, 7, 8, 9, 10, 1, 4, 9, 2, 3, 8, 1, 2, 3, 4, 5, 7, 8, 9, 3, 1, 3, 4, 5, 8, 2, 7, 6, 8, 1, 2, 3, 4, 5, 6, 7, 8, 1, 2, 3, 4, 5, 6, 7, 8, 9, 2, 3, 4, 6, 7, 1, 2, 3, 4, 5, 9, 1, 2, 3, 4, 5, 6, 7, 8, 9, 4, 4, 5, 9, 3, 1, 1, 2, 3, 4, 5, 6, 7, 8, 9, 5, 8, 1, 3, 9, 2, 9, 4, 6, 9, 1, 5, 1, 4, 1, 2, 3, 4, 9, 8, 8, 1, 5, 2, 4, 2, 1, 2, 3, 4, 7, 3, 10, 9, 7, 1, 2, 3, 4, 5, 6, 7, 8, 9, 10, 6, 1, 3, 8, 1, 2, 3, 4, 5, 6, 7, 8, 10, 1, 2, 3, 4, 5, 6, 7, 8, 9, 2, 3, 6, 2, 3, 4, 2, 3, 5, 6, 9, 9, 2, 4, 7, 1, 2, 3, 4, 5, 6, 7, 8, 9, 1, 2, 3, 4, 5, 6, 7, 8, 9, 1, 2, 3, 4, 5, 7, 3, 5, 6, 3, 4, 7, 1, 4, 1, 2, 3, 4, 7, 8, 9, 4, 5, 1, 3, 4, 7, 9, 9, 6, 7, 5, 5, 4, 1, 2, 4, 10, 1, 2, 3, 4, 5, 6, 7, 8, 9, 10, 4, 1, 2, 3, 4, 6, 6, 1, 2, 3, 4, 8, 3, 6, 1, 1, 3, 4, 5, 6, 7, 8, 8, 7, 2, 3, 1, 2, 3, 4, 5, 6, 7, 8, 9, 1, 4, 5, 10, 3, 1, 2, 3, 4, 5, 6, 7, 8, 9, 4, 7, 2, 7, 1, 2, 3, 4, 5, 6, 7, 8, 9, 10, 1, 2, 3, 4, 6, 7, 3, 6, 7, 1, 2, 3, 4, 5, 6, 7, 8, 9, 10, 1, 2, 3, 5, 6, 9, 5, 1, 4, 6, 9, 1, 3, 4, 5, 8, 8, 5, 1, 5, 1, 2, 3, 4, 5, 6, 7, 8, 9, 2, 2, 4, 5, 3, 7, 5, 7, 8, 1, 2, 4, 5, 1, 2, 3, 4, 5, 6, 7, 8, 9, 2, 3, 3, 8, 5, 1, 2, 3, 4, 5, 6, 7, 8, 9, 1, 2, 3, 4, 5, 6, 7, 3, 4, 7, 9, 2, 2, 3, 1, 2, 3, 4, 6, 7, 9, 1, 2, 3, 4, 5, 6, 8, 2, 5, 1, 2, 3, 4, 5, 6, 7, 9, 7, 1, 2, 3, 4, 5, 6, 7, 8, 9, 6, 6, 1, 3, 1, 2, 3, 4, 5, 6, 7, 8, 9, 10, 4, 1, 2, 3, 4, 5, 6, 7, 8, 9, 10, 9, 5, 5, 6, 9, 1, 2, 3, 4, 5, 7, 9, 7, 4, 5, 1, 2, 3, 4, 5, 6, 7, 8, 9, 1, 2, 3, 4, 5, 6, 7, 8, 4, 1, 7, 5, 9, 5, 5, 1, 2, 3, 4, 5, 1, 2, 3, 4, 6, 7, 1, 8, 6, 1, 5, 9, 1, 2, 3, 4, 5, 7, 8, 1, 2, 3, 4, 5, 6, 7, 8, 9, 10, 1, 3, 8, 1, 3, 5, 2, 1, 2, 3, 4, 5, 6, 7, 9, 10, 3, 8, 2, 10, 1, 3, 5, 6, 2, 10, 1, 2, 3, 4, 6, 8, 9, 10, 1, 8, 1, 2, 3, 4, 7, 9, 2, 1, 2, 3, 4, 5, 6, 7, 8, 9, 3, 4, 5, 8, 9, 9, 1, 2, 3, 4, 5, 6, 7, 8, 9, 2, 8, 1, 2, 9, 3, 4, 6, 1, 2, 3, 8, 9, 5, 8, 9, 6, 7, 1, 2, 3, 4, 5, 6, 7, 8, 9, 10, 4, 9, 8, 6, 1, 2, 3, 4, 5, 6, 7, 8, 9, 10, 1, 3, 5, 8, 9, 10, 9, 3, 4, 6, 4, 5, 1, 2, 3, 5, 1, 2, 3, 4, 5, 8, 7, 1, 2, 3, 4, 5, 6, 7, 8, 9, 1, 2, 3, 4, 5, 6, 7, 8, 9, 2, 4, 3, 6, 1, 2, 3, 4, 5, 6, 7, 8, 9, 10, 2, 3, 6, 9, 1, 2, 10, 1, 2, 3, 4, 5, 6, 7, 8, 9, 10, 1, 3, 3, 6, 1, 2, 3, 4, 5, 6, 7, 8, 9, 1, 2, 3, 4, 5, 6, 7, 8, 9, 3, 7, 10, 1, 4, 5, 1, 3, 4, 5, 7, 8, 1, 4, 4, 9, 1, 2, 3, 4, 6, 7, 9, 3, 5, 2, 1, 2, 3, 4, 5, 6, 7, 8, 9, 10, 1, 2, 3, 4, 5, 6, 7, 8, 9, 10, 5, 10, 6, 1, 2, 4, 6, 9, 9, 9, 5, 10, 1, 2, 3, 4, 5, 8, 9, 1, 4, 1, 3, 4, 5, 6, 7, 5, 1, 2, 3, 4, 5, 6, 7, 8, 9, 2, 6, 7, 7, 1, 2, 3, 5, 1, 9, 1, 2, 3, 7, 9, 9, 2, 1, 2, 4, 6, 7, 3, 4, 1, 7, 6, 7, 1, 2, 3, 4, 5, 6, 7, 8, 9, 1, 3, 5, 6, 2, 7, 2, 6, 8, 6, 4, 1, 2, 3, 4, 1, 2, 1, 3, 5, 7, 8, 9, 9, 2, 5, 4, 1, 4, 2, 6, 3, 5, 9, 8, 1, 2, 3, 4, 6, 7, 9, 1, 2, 3, 4, 5, 6, 7, 7, 1, 4, 5, 9, 3, 1, 2, 3, 4, 5, 7, 9, 2, 1, 3, 2, 3, 4, 9, 9, 2, 5, 1, 5, 1, 2, 3, 4, 5, 6, 7, 8, 9, 7, 1, 2, 3, 4, 5, 6, 7, 8, 9, 8, 5, 3, 9, 2, 3, 4, 1, 2, 8, 1, 2, 3, 5, 7, 8, 10, 7, 4, 1, 2, 3, 4, 6, 7, 8, 9, 2, 1, 1, 2, 3, 4, 5, 8, 9, 4, 8, 3, 9, 6, 8, 1, 2, 6, 10, 1, 2, 3, 4, 5, 8, 1, 2, 3, 4, 5, 6, 7, 8, 9, 10, 9, 1, 3, 4, 6, 4, 5, 4, 3, 4, 6, 1, 8, 7, 7, 3, 1, 2, 3, 6, 7, 9, 6, 6, 8, 9, 3, 8, 8, 1, 2, 3, 4, 5, 6, 7, 8, 9, 2, 9, 6, 6, 2, 8, 3, 7, 3, 1, 3, 4, 7, 10, 1, 2, 3, 5, 6, 10, 1, 2, 3, 4, 5, 6, 7, 8, 9, 1, 2, 3, 4, 5, 6, 7, 8, 9, 10, 1, 2, 3, 4, 5, 6, 7, 8, 9, 10, 1, 2, 3, 4, 5, 6, 7, 8, 9, 5, 4, 1, 2, 3, 4, 5, 6, 7, 8, 9, 1, 2, 3, 4, 5, 6, 7, 8, 9, 10, 1, 2, 3, 4, 5, 5, 1, 2, 3, 4, 5, 6, 7, 8, 9, 10, 1, 2, 3, 4, 5, 6, 7, 8, 9, 6, 2, 3, 4, 6, 9, 3, 7, 8, 7, 2, 8, 1, 2, 6, 10, 7, 1, 2, 3, 4, 6, 9, 6, 5, 1, 3, 3, 1, 2, 3, 5, 6, 7, 9, 1, 3, 6, 8, 6, 2, 4, 9, 5, 1, 4, 6, 1, 3, 5, 6, 7, 8, 9, 2, 1, 2, 3, 4, 5, 6, 7, 8, 9, 10, 8, 1, 2, 3, 4, 5, 6, 9, 10, 3, 6, 7, 9, 1, 2, 3, 4, 5, 9, 8, 2, 4, 8, 2, 3, 5, 7, 1, 4, 1, 2, 5, 9, 1, 2, 3, 4, 5, 6, 7, 8, 2, 1, 2, 3, 4, 5, 6, 7, 9, 1, 2, 3, 4, 5, 6, 7, 8, 9, 1, 2, 3, 4, 5, 6, 7, 8, 9, 1, 2, 3, 4, 5, 6, 7, 8, 9, 1, 2, 3, 4, 5, 6, 7, 8, 10, 3, 1, 2, 3, 4, 5, 6, 7, 8, 9, 7, 7, 7, 1, 2, 3, 4, 5, 6, 7, 8, 9, 10, 3, 1, 2, 3, 4, 5, 6, 7, 8, 9, 10, 6, 1, 2, 3, 4, 5, 6, 7, 8, 9, 10, 4, 1, 2, 3, 6, 7, 9, 8, 3, 7, 1, 2, 3, 4, 5, 6, 7, 8, 9, 1, 2, 3, 4, 5, 6, 8, 1, 2, 3, 4, 5, 6, 7, 8, 9, 1, 2, 3, 4, 5, 6, 7, 8, 9, 4], \"Freq\": [0.1916344842778311, 0.2563111227215991, 0.13893500110142756, 0.12456241478059021, 0.05509491422987644, 0.10539896635280711, 0.07425836265765955, 0.01676801737431022, 0.03353603474862044, 0.002395431053472889, 0.2517037302806882, 0.2427143113420922, 0.11686244620174809, 0.08090477044736406, 0.022473547346490017, 0.08539947991666207, 0.11236773673245008, 0.04944180416227804, 0.03595767575438403, 0.004494709469298004, 0.16371537263746577, 0.2660374805358819, 0.061393264739049665, 0.12278652947809933, 0.12278652947809933, 0.10232210789841611, 0.10232210789841611, 0.061393264739049665, 0.8297219370729391, 0.5437065106723807, 0.5424736153809184, 0.3944152008584308, 0.6149667826680002, 0.5525552616047101, 0.07893646594353003, 0.07893646594353003, 0.07893646594353003, 0.07893646594353003, 0.32086212244068807, 0.32086212244068807, 0.32086212244068807, 0.18305300662128074, 0.4326707429230272, 0.09984709452069858, 0.06656472968046571, 0.03328236484023286, 0.01664118242011643, 0.03328236484023286, 0.03328236484023286, 0.08320591210058215, 0.7575478372677269, 0.6150008480687518, 0.32399626234521045, 0.2945420566774641, 0.058908411335492815, 0.058908411335492815, 0.058908411335492815, 0.058908411335492815, 0.11781682267098563, 0.23990192734546195, 0.05997548183636549, 0.2998774091818275, 0.17992644550909648, 0.08996322275454824, 0.029987740918182744, 0.08996322275454824, 0.029987740918182744, 0.2832205256179136, 0.06069011263241005, 0.22253041298550355, 0.08092015017654675, 0.08092015017654675, 0.08092015017654675, 0.1213802252648201, 0.08092015017654675, 0.25808623462234603, 0.14146949157076746, 0.18735148883696232, 0.1682339899760478, 0.040146747607920495, 0.06117599635492647, 0.049705497038377754, 0.047793747152286306, 0.04588199726619485, 0.001911749886091452, 0.5440190460150847, 0.7727842603457039, 0.24035047428628428, 0.48070094857256856, 0.5998738929311577, 0.11133032756952103, 0.25302347174891143, 0.09108844982960812, 0.16193502191930334, 0.08096751095965167, 0.15181408304934688, 0.08096751095965167, 0.040483755479825835, 0.040483755479825835, 0.35970730252372035, 0.1870477973123346, 0.2014360894132834, 0.1007180447066417, 0.04316487630284645, 0.04316487630284645, 0.04316487630284645, 0.014388292100948814, 0.5749641137596864, 0.6149826089510729, 0.6140469552299831, 0.33387898150258527, 0.33387898150258527, 0.33387898150258527, 0.6141079027234021, 0.07565914229350852, 0.15131828458701704, 0.3026365691740341, 0.3026365691740341, 0.07565914229350852, 0.07565914229350852, 0.7397605842420886, 0.7904125547907851, 0.3380313436709044, 0.15340378246912528, 0.16833689403691623, 0.11131955895989623, 0.04615689030044478, 0.04479933470337287, 0.06923533545066717, 0.0257935563443662, 0.038011556718013345, 0.005430222388287621, 0.5481854184391064, 0.5974695475523066, 0.19915651585076888, 0.09957825792538444, 0.09957825792538444, 0.5617197639350455, 0.4894978687385094, 0.024474893436925473, 0.14684936062155282, 0.09789957374770189, 0.024474893436925473, 0.024474893436925473, 0.048949786873850945, 0.07342468031077641, 0.07342468031077641, 0.6295676392519404, 0.3147838196259702, 0.3147838196259702, 0.33640182756482473, 0.33640182756482473, 0.33640182756482473, 0.3892120584226521, 0.3892120584226521, 0.7428682261199998, 0.8024520623061828, 0.7605615101480251, 0.5617308835691011, 0.5617200281817283, 0.6055238787777032, 0.4414544084812651, 0.4414544084812651, 0.5928207601802409, 0.5440062018607297, 0.27537320465652293, 0.12621271880090634, 0.19505601996503705, 0.1491604858556166, 0.06884330116413073, 0.04589553410942048, 0.08031718469148585, 0.034421650582065366, 0.034421650582065366, 0.43476488829403726, 0.19964733529697715, 0.09982366764848857, 0.09982366764848857, 0.14973550147273287, 0.32442691985758787, 0.024955916912122143, 0.024955916912122143, 0.07486775073636644, 0.024955916912122143, 0.27735724680395313, 0.2481617471403791, 0.10218424882250905, 0.13137974848608305, 0.07298874915893504, 0.05839099932714803, 0.04379324949536102, 0.04379324949536102, 0.029195499663574015, 0.5440032364189845, 0.22757601866923227, 0.6827280560076968, 0.8258323196471972, 0.13763871994119953, 0.13621229829698325, 0.10215922372273745, 0.10215922372273745, 0.2724245965939665, 0.06810614914849163, 0.06810614914849163, 0.06810614914849163, 0.03405307457424581, 0.13621229829698325, 0.6149698166054215, 0.7726031963328069, 0.38728378482651604, 0.38728378482651604, 0.6141265778615893, 0.2361804985183708, 0.07872683283945694, 0.1574536656789139, 0.07872683283945694, 0.1574536656789139, 0.2361804985183708, 0.03936341641972847, 0.03936341641972847, 0.2121372116371435, 0.6364116349114305, 0.271590090625504, 0.135795045312752, 0.067897522656376, 0.067897522656376, 0.271590090625504, 0.067897522656376, 0.067897522656376, 0.5617337969328978, 0.6688052240455793, 0.22293507468185975, 0.2807256336260015, 0.14913549286381328, 0.07895408445731292, 0.05263605630487528, 0.1140447886605631, 0.05263605630487528, 0.10527211260975056, 0.096499436558938, 0.07018140840650038, 0.008772676050812547, 0.22436531189884906, 0.4487306237976981, 0.22436531189884906, 0.5516925272099451, 0.1838975090699817, 0.1838975090699817, 0.22013134046885774, 0.27516417558607215, 0.055032835117214435, 0.22013134046885774, 0.027516417558607217, 0.13758208779303607, 0.055032835117214435, 0.027516417558607217, 0.5831022960076002, 0.11943806968523303, 0.5374713135835486, 0.17915710452784955, 0.059719034842616515, 0.059719034842616515, 0.5467941158583579, 0.27339705792917895, 0.5432952769644669, 0.6141783093705822, 0.1755648792299181, 0.39014417606648466, 0.13655046162326961, 0.03901441760664846, 0.07802883521329693, 0.03901441760664846, 0.09753604401662117, 0.03901441760664846, 0.08668720572813635, 0.23838981575237495, 0.08668720572813635, 0.1733744114562727, 0.04334360286406817, 0.21671801432034088, 0.08668720572813635, 0.04334360286406817, 0.021671801432034087, 0.2870213700086998, 0.1435106850043499, 0.3587767125108748, 0.07175534250217495, 0.07175534250217495, 0.09901427286825107, 0.09901427286825107, 0.09901427286825107, 0.24753568217062766, 0.3960570914730043, 0.049507136434125534, 0.2590374101306256, 0.16761244184922833, 0.18284993656279452, 0.10666246299496347, 0.09142496828139726, 0.10666246299496347, 0.030474989427132424, 0.030474989427132424, 0.015237494713566212, 0.7342726677439875, 0.5617113104233465, 0.599896128694699, 0.6025222878993848, 0.5831027377918694, 0.7550444073722874, 0.2263998998912292, 0.1273499436888164, 0.33959984983684377, 0.1273499436888164, 0.02829998748640365, 0.02829998748640365, 0.014149993743201824, 0.07074996871600912, 0.04244998122960547, 0.40083558642047007, 0.4004666506968766, 0.8256397074844621, 0.13760661791407702, 0.6041620206880594, 0.7277477470908125, 0.608365006796231, 0.5616971005936063, 0.7255650511336461, 0.6083406239009019, 0.7582755981855911, 0.5998994074320442, 0.633807231421706, 0.1584518078554265, 0.10861043581833052, 0.4344417432733221, 0.21722087163666104, 0.10861043581833052, 0.10861043581833052, 0.6142179638667528, 0.4040894974838074, 0.3273122901360867, 0.3273122901360867, 0.6267500358385962, 0.2089166786128654, 0.5440010868521848, 0.19142875782531782, 0.19142875782531782, 0.19142875782531782, 0.09571437891265891, 0.28714313673797676, 0.5831051969289939, 0.7505778358287019, 0.6051538501175283, 0.40889070740584305, 0.16809112163982115, 0.16809112163982115, 0.16809112163982115, 0.2641431911482904, 0.06003254344279327, 0.07203905213135192, 0.06003254344279327, 0.024013017377117307, 0.012006508688558654, 0.012006508688558654, 0.5480269426572039, 0.7403836521434709, 0.7092167910877568, 0.23640559702925226, 0.22190684013138146, 0.14793789342092098, 0.14793789342092098, 0.036984473355230245, 0.1849223667761512, 0.07396894671046049, 0.11095342006569073, 0.07396894671046049, 0.036984473355230245, 0.5185539328451502, 0.02469304442119763, 0.1728513109483834, 0.07407913326359289, 0.04938608884239526, 0.07407913326359289, 0.02469304442119763, 0.07407913326359289, 0.02469304442119763, 0.17797417819350012, 0.17797417819350012, 0.35594835638700023, 0.222916650914677, 0.445833301829354, 0.7408209306216476, 0.14400009339968114, 0.14400009339968114, 0.4320002801990434, 0.14400009339968114, 0.14400009339968114, 0.6022292446634865, 0.5522375639387673, 0.13805939098469183, 0.27611878196938366, 0.10326126300039835, 0.2581531575009959, 0.10326126300039835, 0.2065225260007967, 0.05163063150019918, 0.12907657875049794, 0.05163063150019918, 0.02581531575009959, 0.05163063150019918, 0.23514753921028445, 0.14696721200642776, 0.2057540968089989, 0.08818032720385666, 0.11757376960514222, 0.08818032720385666, 0.029393442401285556, 0.029393442401285556, 0.08818032720385666, 0.2288994601940992, 0.1961995373092279, 0.3923990746184558, 0.06539984576974263, 0.06539984576974263, 0.032699922884871314, 0.23325066374804626, 0.4665013274960925, 0.23325066374804626, 0.6661448218387092, 0.1903270919539169, 0.09516354597695845, 0.5549239728784667, 0.27746198643923337, 0.13401164280505987, 0.357364380813493, 0.04467054760168662, 0.13401164280505987, 0.13401164280505987, 0.13401164280505987, 0.04467054760168662, 0.45725344322493805, 0.45725344322493805, 0.14546916768020676, 0.14546916768020676, 0.2909383353604135, 0.2909383353604135, 0.6037514236746088, 0.40543706893893794, 0.5425316020640647, 0.6149963315973224, 0.5999005933364708, 0.6003385016453487, 0.5617282277318235, 0.182780562764219, 0.182780562764219, 0.365561125528438, 0.7576420712633047, 0.20586577385278418, 0.28504491764231654, 0.0633433150316259, 0.07917914378953238, 0.11085080130534532, 0.0633433150316259, 0.09501497254743885, 0.0633433150316259, 0.03167165751581295, 0.015835828757906473, 0.7454925807824104, 0.08802330540210859, 0.5281398324126515, 0.08802330540210859, 0.08802330540210859, 0.08802330540210859, 0.5424654452530492, 0.05480457908956376, 0.4932412118060738, 0.21921831635825503, 0.05480457908956376, 0.16441373726869127, 0.2152586784377786, 0.6457760353133357, 0.43748940425671656, 0.13394308590870402, 0.06697154295435201, 0.33485771477176, 0.06697154295435201, 0.06697154295435201, 0.13394308590870402, 0.13394308590870402, 0.6142887346603635, 0.614963500767685, 0.7251841037114214, 0.5830899218314927, 0.19720400826542067, 0.26293867768722756, 0.12325250516588791, 0.1355777556824767, 0.06984308626066982, 0.07395150309953274, 0.08627675361612154, 0.032867334710903445, 0.020542084194314653, 0.2557131338883651, 0.2557131338883651, 0.2557131338883651, 0.2557131338883651, 0.5792510798727727, 0.2108780249828791, 0.1725365658950829, 0.1341951068072867, 0.1725365658950829, 0.0766829181755924, 0.0383414590877962, 0.0575121886316943, 0.0191707295438981, 0.0766829181755924, 0.5617260806836128, 0.6150219698306526, 0.5440161998830952, 0.6149564455705179, 0.21214142323249402, 0.18183550562785203, 0.18183550562785203, 0.060611835209284, 0.030305917604642, 0.18183550562785203, 0.060611835209284, 0.030305917604642, 0.030305917604642, 0.7575892835770173, 0.18534634811685108, 0.09267317405842554, 0.18534634811685108, 0.37069269623370216, 0.09267317405842554, 0.09267317405842554, 0.3784281788471272, 0.3784281788471272, 0.6150174693617106, 0.24882148944600824, 0.08294049648200275, 0.12441074472300412, 0.20735124120500686, 0.04147024824100137, 0.04147024824100137, 0.12441074472300412, 0.08294049648200275, 0.08294049648200275, 0.04147024824100137, 0.16305403988100936, 0.08152701994050468, 0.24458105982151404, 0.16305403988100936, 0.16305403988100936, 0.16305403988100936, 0.5994895725937489, 0.15486709083587005, 0.15486709083587005, 0.4646012725076102, 0.15486709083587005, 0.5974795669957563, 0.07468494587446954, 0.07468494587446954, 0.14936989174893908, 0.07468494587446954, 0.6141396184805634, 0.5998857664805349, 0.7422978642548524, 0.5998784960050185, 0.147147560626562, 0.3363372814321417, 0.08408432035803542, 0.06306324026852657, 0.021021080089508856, 0.10510540044754428, 0.08408432035803542, 0.04204216017901771, 0.08408432035803542, 0.5440172743816505, 0.26916535277267284, 0.5383307055453457, 0.5998729474574447, 0.7691913990130487, 0.6150338281464878, 0.30952297433566606, 0.30952297433566606, 0.30952297433566606, 0.6931342369476041, 0.19803835341360115, 0.09901917670680058, 0.09901917670680058, 0.18034189570072331, 0.22843306788758289, 0.15228871192505525, 0.1122127351026723, 0.1122127351026723, 0.07614435596252762, 0.06011396523357444, 0.04809117218685956, 0.036068379140144664, 0.8013404599601911, 0.8645959387128246, 0.5830931763010595, 0.6141427154375065, 0.599648866699831, 0.22928438143410926, 0.07642812714470308, 0.03821406357235154, 0.22928438143410926, 0.1910703178617577, 0.03821406357235154, 0.11464219071705463, 0.03821406357235154, 0.07642812714470308, 0.3094413364431233, 0.11604050116617125, 0.07736033411078083, 0.11604050116617125, 0.15472066822156166, 0.2320810023323425, 0.6149895311741392, 0.1892795177515291, 0.5678385532545873, 0.1892795177515291, 0.6102849698299612, 0.7202270755107911, 0.28101737986855163, 0.5620347597371033, 0.15345057724301334, 0.11508793293226, 0.19181322155376665, 0.2685385101752733, 0.07672528862150667, 0.11508793293226, 0.07672528862150667, 0.12662728659662217, 0.12662728659662217, 0.12662728659662217, 0.12662728659662217, 0.12662728659662217, 0.12662728659662217, 0.25325457319324435, 0.7890318492918598, 0.8024684492968994, 0.289060486031838, 0.0867181458095514, 0.0867181458095514, 0.11562419441273519, 0.2023423402222866, 0.057812097206367596, 0.0867181458095514, 0.028906048603183798, 0.6149862950582441, 0.061431187842522605, 0.10238531307087101, 0.10238531307087101, 0.22524768875591622, 0.2866788765984388, 0.020477062614174202, 0.12286237568504521, 0.020477062614174202, 0.040954125228348404, 0.5436277476152122, 0.5424775995140589, 0.2267466429795654, 0.6802399289386962, 0.3078270223571488, 0.18639067408781487, 0.14685325837221777, 0.0847230336762795, 0.056482022450852994, 0.056482022450852994, 0.07342662918610889, 0.059306123573395646, 0.025416910102883848, 0.0028241011225426495, 0.7363913061411379, 0.2678188729757757, 0.05356377459515514, 0.16069132378546544, 0.13390943648788786, 0.13390943648788786, 0.05356377459515514, 0.05356377459515514, 0.02678188729757757, 0.08034566189273272, 0.02678188729757757, 0.5955156122484037, 0.5998707236560725, 0.3918693175042292, 0.1959346587521146, 0.1959346587521146, 0.29111754670629303, 0.14555877335314651, 0.10916908001485989, 0.14555877335314651, 0.18194846669143316, 0.10916908001485989, 0.03638969333828663, 0.6150023693800182, 0.5617200704069115, 0.5998987701643366, 0.28192433019727586, 0.14096216509863793, 0.19382297701062715, 0.11453175914264331, 0.0881013531866487, 0.03524054127465948, 0.02643040595599461, 0.07929121786798383, 0.03524054127465948, 0.4044872977846095, 0.10786327940922921, 0.1348290992615365, 0.10786327940922921, 0.053931639704614606, 0.053931639704614606, 0.053931639704614606, 0.053931639704614606, 0.5617180604396996, 0.30504342844355364, 0.6100868568871073, 0.5998967633055262, 0.6044567133671747, 0.5998895522774196, 0.5999512772410419, 0.7231476371504466, 0.07231476371504467, 0.07231476371504467, 0.07231476371504467, 0.5998988190489548, 0.071086890639667, 0.49760823447766905, 0.071086890639667, 0.142173781279334, 0.071086890639667, 0.071086890639667, 0.7428116556753093, 0.6141134218042773, 0.5471722121626372, 0.5661627879731241, 0.4303220269884926, 0.4303220269884926, 0.15988250358444012, 0.07994125179222006, 0.23982375537666017, 0.11991187768833009, 0.11991187768833009, 0.11991187768833009, 0.15988250358444012, 0.3131329173794763, 0.11183318477838439, 0.13419982173406128, 0.06709991086703064, 0.08946654782270752, 0.04473327391135376, 0.11183318477838439, 0.04473327391135376, 0.06709991086703064, 0.02236663695567688, 0.29530284141214164, 0.29530284141214164, 0.29530284141214164, 0.2292814139571445, 0.458562827914289, 0.2292814139571445, 0.5439910531374283, 0.13800125920551148, 0.22080201472881839, 0.22080201472881839, 0.08280075552330689, 0.055200503682204596, 0.11040100736440919, 0.055200503682204596, 0.11040100736440919, 0.027600251841102298, 0.7061405069445204, 0.2353801689815068, 0.4316865072143588, 0.4316865072143588, 0.7019645329213511, 0.20056129512038604, 0.05014032378009651, 0.05014032378009651, 0.4328753411653745, 0.4328753411653745, 0.21460076202707604, 0.3934347303829727, 0.10730038101353802, 0.07153358734235868, 0.03576679367117934, 0.03576679367117934, 0.07153358734235868, 0.03576679367117934, 0.39522071572032413, 0.39522071572032413, 0.20415351046241026, 0.3062302656936154, 0.10207675523120513, 0.10207675523120513, 0.10207675523120513, 0.20415351046241026, 0.5440193113246768, 0.16502971437938074, 0.22003961917250767, 0.16502971437938074, 0.05500990479312692, 0.11001980958625383, 0.02750495239656346, 0.11001980958625383, 0.08251485718969037, 0.02750495239656346, 0.5830783162455238, 0.3922980272532631, 0.3922980272532631, 0.6141325104848946, 0.6093684783284893, 0.6035684278680566, 0.1325177563034394, 0.23190607353101894, 0.16564719537929923, 0.16564719537929923, 0.03312943907585985, 0.03312943907585985, 0.16564719537929923, 0.0662588781517197, 0.03312943907585985, 0.5440109765789846, 0.6140861367656629, 0.7468870350656115, 0.5440130487604019, 0.6047946836305691, 0.6821539550845347, 0.22738465169484492, 0.542531992488134, 0.6058395856278234, 0.1009732642713039, 0.1009732642713039, 0.1009732642713039, 0.1009732642713039, 0.5998713453783601, 0.3011773311447155, 0.3011773311447155, 0.39911119453998517, 0.39911119453998517, 0.40698083524733575, 0.25436302202958483, 0.10174520881183394, 0.03391506960394464, 0.05087260440591697, 0.01695753480197232, 0.06783013920788929, 0.01695753480197232, 0.05087260440591697, 0.01695753480197232, 0.5650662769396035, 0.28253313846980177, 0.6141924636057385, 0.5425584502869897, 0.19084154523744315, 0.24242034124756293, 0.1289469900252994, 0.08252607361619163, 0.14957850842934733, 0.09284183281821559, 0.03610515720708384, 0.025789398005059885, 0.041263036808095815, 0.005157879601011977, 0.3025284919600669, 0.2268963689700502, 0.07563212299001673, 0.15126424598003346, 0.15126424598003346, 0.07563212299001673, 0.6040063078151333, 0.18388484891867113, 0.5516545467560134, 0.36490852557033937, 0.5617148560514301, 0.5999000792120998, 0.1407507292488438, 0.46916909749614594, 0.2815014584976876, 0.0469169097496146, 0.1304510232504286, 0.1304510232504286, 0.1304510232504286, 0.1304510232504286, 0.1304510232504286, 0.2609020465008572, 0.6149789833371011, 0.17191776696006789, 0.17191776696006789, 0.31518257276012446, 0.08595888348003394, 0.11461184464004526, 0.028652961160011314, 0.028652961160011314, 0.028652961160011314, 0.028652961160011314, 0.32851637521208515, 0.08447563934025047, 0.16895127868050094, 0.1407927322337508, 0.06570327504241703, 0.056317092893500315, 0.056317092893500315, 0.046930910744583595, 0.056317092893500315, 0.7055821697190121, 0.561726399927265, 0.41892557693101784, 0.41892557693101784, 0.15762776407603374, 0.22305815671136847, 0.17844652536909478, 0.09517148019685055, 0.0743527189037895, 0.05055984885457686, 0.0743527189037895, 0.07137861014763791, 0.0743527189037895, 0.0029741087561515798, 0.11201804899932559, 0.560090244996628, 0.11201804899932559, 0.11201804899932559, 0.3089394387043814, 0.3089394387043814, 0.3089394387043814, 0.3262694433834573, 0.11963212924060102, 0.22838861036842012, 0.09244300895864624, 0.06525388867669146, 0.05981606462030051, 0.03806476839473669, 0.03806476839473669, 0.03262694433834573, 0.01087564811278191, 0.8551065379120819, 0.12215807684458313, 0.21618334246237206, 0.4323666849247441, 0.16695080431542295, 0.06462611779951856, 0.32851609881421934, 0.09155366688265129, 0.06462611779951856, 0.11848121596578402, 0.03231305889975928, 0.10232468651590437, 0.03231305889975928, 0.1877383129688027, 0.05632149389064081, 0.13141681907816188, 0.15019065037504215, 0.09386915648440135, 0.15019065037504215, 0.07509532518752107, 0.09386915648440135, 0.05632149389064081, 0.33390682933486865, 0.33390682933486865, 0.33390682933486865, 0.19444410815914123, 0.19444410815914123, 0.5833323244774237, 0.2346978832401548, 0.1173489416200774, 0.1173489416200774, 0.1173489416200774, 0.1173489416200774, 0.2346978832401548, 0.7399562278570333, 0.5617098218435816, 0.5617277540126053, 0.6024193979917679, 0.19972553394817927, 0.09986276697408963, 0.09986276697408963, 0.09986276697408963, 0.2995883009222689, 0.09986276697408963, 0.09986276697408963, 0.696839724850869, 0.232279908283623, 0.5440168222536232, 0.4254070256925266, 0.03545058547437722, 0.14180234189750887, 0.03545058547437722, 0.03545058547437722, 0.03545058547437722, 0.10635175642313165, 0.07090117094875444, 0.10635175642313165, 0.03545058547437722, 0.2649116367109307, 0.1801399129634329, 0.21192930936874457, 0.0741752582790606, 0.05298232734218614, 0.031789396405311685, 0.05298232734218614, 0.05298232734218614, 0.0741752582790606, 0.01059646546843723, 0.34677028915790953, 0.34677028915790953, 0.5424818621962569, 0.7572963451741122, 0.13586836723669896, 0.5434734689467958, 0.13586836723669896, 0.13586836723669896, 0.6083842146071113, 0.6074408873986551, 0.46177384948192046, 0.46177384948192046, 0.1068210173331734, 0.2136420346663468, 0.1068210173331734, 0.2136420346663468, 0.2670525433329335, 0.0534105086665867, 0.0534105086665867, 0.39649965121667424, 0.39649965121667424, 0.4350214048183507, 0.09667142329296682, 0.29001426987890044, 0.04833571164648341, 0.04833571164648341, 0.14500713493945022, 0.5998708510787177, 0.27065594644638447, 0.15669554794264365, 0.19943069738154645, 0.028490099625935208, 0.08547029887780562, 0.09971534869077323, 0.028490099625935208, 0.07122524906483801, 0.04273514943890281, 0.33425652829425745, 0.16712826414712872, 0.33425652829425745, 0.4314617187037106, 0.13570219587792007, 0.5428087835116803, 0.13570219587792007, 0.13570219587792007, 0.3966062685703534, 0.3966062685703534, 0.5944823685559905, 0.059448236855599045, 0.11889647371119809, 0.059448236855599045, 0.11889647371119809, 0.6052007680573956, 0.7928439556335982, 0.19858478501289864, 0.46336449836343013, 0.13238985667526576, 0.06619492833763288, 0.06619492833763288, 0.3724723776226464, 0.3724723776226464, 0.2985266973409108, 0.5970533946818216, 0.5466479564044793, 0.6149935113984172, 0.08876691290805624, 0.05917794193870417, 0.41424559357092916, 0.1775338258161125, 0.029588970969352084, 0.08876691290805624, 0.029588970969352084, 0.05917794193870417, 0.029588970969352084, 0.55091444030804, 0.110182888061608, 0.110182888061608, 0.110182888061608, 0.6196847514996935, 0.15492118787492337, 0.5378145848026193, 0.5425336574783749, 0.6140967276758177, 0.5425262703400698, 0.7398386136897936, 0.6003119853949459, 0.10914763370817199, 0.16372145056225798, 0.054573816854085994, 0.742886811064972, 0.5440068443613891, 0.12046660477242112, 0.24093320954484224, 0.24093320954484224, 0.24093320954484224, 0.12046660477242112, 0.12046660477242112, 0.6083904846499413, 0.5440002104726677, 0.3967607855617873, 0.7356115885871782, 0.6365114598684611, 0.15912786496711528, 0.544024597478892, 0.5424711417005882, 0.7736218420218647, 0.5999125011331428, 0.6092221418973818, 0.6098325822643673, 0.2050413487740283, 0.10252067438701415, 0.10252067438701415, 0.2050413487740283, 0.10252067438701415, 0.10252067438701415, 0.2050413487740283, 0.17029931469749962, 0.08514965734874981, 0.17029931469749962, 0.34059862939499924, 0.08514965734874981, 0.08514965734874981, 0.08514965734874981, 0.6150108996211437, 0.14409045717742705, 0.2881809143548541, 0.2881809143548541, 0.14409045717742705, 0.3916976351945564, 0.2562667258275058, 0.16016670364219115, 0.1281333629137529, 0.16016670364219115, 0.19220004437062937, 0.06406668145687645, 0.03203334072843823, 0.5440148412391819, 0.22553935016143056, 0.4510787003228611, 0.16343218158930803, 0.16343218158930803, 0.16343218158930803, 0.32686436317861606, 0.6083872468257051, 0.5440056482561103, 0.5999204784313152, 0.8841711691463152, 0.5998792257754693, 0.3385509550374681, 0.1593180964882203, 0.08961642927462392, 0.08961642927462392, 0.03982952412205507, 0.029872143091541306, 0.09957381030513769, 0.11948857236616522, 0.03982952412205507, 0.6149599426438046, 0.12046727802414002, 0.28109031538966006, 0.12046727802414002, 0.08031151868276001, 0.04015575934138001, 0.04015575934138001, 0.08031151868276001, 0.16062303736552003, 0.04015575934138001, 0.6140797807540233, 0.5999011659851826, 0.4712221811907357, 0.4712221811907357, 0.6133091436889839, 0.30665457184449196, 0.732721442260168, 0.18231072960108557, 0.5469321888032568, 0.18231072960108557, 0.2663590180544585, 0.13317950902722925, 0.19976926354084387, 0.13317950902722925, 0.13317950902722925, 0.06658975451361462, 0.06658975451361462, 0.615030471846832, 0.3709791529964938, 0.3010966932381807, 0.050182782206363456, 0.15054834661909036, 0.050182782206363456, 0.10036556441272691, 0.15054834661909036, 0.15054834661909036, 0.10036556441272691, 0.7168622562431914, 0.7427951511234017, 0.5320617836849012, 0.15961853510547036, 0.15961853510547036, 0.05320617836849012, 0.02660308918424506, 0.02660308918424506, 0.02660308918424506, 0.37505811840255154, 0.6142909078099144, 0.5830995042310182, 0.6030994580454565, 0.5424986355312055, 0.6140927393045383, 0.3846878478491618, 0.1923439239245809, 0.3846878478491618, 0.1923439239245809, 0.19985225954783237, 0.1598818076382659, 0.47964542291479767, 0.07994090381913295, 0.07994090381913295, 0.039970451909566475, 0.31725779268374943, 0.25380623414699954, 0.06345155853674989, 0.03172577926837494, 0.12690311707349977, 0.03172577926837494, 0.06345155853674989, 0.03172577926837494, 0.03172577926837494, 0.03172577926837494, 0.6000988537376197, 0.14042438835134483, 0.5616975534053793, 0.14042438835134483, 0.14042438835134483, 0.5643581184891678, 0.2821790592445839, 0.5617311727803774, 0.22156683969971971, 0.6647005190991592, 0.5426383566162367, 0.39739464267025515, 0.39739464267025515, 0.614989209132115, 0.6149782581852452, 0.58307867558209, 0.16931212887497066, 0.08465606443748533, 0.16931212887497066, 0.3386242577499413, 0.08465606443748533, 0.08465606443748533, 0.7295442888467689, 0.5568719373731991, 0.1856239791243997, 0.1856239791243997, 0.5830922711766008, 0.5943947151173856, 0.6142350721403346, 0.19549038256949067, 0.1824576903981913, 0.10426153737039502, 0.20852307474079004, 0.15639230605559254, 0.039098076513898135, 0.026065384342598755, 0.013032692171299378, 0.0651634608564969, 0.7099150592083603, 0.6084029577430797, 0.5502745065211535, 0.7029637193621231, 0.5440183931293558, 0.6141008832008364, 0.580068129785243, 0.6150478365241486, 0.5830911395541718, 0.20632042586180208, 0.20632042586180208, 0.20632042586180208, 0.20632042586180208, 0.20632042586180208, 0.4958885703429842, 0.1803231164883579, 0.13524233736626842, 0.04508077912208947, 0.04508077912208947, 0.04508077912208947, 0.23556543061468402, 0.20191322624115773, 0.11778271530734201, 0.13460881749410517, 0.11778271530734201, 0.05047830656028943, 0.05047830656028943, 0.03365220437352629, 0.06730440874705258, 0.32542350840737255, 0.07593215196172026, 0.10847450280245752, 0.16271175420368628, 0.07593215196172026, 0.13016940336294902, 0.04338980112098301, 0.05423725140122876, 0.010847450280245752, 0.010847450280245752, 0.29752003958417533, 0.12315945824647258, 0.22141026201613048, 0.06642307860483915, 0.11070513100806524, 0.05812019377923425, 0.04013060999042365, 0.04566586654082691, 0.03459535344002039, 0.002767628275201631, 0.15276724611186984, 0.22066379993936755, 0.15276724611186984, 0.1867155230256187, 0.10184483074124656, 0.016974138456874427, 0.033948276913748854, 0.10184483074124656, 0.033948276913748854, 0.5998798598191406, 0.7370738129624794, 0.13036015314053565, 0.34762707504142837, 0.10863346095044636, 0.13036015314053565, 0.043453384380178546, 0.08690676876035709, 0.06518007657026782, 0.043453384380178546, 0.043453384380178546, 0.362758915831499, 0.18408661400404425, 0.1895009261806338, 0.09745761917861166, 0.04872880958930583, 0.03790018523612676, 0.027071560882947685, 0.01624293652976861, 0.03248587305953722, 0.005414312176589537, 0.6290751301709753, 0.15726878254274382, 0.07863439127137191, 0.07863439127137191, 0.15726878254274382, 0.5996557988220285, 0.2370176354802838, 0.18080191424457545, 0.1185088177401419, 0.12762488064322974, 0.11395078628859798, 0.06988981559034009, 0.06685112795597747, 0.03950293924671396, 0.04406097069825788, 0.0015193438171813064, 0.06174317405066859, 0.18522952215200578, 0.18522952215200578, 0.12348634810133718, 0.12348634810133718, 0.06174317405066859, 0.15435793512667148, 0.030871587025334296, 0.030871587025334296, 0.7909808147302416, 0.09226943729102847, 0.18453887458205695, 0.5536166237461708, 0.09226943729102847, 0.09226943729102847, 0.46697913237467287, 0.23348956618733643, 0.41111434158088694, 0.614974145081071, 0.5523248766147864, 0.2761624383073932, 0.3079669230443646, 0.1539834615221823, 0.1539834615221823, 0.1539834615221823, 0.6149769423550898, 0.7607634287417789, 0.08008036092018726, 0.08008036092018726, 0.04004018046009363, 0.04004018046009363, 0.6699344059763029, 0.542561962424903, 0.5999369021915962, 0.7454551238075338, 0.39257615257556133, 0.5830847908639868, 0.11134333579489711, 0.11134333579489711, 0.11134333579489711, 0.11134333579489711, 0.3340300073846913, 0.11134333579489711, 0.11134333579489711, 0.19669882479004477, 0.19669882479004477, 0.19669882479004477, 0.39339764958008955, 0.5435770284615983, 0.5440158440631626, 0.7385303610721833, 0.6053329827050595, 0.4014310564485897, 0.5989203798644682, 0.2395681519457873, 0.11978407597289364, 0.0738227943805383, 0.1476455887610766, 0.0738227943805383, 0.3691139719026915, 0.0738227943805383, 0.0738227943805383, 0.0738227943805383, 0.5440045336017333, 0.2598997110220005, 0.04331661850366674, 0.2598997110220005, 0.04331661850366674, 0.08663323700733348, 0.04331661850366674, 0.04331661850366674, 0.08663323700733348, 0.12994985551100025, 0.04331661850366674, 0.41416564421430324, 0.22016198196581976, 0.07338732732193992, 0.2935493092877597, 0.07338732732193992, 0.07338732732193992, 0.14677465464387984, 0.07338732732193992, 0.07338732732193992, 0.29228457089382054, 0.19485638059588037, 0.29228457089382054, 0.19485638059588037, 0.7428292184210195, 0.16509924747018265, 0.16509924747018265, 0.16509924747018265, 0.4952977424105479, 0.6084965278692449, 0.5936238964375296, 0.22943823363810942, 0.22943823363810942, 0.22943823363810942, 0.4485645671432808, 0.1121411417858202, 0.3364234253574606, 0.1121411417858202, 0.22132862857155164, 0.4426572571431033, 0.21840115779222533, 0.43680231558445065, 0.21840115779222533, 0.10920057889611266, 0.1380338009257635, 0.11042704074061081, 0.11042704074061081, 0.19324732129606892, 0.11042704074061081, 0.19324732129606892, 0.11042704074061081, 0.027606760185152703, 0.5440162274473954, 0.06678360675753052, 0.10017541013629577, 0.20035082027259155, 0.2671344270301221, 0.3339180337876526, 0.03339180337876526, 0.03339180337876526, 0.03339180337876526, 0.27677571511469806, 0.08303271453440941, 0.12454907180161412, 0.08303271453440941, 0.12454907180161412, 0.08303271453440941, 0.15222664331308391, 0.05535514302293961, 0.013838785755734903, 0.3503663130339247, 0.07990810648142142, 0.21513720975767303, 0.07376132905977362, 0.04302744195153461, 0.05532099679483021, 0.09834843874636481, 0.04917421937318241, 0.04302744195153461, 0.2962473322729559, 0.08887419968188677, 0.14812366613647795, 0.08887419968188677, 0.029624733227295592, 0.059249466454591185, 0.14812366613647795, 0.029624733227295592, 0.029624733227295592, 0.17087730392841582, 0.40747664782929927, 0.09201085596145467, 0.1051552639559482, 0.06572203997246763, 0.02628881598898705, 0.07886644796696116, 0.02628881598898705, 0.02628881598898705, 0.5830894557180026, 0.1283080338551785, 0.1283080338551785, 0.3336008880234641, 0.15396964062621418, 0.10264642708414279, 0.025661606771035697, 0.07698482031310709, 0.025661606771035697, 0.025661606771035697, 0.615018426599953, 0.6149777323036727, 0.6150041698287139, 0.33587645772235825, 0.14927842565438143, 0.07997058517199006, 0.11729019158558542, 0.06930784048239137, 0.11195881924078607, 0.09063332986158873, 0.03198823406879602, 0.010662744689598673, 0.005331372344799337, 0.7741400303809282, 0.23006606560493975, 0.30428092547750096, 0.1335867477706102, 0.08905783184707346, 0.037107429936280606, 0.1039008038215857, 0.037107429936280606, 0.037107429936280606, 0.022264457961768364, 0.007421485987256122, 0.5479762220136439, 0.21357196251904717, 0.15255140179931942, 0.061020560719727765, 0.1830616821591833, 0.061020560719727765, 0.1830616821591833, 0.030510280359863882, 0.030510280359863882, 0.030510280359863882, 0.030510280359863882, 0.5617268245210966, 0.33298519439761054, 0.08324629859940263, 0.08324629859940263, 0.33298519439761054, 0.08324629859940263, 0.08324629859940263, 0.5905192913223168, 0.8641808182938823, 0.6151709010404844, 0.2923998280719917, 0.27151412606684944, 0.1879713180462804, 0.020885702005142268, 0.0626571060154268, 0.020885702005142268, 0.08354280802056907, 0.020885702005142268, 0.041771404010284535, 0.12765863407622163, 0.12765863407622163, 0.12765863407622163, 0.12765863407622163, 0.3829759022286649, 0.12765863407622163, 0.12765863407622163, 0.17935659432540307, 0.13949957336420238, 0.11292822605673526, 0.17935659432540307, 0.18599943115226983, 0.02657134730746712, 0.09299971557613491, 0.01992851048060034, 0.05978553144180102, 0.22240878229028904, 0.1565098838339071, 0.08237362307047742, 0.22240878229028904, 0.0576615361493342, 0.1400351592198116, 0.04942417384228645, 0.03294944922819097, 0.024712086921143225, 0.5617319401452971], \"Term\": [\"I\", \"I\", \"I\", \"I\", \"I\", \"I\", \"I\", \"I\", \"I\", \"I\", \"a\", \"a\", \"a\", \"a\", \"a\", \"a\", \"a\", \"a\", \"a\", \"a\", \"aadland\", \"aadland\", \"aadland\", \"aadland\", \"aadland\", \"aadland\", \"aadland\", \"aadland\", \"abortion\", \"access\", \"account\", \"accountability\", \"admire\", \"afternoon\", \"afternoon\", \"afternoon\", \"afternoon\", \"afternoon\", \"air\", \"air\", \"air\", \"all\", \"all\", \"all\", \"all\", \"all\", \"all\", \"all\", \"all\", \"all\", \"alleviate\", \"amendment\", \"america\", \"america\", \"america\", \"america\", \"america\", \"america\", \"america\", \"american\", \"american\", \"american\", \"american\", \"american\", \"american\", \"american\", \"american\", \"an\", \"an\", \"an\", \"an\", \"an\", \"an\", \"an\", \"an\", \"and\", \"and\", \"and\", \"and\", \"and\", \"and\", \"and\", \"and\", \"and\", \"and\", \"andrew\", \"anymore\", \"anything\", \"anything\", \"appeal\", \"as\", \"as\", \"as\", \"as\", \"as\", \"as\", \"as\", \"as\", \"as\", \"at\", \"at\", \"at\", \"at\", \"at\", \"at\", \"at\", \"at\", \"attempt\", \"audience\", \"audio\", \"avs\", \"avs\", \"avs\", \"backs\", \"ballot\", \"ballot\", \"ballot\", \"ballot\", \"ballot\", \"ballot\", \"baseless\", \"battle\", \"be\", \"be\", \"be\", \"be\", \"be\", \"be\", \"be\", \"be\", \"be\", \"be\", \"beacon\", \"behind\", \"behind\", \"behind\", \"behind\", \"beyond\", \"biden\", \"biden\", \"biden\", \"biden\", \"biden\", \"biden\", \"biden\", \"biden\", \"biden\", \"birthday\", \"birthday\", \"birthday\", \"blame\", \"blame\", \"blame\", \"blessed\", \"blessed\", \"blind\", \"branch\", \"brauchler\", \"brewery\", \"brewing\", \"bs\", \"burden\", \"burden\", \"bureau\", \"butler\", \"by\", \"by\", \"by\", \"by\", \"by\", \"by\", \"by\", \"by\", \"by\", \"cable\", \"campaign\", \"campaign\", \"campaign\", \"campaign\", \"campaign\", \"campaign\", \"campaign\", \"campaign\", \"campaign\", \"can\", \"can\", \"can\", \"can\", \"can\", \"can\", \"can\", \"can\", \"can\", \"candidacy\", \"capital\", \"capital\", \"caplis\", \"caplis\", \"cd\", \"cd\", \"cd\", \"cd\", \"cd\", \"cd\", \"cd\", \"cd\", \"cd\", \"censor\", \"certain\", \"chair\", \"chair\", \"channel\", \"check\", \"check\", \"check\", \"check\", \"check\", \"check\", \"check\", \"check\", \"children\", \"children\", \"china\", \"china\", \"china\", \"china\", \"china\", \"china\", \"china\", \"click\", \"close\", \"close\", \"colorado\", \"colorado\", \"colorado\", \"colorado\", \"colorado\", \"colorado\", \"colorado\", \"colorado\", \"colorado\", \"colorado\", \"colorados\", \"colorados\", \"colorados\", \"combine\", \"combine\", \"combine\", \"come\", \"come\", \"come\", \"come\", \"come\", \"come\", \"come\", \"come\", \"commandment\", \"community\", \"community\", \"community\", \"community\", \"community\", \"concerned\", \"concerned\", \"condition\", \"condolence\", \"congress\", \"congress\", \"congress\", \"congress\", \"congress\", \"congress\", \"congress\", \"congress\", \"congressman\", \"congressman\", \"congressman\", \"congressman\", \"congressman\", \"congressman\", \"congressman\", \"congressman\", \"congressman\", \"conservative\", \"conservative\", \"conservative\", \"conservative\", \"conservative\", \"consider\", \"consider\", \"consider\", \"consider\", \"consider\", \"consider\", \"country\", \"country\", \"country\", \"country\", \"country\", \"country\", \"country\", \"country\", \"country\", \"course\", \"courtney\", \"crack\", \"craft\", \"creation\", \"credit\", \"crime\", \"crime\", \"crime\", \"crime\", \"crime\", \"crime\", \"crime\", \"crime\", \"crime\", \"cripple\", \"daily\", \"dan\", \"dan\", \"dance\", \"december\", \"decorate\", \"dedicate\", \"demonstrate\", \"denmark\", \"deny\", \"derail\", \"devastate\", \"devastate\", \"die\", \"die\", \"die\", \"die\", \"die\", \"dillon\", \"direction\", \"disaster\", \"disaster\", \"discouraged\", \"discouraged\", \"discover\", \"discuss\", \"discuss\", \"discuss\", \"discuss\", \"discuss\", \"dispense\", \"dissatisfied\", \"divisiveness\", \"dm\", \"do\", \"do\", \"do\", \"do\", \"do\", \"do\", \"do\", \"do\", \"do\", \"do\", \"doug\", \"dow\", \"duty\", \"duty\", \"economic\", \"economic\", \"economic\", \"economic\", \"economic\", \"economic\", \"economic\", \"economic\", \"economic\", \"economy\", \"economy\", \"economy\", \"economy\", \"economy\", \"economy\", \"economy\", \"economy\", \"economy\", \"ed\", \"ed\", \"ed\", \"education\", \"education\", \"electricity\", \"end\", \"end\", \"end\", \"end\", \"end\", \"endeavor\", \"endorse\", \"endorse\", \"endorse\", \"endorsement\", \"endorsement\", \"endorsement\", \"endorsement\", \"endorsement\", \"endorsement\", \"endorsement\", \"endorsement\", \"endorsement\", \"energy\", \"energy\", \"energy\", \"energy\", \"energy\", \"energy\", \"energy\", \"energy\", \"energy\", \"enough\", \"enough\", \"enough\", \"enough\", \"enough\", \"enough\", \"entire\", \"entire\", \"entire\", \"environment\", \"environment\", \"environment\", \"equip\", \"equip\", \"erik\", \"erik\", \"erik\", \"erik\", \"erik\", \"erik\", \"erik\", \"eriks\", \"eriks\", \"event\", \"event\", \"event\", \"event\", \"excellence\", \"exceptional\", \"excite\", \"exclusive\", \"executive\", \"expose\", \"extinction\", \"extraordinary\", \"extraordinary\", \"extraordinary\", \"fact\", \"family\", \"family\", \"family\", \"family\", \"family\", \"family\", \"family\", \"family\", \"family\", \"family\", \"february\", \"feel\", \"feel\", \"feel\", \"feel\", \"feel\", \"feeling\", \"fentanyl\", \"fentanyl\", \"fentanyl\", \"fentanyl\", \"fentanyl\", \"field\", \"field\", \"financial\", \"find\", \"find\", \"find\", \"find\", \"find\", \"find\", \"find\", \"fine\", \"firmly\", \"flour\", \"football\", \"for\", \"for\", \"for\", \"for\", \"for\", \"for\", \"for\", \"for\", \"for\", \"force\", \"force\", \"force\", \"force\", \"freely\", \"from\", \"from\", \"from\", \"from\", \"from\", \"from\", \"from\", \"from\", \"from\", \"frontier\", \"funding\", \"fundraiser\", \"fundraising\", \"future\", \"future\", \"future\", \"future\", \"future\", \"future\", \"future\", \"future\", \"future\", \"game\", \"gas\", \"gas\", \"gas\", \"gas\", \"gas\", \"gas\", \"george\", \"george\", \"gestapo\", \"get\", \"get\", \"get\", \"get\", \"get\", \"get\", \"get\", \"get\", \"get\", \"get\", \"global\", \"global\", \"global\", \"global\", \"global\", \"global\", \"globe\", \"god\", \"god\", \"god\", \"god\", \"gop\", \"gop\", \"gop\", \"gop\", \"gop\", \"gorka\", \"gorsuch\", \"graduate\", \"grassroots\", \"great\", \"great\", \"great\", \"great\", \"great\", \"great\", \"great\", \"great\", \"great\", \"greatly\", \"greg\", \"greg\", \"grid\", \"guardian\", \"guy\", \"happen\", \"happen\", \"happen\", \"hashtag\", \"hashtag\", \"hashtag\", \"hashtag\", \"have\", \"have\", \"have\", \"have\", \"have\", \"have\", \"have\", \"have\", \"have\", \"haven\", \"havoc\", \"healthcare\", \"heartfelt\", \"heedless\", \"help\", \"help\", \"help\", \"help\", \"help\", \"help\", \"help\", \"help\", \"help\", \"here\", \"here\", \"here\", \"here\", \"here\", \"here\", \"hesitation\", \"hey\", \"hey\", \"hey\", \"hiding\", \"himself\", \"hinder\", \"hinder\", \"his\", \"his\", \"his\", \"his\", \"his\", \"his\", \"his\", \"hold\", \"hold\", \"hold\", \"hold\", \"hold\", \"hold\", \"hold\", \"homicide\", \"housing\", \"how\", \"how\", \"how\", \"how\", \"how\", \"how\", \"how\", \"how\", \"hyde\", \"if\", \"if\", \"if\", \"if\", \"if\", \"if\", \"if\", \"if\", \"if\", \"illicit\", \"immgration\", \"impact\", \"impact\", \"in\", \"in\", \"in\", \"in\", \"in\", \"in\", \"in\", \"in\", \"in\", \"in\", \"infest\", \"inflation\", \"inflation\", \"inflation\", \"inflation\", \"inflation\", \"inflation\", \"inflation\", \"inflation\", \"inflation\", \"inflation\", \"influx\", \"insidious\", \"instability\", \"instability\", \"instability\", \"integrity\", \"integrity\", \"integrity\", \"integrity\", \"integrity\", \"integrity\", \"integrity\", \"interested\", \"interior\", \"invasion\", \"it\", \"it\", \"it\", \"it\", \"it\", \"it\", \"it\", \"it\", \"it\", \"its\", \"its\", \"its\", \"its\", \"its\", \"its\", \"its\", \"its\", \"j\", \"january\", \"january\", \"joint\", \"jordan\", \"july\", \"justice\", \"khow\", \"khow\", \"khow\", \"khow\", \"kiple\", \"know\", \"know\", \"know\", \"know\", \"know\", \"know\", \"kvor\", \"labor\", \"lamborn\", \"late\", \"launch\", \"launch\", \"law\", \"law\", \"law\", \"law\", \"law\", \"law\", \"law\", \"leadership\", \"leadership\", \"leadership\", \"leadership\", \"leadership\", \"leadership\", \"leadership\", \"leadership\", \"leadership\", \"leadership\", \"leadville\", \"leadville\", \"leadville\", \"level\", \"level\", \"level\", \"lightning\", \"like\", \"like\", \"like\", \"like\", \"like\", \"like\", \"like\", \"like\", \"like\", \"line\", \"line\", \"lion\", \"lion\", \"listen\", \"listen\", \"listen\", \"listen\", \"logo\", \"logo\", \"look\", \"look\", \"look\", \"look\", \"look\", \"look\", \"look\", \"look\", \"loss\", \"loss\", \"love\", \"love\", \"love\", \"love\", \"love\", \"love\", \"maintain\", \"make\", \"make\", \"make\", \"make\", \"make\", \"make\", \"make\", \"make\", \"make\", \"making\", \"mandy\", \"mandy\", \"marketing\", \"massive\", \"master\", \"meet\", \"meet\", \"meet\", \"meet\", \"meet\", \"meet\", \"meet\", \"meet\", \"meet\", \"meetings\", \"memory\", \"mental\", \"mess\", \"michael\", \"middle\", \"middle\", \"mike\", \"minute\", \"minute\", \"minute\", \"minute\", \"minute\", \"mispronounce\", \"miss\", \"miss\", \"model\", \"model\", \"more\", \"more\", \"more\", \"more\", \"more\", \"more\", \"more\", \"more\", \"more\", \"more\", \"mother\", \"mother\", \"mourn\", \"mouth\", \"my\", \"my\", \"my\", \"my\", \"my\", \"my\", \"my\", \"my\", \"my\", \"my\", \"nancy\", \"nancy\", \"nancy\", \"nancy\", \"nancy\", \"nancy\", \"nationwide\", \"natural\", \"natural\", \"navigate\", \"nd\", \"neil\", \"never\", \"never\", \"never\", \"never\", \"news\", \"news\", \"news\", \"news\", \"news\", \"news\", \"nice\", \"no\", \"no\", \"no\", \"no\", \"no\", \"no\", \"no\", \"no\", \"no\", \"not\", \"not\", \"not\", \"not\", \"not\", \"not\", \"not\", \"not\", \"not\", \"nugent\", \"oak\", \"oath\", \"oath\", \"of\", \"of\", \"of\", \"of\", \"of\", \"of\", \"of\", \"of\", \"of\", \"of\", \"office\", \"office\", \"office\", \"office\", \"often\", \"often\", \"often\", \"on\", \"on\", \"on\", \"on\", \"on\", \"on\", \"on\", \"on\", \"on\", \"on\", \"online\", \"online\", \"op\", \"op\", \"our\", \"our\", \"our\", \"our\", \"our\", \"our\", \"our\", \"our\", \"our\", \"out\", \"out\", \"out\", \"out\", \"out\", \"out\", \"out\", \"out\", \"out\", \"overdue\", \"overdue\", \"overdue\", \"overwhelming\", \"overwhelming\", \"overwhelming\", \"own\", \"own\", \"own\", \"own\", \"own\", \"own\", \"p\", \"parella\", \"parfet\", \"path\", \"peace\", \"peace\", \"peace\", \"peace\", \"peace\", \"peace\", \"peace\", \"peddler\", \"peddler\", \"peery\", \"pelosi\", \"pelosi\", \"pelosi\", \"pelosi\", \"pelosi\", \"pelosi\", \"pelosi\", \"pelosi\", \"pelosi\", \"pelosi\", \"people\", \"people\", \"people\", \"people\", \"people\", \"people\", \"people\", \"people\", \"people\", \"people\", \"personal\", \"personal\", \"pervasive\", \"pessimistic\", \"petition\", \"petition\", \"petition\", \"petition\", \"pick\", \"picos\", \"play\", \"play\", \"please\", \"please\", \"please\", \"please\", \"please\", \"please\", \"please\", \"plow\", \"plow\", \"pm\", \"pm\", \"pm\", \"pm\", \"pm\", \"pm\", \"poem\", \"policy\", \"policy\", \"policy\", \"policy\", \"policy\", \"policy\", \"policy\", \"policy\", \"policy\", \"position\", \"position\", \"position\", \"poster\", \"pragmatic\", \"pragmatic\", \"pragmatic\", \"pragmatic\", \"prepare\", \"prepare\", \"president\", \"president\", \"president\", \"president\", \"president\", \"prestigious\", \"previous\", \"principle\", \"principle\", \"principle\", \"principle\", \"principle\", \"private\", \"private\", \"problem\", \"problem\", \"productive\", \"profit\", \"protect\", \"protect\", \"protect\", \"protect\", \"protect\", \"protect\", \"protect\", \"protect\", \"protect\", \"proudly\", \"proudly\", \"proudly\", \"proudly\", \"prove\", \"prove\", \"provide\", \"punch\", \"purpose\", \"quote\", \"racist\", \"radio\", \"radio\", \"radio\", \"radio\", \"randall\", \"range\", \"reach\", \"reach\", \"reach\", \"reach\", \"reach\", \"reach\", \"ready\", \"reassure\", \"recommend\", \"recommendation\", \"reel\", \"reel\", \"reflection\", \"reform\", \"remember\", \"renaissance\", \"renew\", \"repeatedly\", \"representative\", \"representative\", \"representative\", \"representative\", \"representative\", \"representative\", \"representative\", \"republican\", \"republican\", \"republican\", \"republican\", \"republican\", \"republican\", \"republican\", \"responder\", \"response\", \"response\", \"response\", \"response\", \"rest\", \"restore\", \"restore\", \"restore\", \"restore\", \"restore\", \"restore\", \"restore\", \"retire\", \"retirement\", \"retirement\", \"risk\", \"risk\", \"risk\", \"risk\", \"rotten\", \"round\", \"rudyard\", \"runaway\", \"russian\", \"s\", \"s\", \"s\", \"s\", \"s\", \"s\", \"s\", \"s\", \"s\", \"sabin\", \"say\", \"say\", \"say\", \"say\", \"say\", \"say\", \"say\", \"say\", \"say\", \"sebastian\", \"secede\", \"sector\", \"sector\", \"seize\", \"seize\", \"select\", \"senate\", \"senate\", \"senate\", \"sensible\", \"sensible\", \"sensible\", \"sensible\", \"sensible\", \"sensible\", \"sensible\", \"sentiment\", \"servant\", \"she\", \"she\", \"she\", \"she\", \"she\", \"she\", \"she\", \"she\", \"sheriff\", \"shortly\", \"show\", \"show\", \"show\", \"show\", \"show\", \"show\", \"show\", \"signing\", \"sincerest\", \"slavery\", \"slogan\", \"smell\", \"snow\", \"social\", \"social\", \"social\", \"social\", \"soft\", \"soft\", \"soft\", \"soft\", \"soft\", \"soft\", \"solution\", \"solution\", \"solution\", \"solution\", \"solution\", \"solution\", \"solution\", \"solution\", \"solution\", \"solution\", \"soul\", \"speak\", \"speak\", \"speak\", \"speak\", \"spend\", \"spend\", \"spokeswoman\", \"st\", \"st\", \"staggering\", \"startling\", \"startling\", \"statue\", \"stem\", \"strategic\", \"strength\", \"strength\", \"strength\", \"strength\", \"strength\", \"strength\", \"strengthen\", \"study\", \"study\", \"study\", \"suicidal\", \"summary\", \"sunday\", \"support\", \"support\", \"support\", \"support\", \"support\", \"support\", \"support\", \"support\", \"support\", \"surpass\", \"surround\", \"sustain\", \"system\", \"tactic\", \"tancredo\", \"target\", \"telegram\", \"tempt\", \"th\", \"th\", \"th\", \"th\", \"th\", \"than\", \"than\", \"than\", \"than\", \"than\", \"than\", \"thank\", \"thank\", \"thank\", \"thank\", \"thank\", \"thank\", \"thank\", \"thank\", \"thank\", \"that\", \"that\", \"that\", \"that\", \"that\", \"that\", \"that\", \"that\", \"that\", \"that\", \"the\", \"the\", \"the\", \"the\", \"the\", \"the\", \"the\", \"the\", \"the\", \"the\", \"their\", \"their\", \"their\", \"their\", \"their\", \"their\", \"their\", \"their\", \"their\", \"then\", \"theory\", \"they\", \"they\", \"they\", \"they\", \"they\", \"they\", \"they\", \"they\", \"they\", \"this\", \"this\", \"this\", \"this\", \"this\", \"this\", \"this\", \"this\", \"this\", \"this\", \"thought\", \"thought\", \"thought\", \"thought\", \"thought\", \"thoughtlessly\", \"to\", \"to\", \"to\", \"to\", \"to\", \"to\", \"to\", \"to\", \"to\", \"to\", \"today\", \"today\", \"today\", \"today\", \"today\", \"today\", \"today\", \"today\", \"today\", \"together\", \"tomorrow\", \"tomorrow\", \"tomorrow\", \"tomorrow\", \"tomorrow\", \"top\", \"top\", \"tragically\", \"trail\", \"troll\", \"troll\", \"truth\", \"truth\", \"truth\", \"truth\", \"tuesday\", \"tune\", \"tune\", \"tune\", \"tune\", \"tune\", \"tv\", \"tyson\", \"unaffiliated\", \"unaffordability\", \"unchecked\", \"unconscionable\", \"under\", \"under\", \"under\", \"under\", \"under\", \"under\", \"under\", \"undermine\", \"undermine\", \"undermine\", \"undermine\", \"unfettered\", \"unfortunately\", \"unit\", \"unmatched\", \"unprecedented\", \"update\", \"update\", \"update\", \"uphold\", \"uphold\", \"uphold\", \"uphold\", \"uphold\", \"uphold\", \"uphold\", \"upward\", \"us\", \"us\", \"us\", \"us\", \"us\", \"us\", \"us\", \"us\", \"us\", \"us\", \"vakoff\", \"very\", \"very\", \"very\", \"very\", \"very\", \"very\", \"very\", \"very\", \"veteran\", \"veteran\", \"veteran\", \"veteran\", \"via\", \"video\", \"video\", \"video\", \"video\", \"virginia\", \"virtual\", \"vision\", \"vision\", \"vision\", \"visit\", \"visit\", \"visit\", \"visit\", \"voice\", \"voice\", \"volunteer\", \"volunteer\", \"volunteer\", \"volunteer\", \"vote\", \"vote\", \"vote\", \"vote\", \"vote\", \"vote\", \"vote\", \"vote\", \"wall\", \"want\", \"want\", \"want\", \"want\", \"want\", \"want\", \"want\", \"want\", \"washington\", \"washington\", \"washington\", \"washington\", \"washington\", \"washington\", \"washington\", \"washington\", \"washington\", \"we\", \"we\", \"we\", \"we\", \"we\", \"we\", \"we\", \"we\", \"we\", \"well\", \"well\", \"well\", \"well\", \"well\", \"well\", \"well\", \"well\", \"well\", \"what\", \"what\", \"what\", \"what\", \"what\", \"what\", \"what\", \"what\", \"what\", \"whatsoever\", \"who\", \"who\", \"who\", \"who\", \"who\", \"who\", \"who\", \"who\", \"who\", \"wholeheartedly\", \"whose\", \"wilkie\", \"will\", \"will\", \"will\", \"will\", \"will\", \"will\", \"will\", \"will\", \"will\", \"will\", \"wise\", \"with\", \"with\", \"with\", \"with\", \"with\", \"with\", \"with\", \"with\", \"with\", \"with\", \"within\", \"work\", \"work\", \"work\", \"work\", \"work\", \"work\", \"work\", \"work\", \"work\", \"work\", \"worker\", \"world\", \"world\", \"world\", \"world\", \"world\", \"world\", \"wrap\", \"wreak\", \"wtf\", \"year\", \"year\", \"year\", \"year\", \"year\", \"year\", \"year\", \"year\", \"year\", \"yesterday\", \"yesterday\", \"yesterday\", \"yesterday\", \"yesterday\", \"yesterday\", \"yesterday\", \"you\", \"you\", \"you\", \"you\", \"you\", \"you\", \"you\", \"you\", \"you\", \"your\", \"your\", \"your\", \"your\", \"your\", \"your\", \"your\", \"your\", \"your\", \"zinke\"]}, \"R\": 30, \"lambda.step\": 0.01, \"plot.opts\": {\"xlab\": \"PC1\", \"ylab\": \"PC2\"}, \"topic.order\": [6, 1, 2, 9, 5, 10, 3, 4, 7, 8]};\n",
       "\n",
       "function LDAvis_load_lib(url, callback){\n",
       "  var s = document.createElement('script');\n",
       "  s.src = url;\n",
       "  s.async = true;\n",
       "  s.onreadystatechange = s.onload = callback;\n",
       "  s.onerror = function(){console.warn(\"failed to load library \" + url);};\n",
       "  document.getElementsByTagName(\"head\")[0].appendChild(s);\n",
       "}\n",
       "\n",
       "if(typeof(LDAvis) !== \"undefined\"){\n",
       "   // already loaded: just create the visualization\n",
       "   !function(LDAvis){\n",
       "       new LDAvis(\"#\" + \"ldavis_el19140231440025680146162279\", ldavis_el19140231440025680146162279_data);\n",
       "   }(LDAvis);\n",
       "}else if(typeof define === \"function\" && define.amd){\n",
       "   // require.js is available: use it to load d3/LDAvis\n",
       "   require.config({paths: {d3: \"https://d3js.org/d3.v5\"}});\n",
       "   require([\"d3\"], function(d3){\n",
       "      window.d3 = d3;\n",
       "      LDAvis_load_lib(\"https://cdn.jsdelivr.net/gh/bmabey/pyLDAvis@3.3.1/pyLDAvis/js/ldavis.v3.0.0.js\", function(){\n",
       "        new LDAvis(\"#\" + \"ldavis_el19140231440025680146162279\", ldavis_el19140231440025680146162279_data);\n",
       "      });\n",
       "    });\n",
       "}else{\n",
       "    // require.js not available: dynamically load d3 & LDAvis\n",
       "    LDAvis_load_lib(\"https://d3js.org/d3.v5.js\", function(){\n",
       "         LDAvis_load_lib(\"https://cdn.jsdelivr.net/gh/bmabey/pyLDAvis@3.3.1/pyLDAvis/js/ldavis.v3.0.0.js\", function(){\n",
       "                 new LDAvis(\"#\" + \"ldavis_el19140231440025680146162279\", ldavis_el19140231440025680146162279_data);\n",
       "            })\n",
       "         });\n",
       "}\n",
       "</script>"
      ],
      "text/plain": [
       "PreparedData(topic_coordinates=              x         y  topics  cluster       Freq\n",
       "topic                                                \n",
       "5      0.030938  0.038831       1        1  23.641628\n",
       "0      0.011474  0.080475       2        1  16.544406\n",
       "1     -0.045362 -0.011514       3        1  15.780927\n",
       "8     -0.039339  0.076846       4        1  11.682511\n",
       "4     -0.014341 -0.094685       5        1   7.901975\n",
       "9     -0.094192  0.039964       6        1   7.327330\n",
       "2      0.004764 -0.026509       7        1   6.692329\n",
       "3     -0.081665 -0.046958       8        1   4.984584\n",
       "6      0.055682 -0.027127       9        1   4.512076\n",
       "7      0.172041 -0.029324      10        1   0.932234, topic_info=         Term        Freq       Total Category  logprob  loglift\n",
       "63        the  722.000000  722.000000  Default  30.0000  30.0000\n",
       "1          be  736.000000  736.000000  Default  29.0000  29.0000\n",
       "36         to  658.000000  658.000000  Default  28.0000  28.0000\n",
       "78         of  336.000000  336.000000  Default  27.0000  27.0000\n",
       "153         I  417.000000  417.000000  Default  26.0000  26.0000\n",
       "..        ...         ...         ...      ...      ...      ...\n",
       "14         in    0.837953  354.094969  Topic10  -5.3757  -1.3710\n",
       "109    people    0.739419   94.371090  Topic10  -5.5008  -0.1738\n",
       "36         to    0.849046  658.178872  Topic10  -5.3626  -1.9778\n",
       "44   colorado    0.715656  113.990303  Topic10  -5.5335  -0.3953\n",
       "19         my    0.732871  193.878120  Topic10  -5.5097  -0.9027\n",
       "\n",
       "[762 rows x 6 columns], token_table=      Topic      Freq   Term\n",
       "term                        \n",
       "153       1  0.191634      I\n",
       "153       2  0.256311      I\n",
       "153       3  0.138935      I\n",
       "153       4  0.124562      I\n",
       "153       5  0.055095      I\n",
       "...     ...       ...    ...\n",
       "198       6  0.140035   your\n",
       "198       7  0.049424   your\n",
       "198       8  0.032949   your\n",
       "198       9  0.024712   your\n",
       "1494      4  0.561732  zinke\n",
       "\n",
       "[1620 rows x 3 columns], R=30, lambda_step=0.01, plot_opts={'xlab': 'PC1', 'ylab': 'PC2'}, topic_order=[6, 1, 2, 9, 5, 10, 3, 4, 7, 8])"
      ]
     },
     "execution_count": 49,
     "metadata": {},
     "output_type": "execute_result"
    }
   ],
   "source": [
    "pyLDAvis.enable_notebook()\n",
    "vis = pyLDAvis.gensim_models.prepare(lda_model, corpus, id2word, mds=\"mmds\", R=30)\n",
    "vis"
   ]
  },
  {
   "cell_type": "code",
   "execution_count": null,
   "id": "9af67764-1870-4a66-994d-0e3429e22c7e",
   "metadata": {},
   "outputs": [],
   "source": []
  }
 ],
 "metadata": {
  "instance_type": "ml.t3.medium",
  "kernelspec": {
   "display_name": "Python 3 (Data Science)",
   "language": "python",
   "name": "python3__SAGEMAKER_INTERNAL__arn:aws:sagemaker:us-east-1:081325390199:image/datascience-1.0"
  },
  "language_info": {
   "codemirror_mode": {
    "name": "ipython",
    "version": 3
   },
   "file_extension": ".py",
   "mimetype": "text/x-python",
   "name": "python",
   "nbconvert_exporter": "python",
   "pygments_lexer": "ipython3",
   "version": "3.7.10"
  }
 },
 "nbformat": 4,
 "nbformat_minor": 5
}
