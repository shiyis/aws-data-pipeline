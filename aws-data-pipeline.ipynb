{
 "cells": [
  {
   "cell_type": "markdown",
   "metadata": {},
   "source": [
    "Final Project - AWS ETL Data Streaming \n",
    "We decided to create a Data Pipeline on AWS that could facilitate the process of building a Natural Language Processing tool. The tool will utilize a simple machine learning algorithm or one/two layer neural network to train a topic modeler or sentiment analyzer or a recommender. The technologies (tentative) that will be used in this project\n",
    "\n",
    "* Terraform to create template for cloud managment and configuration \n",
    "* Lambda and SAM to streamline a simple ETL data pipeline that extracts, processes, and load the data from Twitter API(tentative)\n",
    "* Eventbridge(Cloudwatch events) to log and monitor state changes \n",
    "* S3 Bucket to store the raw retrieved data (potentially utilize DynamoDB to store the parsed and processed data for future analytics)\n",
    "* Sagemaker to create a notebook for hosting the ML project code, fine-tuning  parameters, pipelining and storing the models(Paused)\n",
    "* Pandas to ingest and wrangle the data and preprocess it for ML training\n",
    "* EC2 to create a VM that hosts the workflow or provide workers for training if needed \n",
    "* (Tentative) DynamoDB to store a structured version of the output data for future reference "
   ]
  },
  {
   "cell_type": "markdown",
   "metadata": {},
   "source": [
    "Terraform templapte \n",
    "to create  and manage an aws infrastructure \n"
   ]
  },
  {
   "cell_type": "markdown",
   "metadata": {},
   "source": [
    "Create starter code for terraform tempaltes"
   ]
  },
  {
   "cell_type": "code",
   "execution_count": 1,
   "metadata": {},
   "outputs": [
    {
     "name": "stderr",
     "output_type": "stream",
     "text": [
      "Traceback (most recent call last):\n",
      "  File \"Z:\\nlp\\aws-data-engineering\\aws-data-pipeline\\cdk-tf\\main.py\", line 1, in <module>\n",
      "    from constructs import Construct\n",
      "ModuleNotFoundError: No module named 'constructs'\n"
     ]
    }
   ],
   "source": [
    "import os\n",
    "os.chdir('./cdk-tf/')\n",
    "!python main.py"
   ]
  },
  {
   "cell_type": "code",
   "execution_count": null,
   "metadata": {},
   "outputs": [],
   "source": [
    "!pip install boto3\n",
    "!pip install awswrangler\n",
    "!pip install tweepy"
   ]
  },
  {
   "cell_type": "markdown",
   "metadata": {},
   "source": [
    "Data streaming with Kenesis from Twitter API on EC2"
   ]
  },
  {
   "cell_type": "markdown",
   "metadata": {},
   "source": [
    "Data Wrangling and transformation with Pandas"
   ]
  },
  {
   "cell_type": "markdown",
   "metadata": {},
   "source": [
    "Data loading to S3"
   ]
  }
 ],
 "metadata": {
  "kernelspec": {
   "display_name": "Python 3.10.7 64-bit (microsoft store)",
   "language": "python",
   "name": "python3"
  },
  "language_info": {
   "codemirror_mode": {
    "name": "ipython",
    "version": 3
   },
   "file_extension": ".py",
   "mimetype": "text/x-python",
   "name": "python",
   "nbconvert_exporter": "python",
   "pygments_lexer": "ipython3",
   "version": "3.10.7"
  },
  "orig_nbformat": 4,
  "vscode": {
   "interpreter": {
    "hash": "a83dad2faf6f2abb98f4e58cfd44768f1d23e620e50d8b5bb3c0bd70ec1d7354"
   }
  }
 },
 "nbformat": 4,
 "nbformat_minor": 2
}
